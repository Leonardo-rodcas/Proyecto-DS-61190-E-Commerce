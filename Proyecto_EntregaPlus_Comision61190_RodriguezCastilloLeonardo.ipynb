{
  "nbformat": 4,
  "nbformat_minor": 0,
  "metadata": {
    "colab": {
      "provenance": [],
      "gpuType": "T4",
      "collapsed_sections": [
        "YskaY7jR5jxd",
        "45KoRAYLSbn3",
        "zxvqlJ2iZ8Bd"
      ],
      "include_colab_link": true
    },
    "kernelspec": {
      "name": "python3",
      "display_name": "Python 3"
    },
    "language_info": {
      "name": "python"
    },
    "gpuClass": "standard"
  },
  "cells": [
    {
      "cell_type": "markdown",
      "metadata": {
        "id": "view-in-github",
        "colab_type": "text"
      },
      "source": [
        "<a href=\"https://colab.research.google.com/github/Leonardo-rodcas/Proyecto-DS-61190-E-Commerce/blob/main/Proyecto_EntregaPlus_Comision61190_RodriguezCastilloLeonardo.ipynb\" target=\"_parent\"><img src=\"https://colab.research.google.com/assets/colab-badge.svg\" alt=\"Open In Colab\"/></a>"
      ]
    },
    {
      "cell_type": "markdown",
      "source": [
        "# **Presentacion de Proyecto ENTREGA PLUS**"
      ],
      "metadata": {
        "id": "6lbmWPQpa6fV"
      }
    },
    {
      "cell_type": "markdown",
      "source": [
        "## **1.- Hipótesis.**\n",
        "La zona geográfica donde se envían los pedidos influye en nuestros indicadores de:\n",
        "* Puntualidad de Entrega de Pedidos\n",
        "* Efectividad de Entrega de Pedidos\n",
        "\n",
        "Con lo cual entendemos que sabiendo donde debemos entregar cada uo de ellos, podemos establecer una probabilidad de NO ENTREGA, que nos va a permitir tomar acciones para que cada pedido con baja probalidad de entrega, sea finalmente entregado en su primer visita."
      ],
      "metadata": {
        "id": "fC1WUEqAbDzk"
      }
    },
    {
      "cell_type": "markdown",
      "source": [
        "## **2. - Objetivo y alcance.**\n",
        "El Objetivo del proyecto es poder crear un modelo que pueda identificar para cada pedido, si el mismo se va a entregar o no en la primer visita que realice nuestro proveedor logístico."
      ],
      "metadata": {
        "id": "HWEhdmIkbZDb"
      }
    },
    {
      "cell_type": "markdown",
      "source": [
        "# **Data Acquisition**"
      ],
      "metadata": {
        "id": "YskaY7jR5jxd"
      }
    },
    {
      "cell_type": "markdown",
      "source": [
        "## **Metadata**"
      ],
      "metadata": {
        "id": "45KoRAYLSbn3"
      }
    },
    {
      "cell_type": "markdown",
      "source": [
        "**1.- Descripción de los datos.**\n",
        "\n",
        "El set de datos es acerca de pedidos de la empresa EPSILON S.A., los cuales hacen referencia a los detalles para la entrega de los mismos a nuestros clientes.\n",
        "\n",
        "**2.- Detalles generales del dataset**\n",
        "* Cantidad de Registros: 190151\n",
        "* Volumen de Crecimiento Estimado Diario: 5000\n",
        "* Datos del año 2024\n",
        "\n",
        "**3.- Diccionario de datos.**\n",
        "\n",
        "| Columna | Tipo de Dato |\n",
        "|---------|--------------|\n",
        "| Entrega |  int64 |\n",
        "| Fecha Pedido | datetime64 |\n",
        "| Distribuidor | category      \n",
        "| Distribuidor Sigla | category      \n",
        "| Tipo de Distribución Comercial | category      \n",
        "| Codigo Postal | int64         \n",
        "| Id Provincia | int64         \n",
        "| Provincia | category      \n",
        "| Localidad | category      \n",
        "| Departamento | category      \n",
        "| Aglomerado | category      \n",
        "| Id Zona Logistica | int64         \n",
        "| Zona Logistica | category      \n",
        "| Zona E-Commerce | category      \n",
        "| Periodo | category      \n",
        "| Año | int64         \n",
        "| Mes Sigla | category      \n",
        "| Mes Nombre | category      \n",
        "| Mes Numero | int64         \n",
        "| Trimestre Sigla | category      \n",
        "| Trimestre Nombre | category      \n",
        "| Trimestre Numero | int64         \n",
        "| Semestre | int64         \n",
        "| Año Semana | category      \n",
        "| Dia Semana Sigla | category      \n",
        "| Dia Semana Numero | int64         \n",
        "| Dia Semana Nombre | category      \n",
        "| Hora Pedido | int64         \n",
        "| Visita 1 Fecha | datetime64[ns]\n",
        "| Visita 1 Hora | object        \n",
        "| ID Visita 1 Motivo | category      \n",
        "| Visita 1 Motivo | category      \n",
        "| Dias Primer Visita | int64         \n",
        "| Flag Visita 1 Puntual | category      \n",
        "| Estado Visita | category      \n",
        "| Estado Distribución | category      \n",
        "| Calidad de la Direccion | category      \n",
        "| Cantidad de Pedidos | int64         \n",
        "| Visita 1 Puntual | int64         \n",
        "| Cant. Primera Visita | int64         \n",
        "| Cant. Vis. y Ent. 1ra Visita | int64         \n",
        "| Cantidad Celulares | int64         \n",
        "| Cantidad Accesorios | int64         \n",
        "| Peso Bruto | float64       \n",
        "| Valor Total en Pesos | float64       \n",
        "| Valor Total en Dolares | float64       \n",
        "| Provincia Sigla | object        \n",
        "| Hora Visita | Int64         "
      ],
      "metadata": {
        "id": "DhBTgO0upzBS"
      }
    },
    {
      "cell_type": "markdown",
      "source": [
        "## **Importacion de Dataset**"
      ],
      "metadata": {
        "id": "cA4gBiRtbt_r"
      }
    },
    {
      "cell_type": "code",
      "execution_count": null,
      "metadata": {
        "id": "pDjHAyfpRktO"
      },
      "outputs": [],
      "source": [
        "#Instalación de Librerías\n",
        "!pip install dataprep\n",
        "!pip install chart_studio\n",
        "!pip install mglearn\n",
        "!pip install gapminder\n",
        "\n",
        "#Importación de Librerías\n",
        "import numpy as np\n",
        "import pandas as pd\n",
        "import matplotlib as mpl\n",
        "import matplotlib.pyplot as plt\n",
        "import matplotlib.style as style\n",
        "import matplotlib.animation as animation\n",
        "import seaborn as sns\n",
        "import plotly.express as px\n",
        "import chart_studio.plotly as py\n",
        "import missingno as msno\n",
        "\n",
        "import requests\n",
        "#La librería requests en Python es una herramienta poderosa y popular que se utiliza para realizar solicitudes HTTP de manera sencilla\n",
        "#y eficiente. Permite interactuar con páginas web, APIs RESTful, y otros servicios basados en HTTP\n",
        "import json\n",
        "\n",
        "import warnings\n",
        "warnings.filterwarnings(\"ignore\", category=FutureWarning, module=\"seaborn\")\n",
        "#La librería warnings en Python se utiliza para gestionar y controlar mensajes de advertencia (warnings) durante la ejecución de un programa.\n",
        "#A diferencia de los errores, que detienen la ejecución del programa, los warnings son mensajes informativos que indican situaciones potencialmente\n",
        "#problemáticas, pero permiten que el programa continúe ejecutándose\n",
        "\n",
        "import mglearn\n",
        "#La librería mglearn (abreviatura de mglearn) es una herramienta complementaria que facilita el aprendizaje y la enseñanza de Machine Learning en Python.\n",
        "#Está diseñada principalmente para ilustrar conceptos básicos de aprendizaje automático de manera visual e intuitiva\n",
        "\n",
        "import graphviz\n",
        "#La librería graphviz en Python se utiliza para trabajar con Graphviz, una herramienta de visualización gráfica que permite crear y\n",
        "#representar grafos dirigidos y no dirigidos. Es especialmente útil para crear diagramas jerárquicos, flujos de trabajo, árboles de decisión,\n",
        "#redes de dependencias y otras estructuras gráficas\n",
        "\n",
        "import folium  #needed for interactive map\n",
        "from folium.plugins import HeatMap\n",
        "#La librería folium en Python se utiliza para crear mapas interactivos de manera sencilla y visualmente atractiva. Es una herramienta ideal para trabajar\n",
        "#con datos geoespaciales y visualizar información geográfica superpuesta en mapas\n",
        "\n",
        "from IPython.display import display\n",
        "from IPython.display import HTML\n",
        "#La librería IPython.display de Python es un módulo utilizado principalmente en entornos interactivos como Jupyter Notebooks. Su función es proporcionar\n",
        "#herramientas para mostrar salidas de una manera más rica y flexible, como imágenes, gráficos, HTML, audio y más. Esto mejora la experiencia de visualización\n",
        "#y presentación de resultados\n",
        "#La librería display en Python es parte del paquete IPython.display, que proporciona funciones para mostrar objetos de manera interactiva y enriquecida\n",
        "#dentro de entornos como Jupyter Notebook o Google Colab.\n",
        "#Permite mostrar no solo texto, sino también imágenes, gráficos, HTML, Markdown, audio, video y otros tipos de datos de forma estructurada\n",
        "#y visualmente atractiva\n",
        "#La función HTML se usa para mostrar contenido HTML directamente en el cuaderno de Jupyter. Esto es especialmente útil para integrar código HTML en tus\n",
        "#celdas y ver cómo se presenta sin tener que crear archivos externos.\n",
        "\n",
        "from bokeh.io import show, output_file\n",
        "#La librería bokeh.io es parte del ecosistema de Bokeh en Python, una herramienta para crear visualizaciones interactivas de alta calidad que se pueden\n",
        "#integrar fácilmente en aplicaciones web o presentaciones.\n",
        "#Bokeh es especialmente útil cuando se quiere trabajar con gráficos dinámicos y visualizaciones interactivas para la web, como gráficos de líneas, barras,\n",
        "#dispersión, mapas, y más, todo en tiempo real.\n",
        "#Las funciones show y output_file provienen de la librería Bokeh, que se utiliza para crear visualizaciones interactivas en Python. Estas funciones son\n",
        "#clave para mostrar los gráficos creados con Bokeh, ya sea en un navegador web o como parte de un archivo HTML\n",
        "\n",
        "from bokeh.plotting import figure\n",
        "#La librería bokeh.plotting de Bokeh en Python se utiliza para crear visualizaciones interactivas y dinámicas en el navegador web. Permite generar gráficos\n",
        "#y visualizaciones atractivas que los usuarios pueden explorar de manera interactiva, como hacer zoom, mover, o seleccionar puntos en los gráficos.\n",
        "#Bokeh es especialmente útil para proyectos que requieren visualización web o dashboard interactivo.\n",
        "#La función figure de la librería Bokeh en Python es el núcleo para crear gráficos interactivos y personalizados. Bokeh es una biblioteca poderosa para\n",
        "#la visualización de datos, y la función figure actúa como un lienzo donde puedes agregar elementos visuales, como gráficos de líneas, barras, puntos, etc.\n",
        "\n",
        "from bokeh.models import DatetimeTickFormatter\n",
        "#bokeh.models contiene modelos que proporcionan herramientas, widgets y componentes que puedes utilizar para personalizar y mejorar las visualizaciones\n",
        "#en Bokeh.\n",
        "#Estos modelos permiten añadir interactividad, controlar las propiedades visuales de los elementos gráficos, y configurar la forma en que los gráficos\n",
        "#responden a las acciones del usuario.\n",
        "\n",
        "from mlxtend.plotting import plot_decision_regions\n",
        "#La librería mlxtend.plotting es parte de mlxtend (machine learning extensions), una biblioteca de Python que proporciona herramientas adicionales para el\n",
        "#análisis y visualización de datos, especialmente orientadas a machine learning y análisis exploratorio. La sublibrería mlxtend.plotting está diseñada para\n",
        "#facilitar la visualización de resultados y modelos de aprendizaje automático, creando gráficos que son útiles tanto para la interpretación de modelos como\n",
        "#para la presentación de resultados\n",
        "\n",
        "from dataprep.eda import create_report\n",
        "#La librería dataprep.eda es parte de la biblioteca dataprep en Python y está diseñada para facilitar el proceso de exploración y análisis de datos. Es una\n",
        "#herramienta muy útil para realizar un análisis exploratorio de datos (EDA) de manera rápida y eficiente, sin necesidad de escribir mucho código.\n",
        "#dataprep.eda automatiza muchas tareas comunes en la exploración de datos y te permite obtener información valiosa sobre tu conjunto de datos con poco esfuerzo\n",
        "\n",
        "from gapminder import gapminder\n",
        "#Gapminder es una biblioteca utilizada para trabajar con el conjunto de datos Gapminder, que contiene información socioeconómica y de salud\n",
        "#de varios países a lo largo del tiempo. Este conjunto de datos es muy popular en análisis de datos, visualización y aprendizaje de estadísticas.\n",
        "\n",
        "from sklearn.linear_model import LogisticRegression\n",
        "from sklearn.preprocessing import LabelEncoder\n",
        "from sklearn.preprocessing import OneHotEncoder\n",
        "from sklearn.preprocessing import PolynomialFeatures\n",
        "from sklearn.preprocessing import MinMaxScaler\n",
        "label_encoder = LabelEncoder()\n",
        "from sklearn.decomposition import PCA\n",
        "from sklearn.model_selection import train_test_split\n",
        "from sklearn.metrics import confusion_matrix, ConfusionMatrixDisplay, classification_report\n",
        "from sklearn.datasets import make_blobs"
      ]
    },
    {
      "cell_type": "code",
      "source": [
        "#Configuración de Enlaces de los Datasets del Proyecto en Github\n",
        "URL1 = 'https://github.com/Leonardo-rodcas/Proyecto-DS-61190-E-Commerce/raw/refs/heads/main/2024_1_Pedidos_61190.xlsx'\n",
        "URL2 = 'https://github.com/Leonardo-rodcas/Proyecto-DS-61190-E-Commerce/raw/refs/heads/main/2024_2_Pedidos_61190.xlsx'\n",
        "URL3 = 'https://github.com/Leonardo-rodcas/Proyecto-DS-61190-E-Commerce/raw/refs/heads/main/2024_3_Pedidos_61190.xlsx'"
      ],
      "metadata": {
        "id": "VHPOcro3R9zm"
      },
      "execution_count": null,
      "outputs": []
    },
    {
      "cell_type": "code",
      "source": [
        "#Cremos Dataframes con los enlaces anteriores\n",
        "#A todos los campos los importo como String, para luego convertir particularmente los que no lo sean\n",
        "df_2024_Sem_1 = pd.read_excel(URL1, dtype='str')\n",
        "df_2024_Sem_2 = pd.read_excel(URL2, dtype='str')\n",
        "df_2024_Sem_3 = pd.read_excel(URL3, dtype='str')"
      ],
      "metadata": {
        "id": "Hs2xAAvLQPeF"
      },
      "execution_count": null,
      "outputs": []
    },
    {
      "cell_type": "code",
      "source": [
        "#Validamos que todas las columnas del primer dataframe sea String\n",
        "df_2024_Sem_1.info()"
      ],
      "metadata": {
        "id": "acFtVQ__QS9F"
      },
      "execution_count": null,
      "outputs": []
    },
    {
      "cell_type": "code",
      "source": [
        "#Validamos que todas las columnas del segundo dataframe sea String\n",
        "df_2024_Sem_2.info()"
      ],
      "metadata": {
        "id": "O1hqBkhxQW_l"
      },
      "execution_count": null,
      "outputs": []
    },
    {
      "cell_type": "code",
      "source": [
        "#Validamos que todas las columnas del tercer dataframe sea String\n",
        "df_2024_Sem_3.info()"
      ],
      "metadata": {
        "id": "OFnA4-bfQZUV"
      },
      "execution_count": null,
      "outputs": []
    },
    {
      "cell_type": "code",
      "source": [
        "#Creamos Dataframe Auxiliar con datos de Provicias\n",
        "URL3 = 'https://infra.datos.gob.ar/georef/provincias.json'\n",
        "response = requests.get(URL3)\n",
        "datos_json = json.loads(response.text)\n",
        "df_prov = pd.DataFrame.from_dict(datos_json['provincias'])\n",
        "\n",
        "#Renombramos la columna \"Id\" a \"Id Provincia\"\n",
        "df_prov = df_prov.rename(columns={'id': 'Id Provincia'})\n",
        "\n",
        "#Agregamos la columna \"Sigla Provincia\" y le aportamos un valor a cada una\n",
        "df_prov['Provincia Sigla']=\"\"\n",
        "df_prov.loc[df_prov['Id Provincia'] == '02', 'Provincia Sigla'] = 'CABA'\n",
        "df_prov.loc[df_prov['Id Provincia'] == '06', 'Provincia Sigla'] = 'BSAS'\n",
        "df_prov.loc[df_prov['Id Provincia'] == '10', 'Provincia Sigla'] = 'CATA'\n",
        "df_prov.loc[df_prov['Id Provincia'] == '14', 'Provincia Sigla'] = 'CORD'\n",
        "df_prov.loc[df_prov['Id Provincia'] == '18', 'Provincia Sigla'] = 'CTES'\n",
        "df_prov.loc[df_prov['Id Provincia'] == '22', 'Provincia Sigla'] = 'CHAC'\n",
        "df_prov.loc[df_prov['Id Provincia'] == '26', 'Provincia Sigla'] = 'CHUB'\n",
        "df_prov.loc[df_prov['Id Provincia'] == '30', 'Provincia Sigla'] = 'ERIO'\n",
        "df_prov.loc[df_prov['Id Provincia'] == '34', 'Provincia Sigla'] = 'FORM'\n",
        "df_prov.loc[df_prov['Id Provincia'] == '38', 'Provincia Sigla'] = 'JUJU'\n",
        "df_prov.loc[df_prov['Id Provincia'] == '42', 'Provincia Sigla'] = 'PAMP'\n",
        "df_prov.loc[df_prov['Id Provincia'] == '46', 'Provincia Sigla'] = 'RIOJ'\n",
        "df_prov.loc[df_prov['Id Provincia'] == '50', 'Provincia Sigla'] = 'MEND'\n",
        "df_prov.loc[df_prov['Id Provincia'] == '54', 'Provincia Sigla'] = 'MISI'\n",
        "df_prov.loc[df_prov['Id Provincia'] == '58', 'Provincia Sigla'] = 'NEUQ'\n",
        "df_prov.loc[df_prov['Id Provincia'] == '62', 'Provincia Sigla'] = 'RNEG'\n",
        "df_prov.loc[df_prov['Id Provincia'] == '66', 'Provincia Sigla'] = 'SALT'\n",
        "df_prov.loc[df_prov['Id Provincia'] == '70', 'Provincia Sigla'] = 'SJUA'\n",
        "df_prov.loc[df_prov['Id Provincia'] == '74', 'Provincia Sigla'] = 'SLUI'\n",
        "df_prov.loc[df_prov['Id Provincia'] == '78', 'Provincia Sigla'] = 'SCRU'\n",
        "df_prov.loc[df_prov['Id Provincia'] == '82', 'Provincia Sigla'] = 'SAFE'\n",
        "df_prov.loc[df_prov['Id Provincia'] == '86', 'Provincia Sigla'] = 'SEST'\n",
        "df_prov.loc[df_prov['Id Provincia'] == '90', 'Provincia Sigla'] = 'TUCU'\n",
        "df_prov.loc[df_prov['Id Provincia'] == '94', 'Provincia Sigla'] = 'TFUE'\n",
        "\n",
        "#Mostramos resultado\n",
        "df_prov.head(5)"
      ],
      "metadata": {
        "id": "2T1fADC8QfuF"
      },
      "execution_count": null,
      "outputs": []
    },
    {
      "cell_type": "markdown",
      "source": [
        "# **Data Wrangling**"
      ],
      "metadata": {
        "id": "zxvqlJ2iZ8Bd"
      }
    },
    {
      "cell_type": "code",
      "source": [
        "#Concatenamos los 3 Dataframes del año 2024\n",
        "frames = [df_2024_Sem_1, df_2024_Sem_2, df_2024_Sem_3]\n",
        "df_concat = pd.concat(frames)"
      ],
      "metadata": {
        "id": "SGLViFzsQe2H"
      },
      "execution_count": null,
      "outputs": []
    },
    {
      "cell_type": "code",
      "source": [
        "#Hacemos Merge entre el Dataframe principal y el de provicias para agregar la columna Sigla de la provincia\n",
        "df = pd.merge(df_concat, df_prov, left_on = \"Id Provincia\", right_on = \"Id Provincia\", how = 'left')\n",
        "df.shape"
      ],
      "metadata": {
        "id": "3u7t2Ny5QksV"
      },
      "execution_count": null,
      "outputs": []
    },
    {
      "cell_type": "code",
      "source": [
        "#Buscamos registros NaN en los campos geográficos para que quede constancia de los mismos\n",
        "df_geo = df[['Entrega','Codigo Postal','Provincia','Provincia Sigla']]\n",
        "df_geo.loc[df_geo['Provincia Sigla'].isna()]"
      ],
      "metadata": {
        "id": "I46VaJYkQqpV"
      },
      "execution_count": null,
      "outputs": []
    },
    {
      "cell_type": "code",
      "source": [
        "#Borramos registros NaN en todo lo referente a los datos geográficos del Dataframe principal\n",
        "df = df.dropna(subset=['Provincia Sigla'])\n",
        "df.shape"
      ],
      "metadata": {
        "id": "4hK-DQi-QuSm"
      },
      "execution_count": null,
      "outputs": []
    },
    {
      "cell_type": "code",
      "source": [
        "#Cambiamos el tipo de datos de las columnas que corresponda\n",
        "df = df.astype({\n",
        "    'Entrega': 'int64',\n",
        "    'Distribuidor': 'category',\n",
        "    'Distribuidor Sigla': 'category',\n",
        "    'Centro': 'category',\n",
        "    'Centro Sigla': 'category',\n",
        "    'Centro Tipo': 'category',\n",
        "    'Tipo de Distribución Comercial': 'category',\n",
        "    'Codigo Postal': 'int64',\n",
        "    'Id Provincia': 'int64',\n",
        "    'Provincia': 'category',\n",
        "    'Localidad': 'category',\n",
        "    'Departamento': 'category',\n",
        "    'Aglomerado': 'category',\n",
        "    'Id Zona Logistica': 'int64',\n",
        "    'Zona Logistica': 'category',\n",
        "    'Zona E-Commerce': 'category',\n",
        "    'Periodo': 'category',\n",
        "    'Año': 'int64',\n",
        "    'Mes Sigla': 'category',\n",
        "    'Mes Nombre': 'category',\n",
        "    'Mes Numero': 'int64',\n",
        "    'Trimestre Sigla': 'category',\n",
        "    'Trimestre Nombre': 'category',\n",
        "    'Trimestre Numero': 'int64',\n",
        "    'Semestre': 'int64',\n",
        "    'Año Semana': 'category',\n",
        "    'Dia Semana Sigla': 'category',\n",
        "    'Dia Semana Nombre': 'category',\n",
        "    'Dia Semana Numero': 'int64',\n",
        "    'Hora': 'int64',\n",
        "    'ID Visita 1 Motivo': 'category',\n",
        "    'Visita 1 Motivo': 'category',\n",
        "    'Dias Primer Visita': 'int64',\n",
        "    'Flag Visita 1 Puntual': 'category',\n",
        "    'Estado Visita': 'category',\n",
        "    'Estado Distribución': 'category',\n",
        "    'Calidad de la Direccion': 'category',\n",
        "    'Cantidad de Pedidos': 'int64',\n",
        "    'Visita 1 Puntual': 'int64',\n",
        "    'Cant. Primera Visita': 'int64',\n",
        "    'Cant. Vis. y Ent. 1ra Visita': 'int64',\n",
        "    'Cantidad Celulares': 'int64',\n",
        "    'Cantidad Tarjetas SIMs': 'int64',\n",
        "    'Cantidad Accesorios': 'int64',\n",
        "    'Cantidad Accesorios IOT': 'int64',\n",
        "    'Peso Bruto': 'float64',\n",
        "    'Costo Total de Materiales': 'float64',\n",
        "    'Valor Total USD': 'float64',\n",
        "})\n",
        "\n",
        "df['Fecha Pedido'] = pd.to_datetime(df['Fecha Pedido'])\n",
        "df['Visita 1 Fecha'] = pd.to_datetime(df['Visita 1 Fecha'])"
      ],
      "metadata": {
        "id": "61ld0MqYQzwl"
      },
      "execution_count": null,
      "outputs": []
    },
    {
      "cell_type": "code",
      "source": [
        "#Cambiamos nombres de las columnas que necesiten ser más claras en lo descriptivo\n",
        "df = df.rename(columns={'Hora': 'Hora Pedido'})\n",
        "df = df.rename(columns={'Costo Total de Materiales': 'Valor Total en Pesos'})\n",
        "df = df.rename(columns={'Valor Total USD': 'Valor Total en Dolares'})"
      ],
      "metadata": {
        "id": "0WDFaPB4Q3pF"
      },
      "execution_count": null,
      "outputs": []
    },
    {
      "cell_type": "code",
      "source": [
        "#Creamos el campo \"Hora Visita\" en formato de 2 dígitos (los 2 de la izquierda del campo \"Visita 1 Hora\")\n",
        "df['Hora Visita'] = df['Visita 1 Hora'].str.slice(0, 2)\n",
        "\n",
        "#Cambiamos a Nan los valores Numeral (\"#\") del campo \"Hora Visita\"\n",
        "df.loc[df['Hora Visita'] == '#', 'Hora Visita'] = np.nan\n",
        "\n",
        "#Cambiamos el tipo de datos de esta nueva columna a \"Int64\"\n",
        "df['Hora Visita'] = df['Hora Visita'].astype('Int64')\n",
        "\n",
        "#Validamos que haya quedado correcto el cambio\n",
        "df[['Entrega','Hora Visita']]"
      ],
      "metadata": {
        "id": "J7G6Ra02Q7Ts"
      },
      "execution_count": null,
      "outputs": []
    },
    {
      "cell_type": "code",
      "source": [
        "#Borramos las columnas que no aportan valor al Dataframe\n",
        "df = df.drop(['Canal', 'Subcanal', 'Centro', 'Centro Sigla', 'Centro Tipo', 'Puesto de Expedicion', 'Visita 1 Trackeo', 'Visita 1 Transporte', 'Días contrato primera visita'], axis=1)\n",
        "df = df.drop(['Cantidad Tarjetas SIMs', 'Cantidad Accesorios IOT', 'nombre', 'nombre_completo', 'fuente', 'iso_id', 'iso_nombre'], axis=1)\n",
        "df = df.drop(['Latitud Provincia', 'Longitud Provincia', 'Latitud Departamento', 'Longitud Departamento', 'Latitud Localidad', 'Longitud Localidad'], axis=1)\n",
        "df = df.drop(['centroide', 'categoria'], axis=1)"
      ],
      "metadata": {
        "id": "GwAc8v9aQ-n8"
      },
      "execution_count": null,
      "outputs": []
    },
    {
      "cell_type": "markdown",
      "source": [
        "## **Validacion de Estructura de dataset**"
      ],
      "metadata": {
        "id": "gwCUndKBcJOq"
      }
    },
    {
      "cell_type": "code",
      "source": [
        "#Obtenemos meta información de la estructura del DataFrame\n",
        "df.shape"
      ],
      "metadata": {
        "id": "j56-h09lRBg1"
      },
      "execution_count": null,
      "outputs": []
    },
    {
      "cell_type": "code",
      "source": [
        "#Mostramos el Final del Dataset Principal\n",
        "df.tail(5)"
      ],
      "metadata": {
        "id": "cxwdkDqeRLTE"
      },
      "execution_count": null,
      "outputs": []
    },
    {
      "cell_type": "code",
      "source": [
        "#Mostramos el Comienzo del Dataset Principal\n",
        "df.head(5)"
      ],
      "metadata": {
        "id": "TCrbu2t9TVjV",
        "colab": {
          "base_uri": "https://localhost:8080/",
          "height": 293
        },
        "outputId": "da066b7f-4585-4db0-fdef-f9c4c3768b9b",
        "collapsed": true
      },
      "execution_count": null,
      "outputs": [
        {
          "output_type": "execute_result",
          "data": {
            "text/plain": [
              "  SUPERMERCADOS                                         CATEGORIA  \\\n",
              "0  mercadona-es                postres_y_yogures_yogures_liquidos   \n",
              "1  mercadona-es                                    bodega_licores   \n",
              "2  mercadona-es       charcuteria_y_quesos_queso_untable_y_fresco   \n",
              "3  carrefour-es  la_despensa_yogures_y_postres_yogures_desnatados   \n",
              "4  carrefour-es                        la_despensa_helados_bombon   \n",
              "\n",
              "                                         DESCRIPCION    TIPO_ENVASE  PRECIO  \\\n",
              "0       Bebida láctea sin lactosa de fresa Hacendado         Pack-4    14.0   \n",
              "1                      Ginebra 15 botanicals Blumara        Botella  1075.0   \n",
              "2  Queso fresco batido desnatado Hacendado 0% mat...        Tarrina   109.0   \n",
              "3  Yogur bífidus desnatado con lima y limón Danon...  Pack 4x120 G.   208.0   \n",
              "4       Helado After Dinner Magnum sin gluten 10 ud.         10 Ud.    46.0   \n",
              "\n",
              "   PRECIO_TOTAL UNIDADES       FECHA_INGRESO  \n",
              "0         219.0       kg 2020-12-23 00:00:00  \n",
              "1        1536.0        L 2020-11-06 12:00:00  \n",
              "2         218.0       kg 2020-09-23 16:06:00  \n",
              "3         433.0       kg 2020-10-10 00:00:00  \n",
              "4          46.0       ud 2020-10-15 00:00:00  "
            ],
            "text/html": [
              "\n",
              "  <div id=\"df-ba6b49ba-c88e-49bb-87f3-adbcee22ed95\" class=\"colab-df-container\">\n",
              "    <div>\n",
              "<style scoped>\n",
              "    .dataframe tbody tr th:only-of-type {\n",
              "        vertical-align: middle;\n",
              "    }\n",
              "\n",
              "    .dataframe tbody tr th {\n",
              "        vertical-align: top;\n",
              "    }\n",
              "\n",
              "    .dataframe thead th {\n",
              "        text-align: right;\n",
              "    }\n",
              "</style>\n",
              "<table border=\"1\" class=\"dataframe\">\n",
              "  <thead>\n",
              "    <tr style=\"text-align: right;\">\n",
              "      <th></th>\n",
              "      <th>SUPERMERCADOS</th>\n",
              "      <th>CATEGORIA</th>\n",
              "      <th>DESCRIPCION</th>\n",
              "      <th>TIPO_ENVASE</th>\n",
              "      <th>PRECIO</th>\n",
              "      <th>PRECIO_TOTAL</th>\n",
              "      <th>UNIDADES</th>\n",
              "      <th>FECHA_INGRESO</th>\n",
              "    </tr>\n",
              "  </thead>\n",
              "  <tbody>\n",
              "    <tr>\n",
              "      <th>0</th>\n",
              "      <td>mercadona-es</td>\n",
              "      <td>postres_y_yogures_yogures_liquidos</td>\n",
              "      <td>Bebida láctea sin lactosa de fresa Hacendado</td>\n",
              "      <td>Pack-4</td>\n",
              "      <td>14.0</td>\n",
              "      <td>219.0</td>\n",
              "      <td>kg</td>\n",
              "      <td>2020-12-23 00:00:00</td>\n",
              "    </tr>\n",
              "    <tr>\n",
              "      <th>1</th>\n",
              "      <td>mercadona-es</td>\n",
              "      <td>bodega_licores</td>\n",
              "      <td>Ginebra 15 botanicals Blumara</td>\n",
              "      <td>Botella</td>\n",
              "      <td>1075.0</td>\n",
              "      <td>1536.0</td>\n",
              "      <td>L</td>\n",
              "      <td>2020-11-06 12:00:00</td>\n",
              "    </tr>\n",
              "    <tr>\n",
              "      <th>2</th>\n",
              "      <td>mercadona-es</td>\n",
              "      <td>charcuteria_y_quesos_queso_untable_y_fresco</td>\n",
              "      <td>Queso fresco batido desnatado Hacendado 0% mat...</td>\n",
              "      <td>Tarrina</td>\n",
              "      <td>109.0</td>\n",
              "      <td>218.0</td>\n",
              "      <td>kg</td>\n",
              "      <td>2020-09-23 16:06:00</td>\n",
              "    </tr>\n",
              "    <tr>\n",
              "      <th>3</th>\n",
              "      <td>carrefour-es</td>\n",
              "      <td>la_despensa_yogures_y_postres_yogures_desnatados</td>\n",
              "      <td>Yogur bífidus desnatado con lima y limón Danon...</td>\n",
              "      <td>Pack 4x120 G.</td>\n",
              "      <td>208.0</td>\n",
              "      <td>433.0</td>\n",
              "      <td>kg</td>\n",
              "      <td>2020-10-10 00:00:00</td>\n",
              "    </tr>\n",
              "    <tr>\n",
              "      <th>4</th>\n",
              "      <td>carrefour-es</td>\n",
              "      <td>la_despensa_helados_bombon</td>\n",
              "      <td>Helado After Dinner Magnum sin gluten 10 ud.</td>\n",
              "      <td>10 Ud.</td>\n",
              "      <td>46.0</td>\n",
              "      <td>46.0</td>\n",
              "      <td>ud</td>\n",
              "      <td>2020-10-15 00:00:00</td>\n",
              "    </tr>\n",
              "  </tbody>\n",
              "</table>\n",
              "</div>\n",
              "    <div class=\"colab-df-buttons\">\n",
              "\n",
              "  <div class=\"colab-df-container\">\n",
              "    <button class=\"colab-df-convert\" onclick=\"convertToInteractive('df-ba6b49ba-c88e-49bb-87f3-adbcee22ed95')\"\n",
              "            title=\"Convert this dataframe to an interactive table.\"\n",
              "            style=\"display:none;\">\n",
              "\n",
              "  <svg xmlns=\"http://www.w3.org/2000/svg\" height=\"24px\" viewBox=\"0 -960 960 960\">\n",
              "    <path d=\"M120-120v-720h720v720H120Zm60-500h600v-160H180v160Zm220 220h160v-160H400v160Zm0 220h160v-160H400v160ZM180-400h160v-160H180v160Zm440 0h160v-160H620v160ZM180-180h160v-160H180v160Zm440 0h160v-160H620v160Z\"/>\n",
              "  </svg>\n",
              "    </button>\n",
              "\n",
              "  <style>\n",
              "    .colab-df-container {\n",
              "      display:flex;\n",
              "      gap: 12px;\n",
              "    }\n",
              "\n",
              "    .colab-df-convert {\n",
              "      background-color: #E8F0FE;\n",
              "      border: none;\n",
              "      border-radius: 50%;\n",
              "      cursor: pointer;\n",
              "      display: none;\n",
              "      fill: #1967D2;\n",
              "      height: 32px;\n",
              "      padding: 0 0 0 0;\n",
              "      width: 32px;\n",
              "    }\n",
              "\n",
              "    .colab-df-convert:hover {\n",
              "      background-color: #E2EBFA;\n",
              "      box-shadow: 0px 1px 2px rgba(60, 64, 67, 0.3), 0px 1px 3px 1px rgba(60, 64, 67, 0.15);\n",
              "      fill: #174EA6;\n",
              "    }\n",
              "\n",
              "    .colab-df-buttons div {\n",
              "      margin-bottom: 4px;\n",
              "    }\n",
              "\n",
              "    [theme=dark] .colab-df-convert {\n",
              "      background-color: #3B4455;\n",
              "      fill: #D2E3FC;\n",
              "    }\n",
              "\n",
              "    [theme=dark] .colab-df-convert:hover {\n",
              "      background-color: #434B5C;\n",
              "      box-shadow: 0px 1px 3px 1px rgba(0, 0, 0, 0.15);\n",
              "      filter: drop-shadow(0px 1px 2px rgba(0, 0, 0, 0.3));\n",
              "      fill: #FFFFFF;\n",
              "    }\n",
              "  </style>\n",
              "\n",
              "    <script>\n",
              "      const buttonEl =\n",
              "        document.querySelector('#df-ba6b49ba-c88e-49bb-87f3-adbcee22ed95 button.colab-df-convert');\n",
              "      buttonEl.style.display =\n",
              "        google.colab.kernel.accessAllowed ? 'block' : 'none';\n",
              "\n",
              "      async function convertToInteractive(key) {\n",
              "        const element = document.querySelector('#df-ba6b49ba-c88e-49bb-87f3-adbcee22ed95');\n",
              "        const dataTable =\n",
              "          await google.colab.kernel.invokeFunction('convertToInteractive',\n",
              "                                                    [key], {});\n",
              "        if (!dataTable) return;\n",
              "\n",
              "        const docLinkHtml = 'Like what you see? Visit the ' +\n",
              "          '<a target=\"_blank\" href=https://colab.research.google.com/notebooks/data_table.ipynb>data table notebook</a>'\n",
              "          + ' to learn more about interactive tables.';\n",
              "        element.innerHTML = '';\n",
              "        dataTable['output_type'] = 'display_data';\n",
              "        await google.colab.output.renderOutput(dataTable, element);\n",
              "        const docLink = document.createElement('div');\n",
              "        docLink.innerHTML = docLinkHtml;\n",
              "        element.appendChild(docLink);\n",
              "      }\n",
              "    </script>\n",
              "  </div>\n",
              "\n",
              "\n",
              "<div id=\"df-cee21890-76a4-4aa6-82f7-81a7af261899\">\n",
              "  <button class=\"colab-df-quickchart\" onclick=\"quickchart('df-cee21890-76a4-4aa6-82f7-81a7af261899')\"\n",
              "            title=\"Suggest charts\"\n",
              "            style=\"display:none;\">\n",
              "\n",
              "<svg xmlns=\"http://www.w3.org/2000/svg\" height=\"24px\"viewBox=\"0 0 24 24\"\n",
              "     width=\"24px\">\n",
              "    <g>\n",
              "        <path d=\"M19 3H5c-1.1 0-2 .9-2 2v14c0 1.1.9 2 2 2h14c1.1 0 2-.9 2-2V5c0-1.1-.9-2-2-2zM9 17H7v-7h2v7zm4 0h-2V7h2v10zm4 0h-2v-4h2v4z\"/>\n",
              "    </g>\n",
              "</svg>\n",
              "  </button>\n",
              "\n",
              "<style>\n",
              "  .colab-df-quickchart {\n",
              "      --bg-color: #E8F0FE;\n",
              "      --fill-color: #1967D2;\n",
              "      --hover-bg-color: #E2EBFA;\n",
              "      --hover-fill-color: #174EA6;\n",
              "      --disabled-fill-color: #AAA;\n",
              "      --disabled-bg-color: #DDD;\n",
              "  }\n",
              "\n",
              "  [theme=dark] .colab-df-quickchart {\n",
              "      --bg-color: #3B4455;\n",
              "      --fill-color: #D2E3FC;\n",
              "      --hover-bg-color: #434B5C;\n",
              "      --hover-fill-color: #FFFFFF;\n",
              "      --disabled-bg-color: #3B4455;\n",
              "      --disabled-fill-color: #666;\n",
              "  }\n",
              "\n",
              "  .colab-df-quickchart {\n",
              "    background-color: var(--bg-color);\n",
              "    border: none;\n",
              "    border-radius: 50%;\n",
              "    cursor: pointer;\n",
              "    display: none;\n",
              "    fill: var(--fill-color);\n",
              "    height: 32px;\n",
              "    padding: 0;\n",
              "    width: 32px;\n",
              "  }\n",
              "\n",
              "  .colab-df-quickchart:hover {\n",
              "    background-color: var(--hover-bg-color);\n",
              "    box-shadow: 0 1px 2px rgba(60, 64, 67, 0.3), 0 1px 3px 1px rgba(60, 64, 67, 0.15);\n",
              "    fill: var(--button-hover-fill-color);\n",
              "  }\n",
              "\n",
              "  .colab-df-quickchart-complete:disabled,\n",
              "  .colab-df-quickchart-complete:disabled:hover {\n",
              "    background-color: var(--disabled-bg-color);\n",
              "    fill: var(--disabled-fill-color);\n",
              "    box-shadow: none;\n",
              "  }\n",
              "\n",
              "  .colab-df-spinner {\n",
              "    border: 2px solid var(--fill-color);\n",
              "    border-color: transparent;\n",
              "    border-bottom-color: var(--fill-color);\n",
              "    animation:\n",
              "      spin 1s steps(1) infinite;\n",
              "  }\n",
              "\n",
              "  @keyframes spin {\n",
              "    0% {\n",
              "      border-color: transparent;\n",
              "      border-bottom-color: var(--fill-color);\n",
              "      border-left-color: var(--fill-color);\n",
              "    }\n",
              "    20% {\n",
              "      border-color: transparent;\n",
              "      border-left-color: var(--fill-color);\n",
              "      border-top-color: var(--fill-color);\n",
              "    }\n",
              "    30% {\n",
              "      border-color: transparent;\n",
              "      border-left-color: var(--fill-color);\n",
              "      border-top-color: var(--fill-color);\n",
              "      border-right-color: var(--fill-color);\n",
              "    }\n",
              "    40% {\n",
              "      border-color: transparent;\n",
              "      border-right-color: var(--fill-color);\n",
              "      border-top-color: var(--fill-color);\n",
              "    }\n",
              "    60% {\n",
              "      border-color: transparent;\n",
              "      border-right-color: var(--fill-color);\n",
              "    }\n",
              "    80% {\n",
              "      border-color: transparent;\n",
              "      border-right-color: var(--fill-color);\n",
              "      border-bottom-color: var(--fill-color);\n",
              "    }\n",
              "    90% {\n",
              "      border-color: transparent;\n",
              "      border-bottom-color: var(--fill-color);\n",
              "    }\n",
              "  }\n",
              "</style>\n",
              "\n",
              "  <script>\n",
              "    async function quickchart(key) {\n",
              "      const quickchartButtonEl =\n",
              "        document.querySelector('#' + key + ' button');\n",
              "      quickchartButtonEl.disabled = true;  // To prevent multiple clicks.\n",
              "      quickchartButtonEl.classList.add('colab-df-spinner');\n",
              "      try {\n",
              "        const charts = await google.colab.kernel.invokeFunction(\n",
              "            'suggestCharts', [key], {});\n",
              "      } catch (error) {\n",
              "        console.error('Error during call to suggestCharts:', error);\n",
              "      }\n",
              "      quickchartButtonEl.classList.remove('colab-df-spinner');\n",
              "      quickchartButtonEl.classList.add('colab-df-quickchart-complete');\n",
              "    }\n",
              "    (() => {\n",
              "      let quickchartButtonEl =\n",
              "        document.querySelector('#df-cee21890-76a4-4aa6-82f7-81a7af261899 button');\n",
              "      quickchartButtonEl.style.display =\n",
              "        google.colab.kernel.accessAllowed ? 'block' : 'none';\n",
              "    })();\n",
              "  </script>\n",
              "</div>\n",
              "\n",
              "    </div>\n",
              "  </div>\n"
            ],
            "application/vnd.google.colaboratory.intrinsic+json": {
              "type": "dataframe",
              "variable_name": "df",
              "summary": "{\n  \"name\": \"df\",\n  \"rows\": 65535,\n  \"fields\": [\n    {\n      \"column\": \"SUPERMERCADOS\",\n      \"properties\": {\n        \"dtype\": \"category\",\n        \"num_unique_values\": 3,\n        \"samples\": [\n          \"mercadona-es\",\n          \"carrefour-es\",\n          \"dia-es\"\n        ],\n        \"semantic_type\": \"\",\n        \"description\": \"\"\n      }\n    },\n    {\n      \"column\": \"CATEGORIA\",\n      \"properties\": {\n        \"dtype\": \"category\",\n        \"num_unique_values\": 1270,\n        \"samples\": [\n          \"limpieza_y_hogar_menaje_accesorios_para_vino\",\n          \"drogueria_y_limpieza_limpiadores_para_el_hogar_limpia_alfombras_tapicerias\",\n          \"mascotas_gatos_alimento_humedo\"\n        ],\n        \"semantic_type\": \"\",\n        \"description\": \"\"\n      }\n    },\n    {\n      \"column\": \"DESCRIPCION\",\n      \"properties\": {\n        \"dtype\": \"category\",\n        \"num_unique_values\": 29047,\n        \"samples\": [\n          \"DIA cortezas de trigo bolsa 90 GR\",\n          \"N\\u00e9ctar de melocot\\u00f3n Minute Maid botella 1 l.\",\n          \"T\\u00f3nica Royal Bliss lime sensation botella 20 cl.\"\n        ],\n        \"semantic_type\": \"\",\n        \"description\": \"\"\n      }\n    },\n    {\n      \"column\": \"TIPO_ENVASE\",\n      \"properties\": {\n        \"dtype\": \"category\",\n        \"num_unique_values\": 1480,\n        \"samples\": [\n          \"6 Uds\",\n          \"15 Ml.\",\n          \"650 G.\"\n        ],\n        \"semantic_type\": \"\",\n        \"description\": \"\"\n      }\n    },\n    {\n      \"column\": \"PRECIO\",\n      \"properties\": {\n        \"dtype\": \"number\",\n        \"std\": 3573.7729685415243,\n        \"min\": 1.0,\n        \"max\": 247005.0,\n        \"num_unique_values\": 1250,\n        \"samples\": [\n          1084.0,\n          962.0,\n          91.0\n        ],\n        \"semantic_type\": \"\",\n        \"description\": \"\"\n      }\n    },\n    {\n      \"column\": \"PRECIO_TOTAL\",\n      \"properties\": {\n        \"dtype\": \"number\",\n        \"std\": 16346.85085803467,\n        \"min\": 0.0,\n        \"max\": 1640299.0,\n        \"num_unique_values\": 3032,\n        \"samples\": [\n          1144.0,\n          1311.0,\n          183.0\n        ],\n        \"semantic_type\": \"\",\n        \"description\": \"\"\n      }\n    },\n    {\n      \"column\": \"UNIDADES\",\n      \"properties\": {\n        \"dtype\": \"category\",\n        \"num_unique_values\": 19,\n        \"samples\": [\n          \"kg\",\n          \"100 ml\",\n          \"m\"\n        ],\n        \"semantic_type\": \"\",\n        \"description\": \"\"\n      }\n    },\n    {\n      \"column\": \"FECHA_INGRESO\",\n      \"properties\": {\n        \"dtype\": \"date\",\n        \"min\": \"2020-07-16 04:00:00\",\n        \"max\": \"2021-02-09 12:00:00\",\n        \"num_unique_values\": 478,\n        \"samples\": [\n          \"2020-09-23 16:22:00\",\n          \"2020-12-04 00:00:00\",\n          \"2020-11-29 12:00:00\"\n        ],\n        \"semantic_type\": \"\",\n        \"description\": \"\"\n      }\n    }\n  ]\n}"
            }
          },
          "metadata": {},
          "execution_count": 3
        }
      ]
    },
    {
      "cell_type": "code",
      "source": [
        "#Validamos las columnas, la cantidad de datos nulos y el tipo de formato de cada columna\n",
        "df.info()"
      ],
      "metadata": {
        "id": "gh-oPoJaUcUs",
        "colab": {
          "base_uri": "https://localhost:8080/"
        },
        "outputId": "98586cec-15b1-4ba5-e4da-0b97bd8f7a77"
      },
      "execution_count": null,
      "outputs": [
        {
          "output_type": "stream",
          "name": "stdout",
          "text": [
            "<class 'pandas.core.frame.DataFrame'>\n",
            "RangeIndex: 65535 entries, 0 to 65534\n",
            "Data columns (total 8 columns):\n",
            " #   Column         Non-Null Count  Dtype         \n",
            "---  ------         --------------  -----         \n",
            " 0   SUPERMERCADOS  65535 non-null  object        \n",
            " 1   CATEGORIA      65535 non-null  object        \n",
            " 2   DESCRIPCION    65535 non-null  object        \n",
            " 3   TIPO_ENVASE    33314 non-null  object        \n",
            " 4   PRECIO         65533 non-null  float64       \n",
            " 5   PRECIO_TOTAL   64936 non-null  float64       \n",
            " 6   UNIDADES       64936 non-null  object        \n",
            " 7   FECHA_INGRESO  65533 non-null  datetime64[ns]\n",
            "dtypes: datetime64[ns](1), float64(2), object(5)\n",
            "memory usage: 4.0+ MB\n"
          ]
        }
      ]
    },
    {
      "cell_type": "code",
      "source": [
        "#Obtenemos algunas estadísticas del Dataset\n",
        "df.describe().round().T"
      ],
      "metadata": {
        "id": "9wtv4kj7U8S8",
        "colab": {
          "base_uri": "https://localhost:8080/",
          "height": 300
        },
        "outputId": "e43545c1-2a81-4b1e-ae4d-3ba617c17654",
        "collapsed": true
      },
      "execution_count": null,
      "outputs": [
        {
          "output_type": "execute_result",
          "data": {
            "text/plain": [
              "              PRECIO  PRECIO_TOTAL                  FECHA_INGRESO\n",
              "count   65533.000000  6.493600e+04                          65533\n",
              "mean      351.190820  9.738388e+02  2020-11-21 21:52:14.075045888\n",
              "min         1.000000  0.000000e+00            2020-07-16 04:00:00\n",
              "25%        57.000000  7.900000e+01            2020-10-22 00:00:00\n",
              "50%       154.000000  2.460000e+02            2020-11-27 00:00:00\n",
              "75%       313.000000  7.440000e+02            2021-01-03 12:00:00\n",
              "max    247005.000000  1.640299e+06            2021-02-09 12:00:00\n",
              "std      3573.772969  1.634685e+04                            NaN"
            ],
            "text/html": [
              "\n",
              "  <div id=\"df-ec52ce37-10be-4f1a-b574-d320f0327f45\" class=\"colab-df-container\">\n",
              "    <div>\n",
              "<style scoped>\n",
              "    .dataframe tbody tr th:only-of-type {\n",
              "        vertical-align: middle;\n",
              "    }\n",
              "\n",
              "    .dataframe tbody tr th {\n",
              "        vertical-align: top;\n",
              "    }\n",
              "\n",
              "    .dataframe thead th {\n",
              "        text-align: right;\n",
              "    }\n",
              "</style>\n",
              "<table border=\"1\" class=\"dataframe\">\n",
              "  <thead>\n",
              "    <tr style=\"text-align: right;\">\n",
              "      <th></th>\n",
              "      <th>PRECIO</th>\n",
              "      <th>PRECIO_TOTAL</th>\n",
              "      <th>FECHA_INGRESO</th>\n",
              "    </tr>\n",
              "  </thead>\n",
              "  <tbody>\n",
              "    <tr>\n",
              "      <th>count</th>\n",
              "      <td>65533.000000</td>\n",
              "      <td>6.493600e+04</td>\n",
              "      <td>65533</td>\n",
              "    </tr>\n",
              "    <tr>\n",
              "      <th>mean</th>\n",
              "      <td>351.190820</td>\n",
              "      <td>9.738388e+02</td>\n",
              "      <td>2020-11-21 21:52:14.075045888</td>\n",
              "    </tr>\n",
              "    <tr>\n",
              "      <th>min</th>\n",
              "      <td>1.000000</td>\n",
              "      <td>0.000000e+00</td>\n",
              "      <td>2020-07-16 04:00:00</td>\n",
              "    </tr>\n",
              "    <tr>\n",
              "      <th>25%</th>\n",
              "      <td>57.000000</td>\n",
              "      <td>7.900000e+01</td>\n",
              "      <td>2020-10-22 00:00:00</td>\n",
              "    </tr>\n",
              "    <tr>\n",
              "      <th>50%</th>\n",
              "      <td>154.000000</td>\n",
              "      <td>2.460000e+02</td>\n",
              "      <td>2020-11-27 00:00:00</td>\n",
              "    </tr>\n",
              "    <tr>\n",
              "      <th>75%</th>\n",
              "      <td>313.000000</td>\n",
              "      <td>7.440000e+02</td>\n",
              "      <td>2021-01-03 12:00:00</td>\n",
              "    </tr>\n",
              "    <tr>\n",
              "      <th>max</th>\n",
              "      <td>247005.000000</td>\n",
              "      <td>1.640299e+06</td>\n",
              "      <td>2021-02-09 12:00:00</td>\n",
              "    </tr>\n",
              "    <tr>\n",
              "      <th>std</th>\n",
              "      <td>3573.772969</td>\n",
              "      <td>1.634685e+04</td>\n",
              "      <td>NaN</td>\n",
              "    </tr>\n",
              "  </tbody>\n",
              "</table>\n",
              "</div>\n",
              "    <div class=\"colab-df-buttons\">\n",
              "\n",
              "  <div class=\"colab-df-container\">\n",
              "    <button class=\"colab-df-convert\" onclick=\"convertToInteractive('df-ec52ce37-10be-4f1a-b574-d320f0327f45')\"\n",
              "            title=\"Convert this dataframe to an interactive table.\"\n",
              "            style=\"display:none;\">\n",
              "\n",
              "  <svg xmlns=\"http://www.w3.org/2000/svg\" height=\"24px\" viewBox=\"0 -960 960 960\">\n",
              "    <path d=\"M120-120v-720h720v720H120Zm60-500h600v-160H180v160Zm220 220h160v-160H400v160Zm0 220h160v-160H400v160ZM180-400h160v-160H180v160Zm440 0h160v-160H620v160ZM180-180h160v-160H180v160Zm440 0h160v-160H620v160Z\"/>\n",
              "  </svg>\n",
              "    </button>\n",
              "\n",
              "  <style>\n",
              "    .colab-df-container {\n",
              "      display:flex;\n",
              "      gap: 12px;\n",
              "    }\n",
              "\n",
              "    .colab-df-convert {\n",
              "      background-color: #E8F0FE;\n",
              "      border: none;\n",
              "      border-radius: 50%;\n",
              "      cursor: pointer;\n",
              "      display: none;\n",
              "      fill: #1967D2;\n",
              "      height: 32px;\n",
              "      padding: 0 0 0 0;\n",
              "      width: 32px;\n",
              "    }\n",
              "\n",
              "    .colab-df-convert:hover {\n",
              "      background-color: #E2EBFA;\n",
              "      box-shadow: 0px 1px 2px rgba(60, 64, 67, 0.3), 0px 1px 3px 1px rgba(60, 64, 67, 0.15);\n",
              "      fill: #174EA6;\n",
              "    }\n",
              "\n",
              "    .colab-df-buttons div {\n",
              "      margin-bottom: 4px;\n",
              "    }\n",
              "\n",
              "    [theme=dark] .colab-df-convert {\n",
              "      background-color: #3B4455;\n",
              "      fill: #D2E3FC;\n",
              "    }\n",
              "\n",
              "    [theme=dark] .colab-df-convert:hover {\n",
              "      background-color: #434B5C;\n",
              "      box-shadow: 0px 1px 3px 1px rgba(0, 0, 0, 0.15);\n",
              "      filter: drop-shadow(0px 1px 2px rgba(0, 0, 0, 0.3));\n",
              "      fill: #FFFFFF;\n",
              "    }\n",
              "  </style>\n",
              "\n",
              "    <script>\n",
              "      const buttonEl =\n",
              "        document.querySelector('#df-ec52ce37-10be-4f1a-b574-d320f0327f45 button.colab-df-convert');\n",
              "      buttonEl.style.display =\n",
              "        google.colab.kernel.accessAllowed ? 'block' : 'none';\n",
              "\n",
              "      async function convertToInteractive(key) {\n",
              "        const element = document.querySelector('#df-ec52ce37-10be-4f1a-b574-d320f0327f45');\n",
              "        const dataTable =\n",
              "          await google.colab.kernel.invokeFunction('convertToInteractive',\n",
              "                                                    [key], {});\n",
              "        if (!dataTable) return;\n",
              "\n",
              "        const docLinkHtml = 'Like what you see? Visit the ' +\n",
              "          '<a target=\"_blank\" href=https://colab.research.google.com/notebooks/data_table.ipynb>data table notebook</a>'\n",
              "          + ' to learn more about interactive tables.';\n",
              "        element.innerHTML = '';\n",
              "        dataTable['output_type'] = 'display_data';\n",
              "        await google.colab.output.renderOutput(dataTable, element);\n",
              "        const docLink = document.createElement('div');\n",
              "        docLink.innerHTML = docLinkHtml;\n",
              "        element.appendChild(docLink);\n",
              "      }\n",
              "    </script>\n",
              "  </div>\n",
              "\n",
              "\n",
              "<div id=\"df-2afa64a8-8e37-40f1-b293-7497ee4f743a\">\n",
              "  <button class=\"colab-df-quickchart\" onclick=\"quickchart('df-2afa64a8-8e37-40f1-b293-7497ee4f743a')\"\n",
              "            title=\"Suggest charts\"\n",
              "            style=\"display:none;\">\n",
              "\n",
              "<svg xmlns=\"http://www.w3.org/2000/svg\" height=\"24px\"viewBox=\"0 0 24 24\"\n",
              "     width=\"24px\">\n",
              "    <g>\n",
              "        <path d=\"M19 3H5c-1.1 0-2 .9-2 2v14c0 1.1.9 2 2 2h14c1.1 0 2-.9 2-2V5c0-1.1-.9-2-2-2zM9 17H7v-7h2v7zm4 0h-2V7h2v10zm4 0h-2v-4h2v4z\"/>\n",
              "    </g>\n",
              "</svg>\n",
              "  </button>\n",
              "\n",
              "<style>\n",
              "  .colab-df-quickchart {\n",
              "      --bg-color: #E8F0FE;\n",
              "      --fill-color: #1967D2;\n",
              "      --hover-bg-color: #E2EBFA;\n",
              "      --hover-fill-color: #174EA6;\n",
              "      --disabled-fill-color: #AAA;\n",
              "      --disabled-bg-color: #DDD;\n",
              "  }\n",
              "\n",
              "  [theme=dark] .colab-df-quickchart {\n",
              "      --bg-color: #3B4455;\n",
              "      --fill-color: #D2E3FC;\n",
              "      --hover-bg-color: #434B5C;\n",
              "      --hover-fill-color: #FFFFFF;\n",
              "      --disabled-bg-color: #3B4455;\n",
              "      --disabled-fill-color: #666;\n",
              "  }\n",
              "\n",
              "  .colab-df-quickchart {\n",
              "    background-color: var(--bg-color);\n",
              "    border: none;\n",
              "    border-radius: 50%;\n",
              "    cursor: pointer;\n",
              "    display: none;\n",
              "    fill: var(--fill-color);\n",
              "    height: 32px;\n",
              "    padding: 0;\n",
              "    width: 32px;\n",
              "  }\n",
              "\n",
              "  .colab-df-quickchart:hover {\n",
              "    background-color: var(--hover-bg-color);\n",
              "    box-shadow: 0 1px 2px rgba(60, 64, 67, 0.3), 0 1px 3px 1px rgba(60, 64, 67, 0.15);\n",
              "    fill: var(--button-hover-fill-color);\n",
              "  }\n",
              "\n",
              "  .colab-df-quickchart-complete:disabled,\n",
              "  .colab-df-quickchart-complete:disabled:hover {\n",
              "    background-color: var(--disabled-bg-color);\n",
              "    fill: var(--disabled-fill-color);\n",
              "    box-shadow: none;\n",
              "  }\n",
              "\n",
              "  .colab-df-spinner {\n",
              "    border: 2px solid var(--fill-color);\n",
              "    border-color: transparent;\n",
              "    border-bottom-color: var(--fill-color);\n",
              "    animation:\n",
              "      spin 1s steps(1) infinite;\n",
              "  }\n",
              "\n",
              "  @keyframes spin {\n",
              "    0% {\n",
              "      border-color: transparent;\n",
              "      border-bottom-color: var(--fill-color);\n",
              "      border-left-color: var(--fill-color);\n",
              "    }\n",
              "    20% {\n",
              "      border-color: transparent;\n",
              "      border-left-color: var(--fill-color);\n",
              "      border-top-color: var(--fill-color);\n",
              "    }\n",
              "    30% {\n",
              "      border-color: transparent;\n",
              "      border-left-color: var(--fill-color);\n",
              "      border-top-color: var(--fill-color);\n",
              "      border-right-color: var(--fill-color);\n",
              "    }\n",
              "    40% {\n",
              "      border-color: transparent;\n",
              "      border-right-color: var(--fill-color);\n",
              "      border-top-color: var(--fill-color);\n",
              "    }\n",
              "    60% {\n",
              "      border-color: transparent;\n",
              "      border-right-color: var(--fill-color);\n",
              "    }\n",
              "    80% {\n",
              "      border-color: transparent;\n",
              "      border-right-color: var(--fill-color);\n",
              "      border-bottom-color: var(--fill-color);\n",
              "    }\n",
              "    90% {\n",
              "      border-color: transparent;\n",
              "      border-bottom-color: var(--fill-color);\n",
              "    }\n",
              "  }\n",
              "</style>\n",
              "\n",
              "  <script>\n",
              "    async function quickchart(key) {\n",
              "      const quickchartButtonEl =\n",
              "        document.querySelector('#' + key + ' button');\n",
              "      quickchartButtonEl.disabled = true;  // To prevent multiple clicks.\n",
              "      quickchartButtonEl.classList.add('colab-df-spinner');\n",
              "      try {\n",
              "        const charts = await google.colab.kernel.invokeFunction(\n",
              "            'suggestCharts', [key], {});\n",
              "      } catch (error) {\n",
              "        console.error('Error during call to suggestCharts:', error);\n",
              "      }\n",
              "      quickchartButtonEl.classList.remove('colab-df-spinner');\n",
              "      quickchartButtonEl.classList.add('colab-df-quickchart-complete');\n",
              "    }\n",
              "    (() => {\n",
              "      let quickchartButtonEl =\n",
              "        document.querySelector('#df-2afa64a8-8e37-40f1-b293-7497ee4f743a button');\n",
              "      quickchartButtonEl.style.display =\n",
              "        google.colab.kernel.accessAllowed ? 'block' : 'none';\n",
              "    })();\n",
              "  </script>\n",
              "</div>\n",
              "\n",
              "    </div>\n",
              "  </div>\n"
            ],
            "application/vnd.google.colaboratory.intrinsic+json": {
              "type": "dataframe",
              "summary": "{\n  \"name\": \"df\",\n  \"rows\": 8,\n  \"fields\": [\n    {\n      \"column\": \"PRECIO\",\n      \"properties\": {\n        \"dtype\": \"number\",\n        \"std\": 86815.80919960907,\n        \"min\": 1.0,\n        \"max\": 247005.0,\n        \"num_unique_values\": 8,\n        \"samples\": [\n          351.190819892268,\n          313.0,\n          65533.0\n        ],\n        \"semantic_type\": \"\",\n        \"description\": \"\"\n      }\n    },\n    {\n      \"column\": \"PRECIO_TOTAL\",\n      \"properties\": {\n        \"dtype\": \"number\",\n        \"std\": 576157.9672819439,\n        \"min\": 0.0,\n        \"max\": 1640299.0,\n        \"num_unique_values\": 8,\n        \"samples\": [\n          973.8387951213502,\n          744.0,\n          64936.0\n        ],\n        \"semantic_type\": \"\",\n        \"description\": \"\"\n      }\n    },\n    {\n      \"column\": \"FECHA_INGRESO\",\n      \"properties\": {\n        \"dtype\": \"date\",\n        \"min\": \"1970-01-01 00:00:00.000065533\",\n        \"max\": \"2021-02-09 12:00:00\",\n        \"num_unique_values\": 7,\n        \"samples\": [\n          \"65533\",\n          \"2020-11-21 21:52:14.075045888\",\n          \"2021-01-03 12:00:00\"\n        ],\n        \"semantic_type\": \"\",\n        \"description\": \"\"\n      }\n    }\n  ]\n}"
            }
          },
          "metadata": {},
          "execution_count": 8
        }
      ]
    },
    {
      "cell_type": "markdown",
      "source": [
        "## **Método describe()**\n",
        "En línea general se observan datos acordes sobre todo en los indicadores. Pero debemos revisar lo siguiente:\n",
        "* Peso Bruto tiene un mínimo en 0 (cero), lo cual significa que existen algunos registros en cero\n",
        "* Peso Bruto tiene un peso máximo irreal. Debemos detectar y tratar esos registros\n",
        "* Valor Total en Pesos y Valor Total en Dolares tienen un mínimo en 0 (cero), lo cual significa que existen algunos registros en cero\n",
        "\n",
        "Esto nos permite concluir que tenemos un muy buen dataset, con una alta calidad de datos"
      ],
      "metadata": {
        "id": "wjqdyul0SJRm"
      }
    },
    {
      "cell_type": "markdown",
      "source": [
        "# **Mejora de Dataset y Exploracion de datos**\n",
        "\n",
        "* Enriquecer el dataset No estoy cumpliendo con la cantidad de datos a presentar\n",
        "\n",
        "* Enriquecer las columnas del dataset No estoy cumpliendo con la consigna de tener mas datos numericos.\n",
        "\n",
        "* Capturar distintos dataset y enriquecer el modelo con un mega dataset\n",
        "\n",
        "* Validar la presencia de valores perdidos y sugerir alguna solución.\n",
        "\n",
        "* Iniciar el proceso de limpieza y exploración de datos."
      ],
      "metadata": {
        "id": "5yErUVZkhkJm"
      }
    },
    {
      "cell_type": "markdown",
      "source": [
        "# **Ejemplo de Niveles de Indices de COLAB**"
      ],
      "metadata": {
        "id": "2MaSBg1rZahV"
      }
    },
    {
      "cell_type": "markdown",
      "source": [
        "# Sección"
      ],
      "metadata": {
        "id": "NaodSEFZDGed"
      }
    },
    {
      "cell_type": "markdown",
      "source": [
        "## Subnivel"
      ],
      "metadata": {
        "id": "qu9gJYPODSaU"
      }
    },
    {
      "cell_type": "markdown",
      "source": [
        "## Subnivel"
      ],
      "metadata": {
        "id": "MZEfGBLmDaNk"
      }
    },
    {
      "cell_type": "markdown",
      "source": [
        "#Dataset"
      ],
      "metadata": {
        "id": "C5K8tJ307KEC"
      }
    },
    {
      "cell_type": "markdown",
      "source": [
        "## Subdataset"
      ],
      "metadata": {
        "id": "GpwBbZzS7XIK"
      }
    },
    {
      "cell_type": "code",
      "source": [],
      "metadata": {
        "id": "jsNW2taz7vax"
      },
      "execution_count": null,
      "outputs": []
    },
    {
      "cell_type": "code",
      "source": [],
      "metadata": {
        "id": "9VtFTWmL7vWB"
      },
      "execution_count": null,
      "outputs": []
    },
    {
      "cell_type": "code",
      "source": [],
      "metadata": {
        "id": "DPcFdM2w7vHi"
      },
      "execution_count": null,
      "outputs": []
    }
  ]
}