{
  "nbformat": 4,
  "nbformat_minor": 0,
  "metadata": {
    "colab": {
      "provenance": [],
      "gpuType": "T4",
      "collapsed_sections": [
        "YskaY7jR5jxd",
        "45KoRAYLSbn3",
        "zxvqlJ2iZ8Bd"
      ],
      "toc_visible": true,
      "include_colab_link": true
    },
    "kernelspec": {
      "name": "python3",
      "display_name": "Python 3"
    },
    "language_info": {
      "name": "python"
    },
    "gpuClass": "standard"
  },
  "cells": [
    {
      "cell_type": "markdown",
      "metadata": {
        "id": "view-in-github",
        "colab_type": "text"
      },
      "source": [
        "<a href=\"https://colab.research.google.com/github/Leonardo-rodcas/Proyecto-DS-61190-E-Commerce/blob/main/Proyecto_EntregaPlus_Comision61190_RodriguezCastilloLeonardo.ipynb\" target=\"_parent\"><img src=\"https://colab.research.google.com/assets/colab-badge.svg\" alt=\"Open In Colab\"/></a>"
      ]
    },
    {
      "cell_type": "markdown",
      "source": [
        "# **Presentacion de Proyecto ENTREGA PLUS**"
      ],
      "metadata": {
        "id": "6lbmWPQpa6fV"
      }
    },
    {
      "cell_type": "markdown",
      "source": [
        "## **1.- Hipótesis.**\n",
        "***Primer Hipóteseis***: La zona geográfica donde se envían los\n",
        "pedidos influye en nuestros indicadores de:\n",
        "* Puntualidad de Entrega de Pedidos\n",
        "* Efectividad de Entrega de Pedidos\n",
        "\n",
        "Con lo cual entendemos que sabiendo donde debemos entregar cada uo de ellos, podemos establecer una probabilidad de NO ENTREGA, que nos va a permitir tomar acciones para que cada pedido con baja probalidad de entrega, sea finalmente entregado en su primer visita\n",
        "\n",
        "***Segunda Hipóteseis***: Los proveedores logísticos pueden ser más fuertes en una zona que en otra"
      ],
      "metadata": {
        "id": "fC1WUEqAbDzk"
      }
    },
    {
      "cell_type": "markdown",
      "source": [
        "## **2. - Objetivo y alcance.**\n",
        "El Objetivo del proyecto es poder crear un modelo que pueda identificar para cada pedido, si el mismo se va a entregar o no en la primer visita que realice nuestro proveedor logístico."
      ],
      "metadata": {
        "id": "HWEhdmIkbZDb"
      }
    },
    {
      "cell_type": "markdown",
      "source": [
        "# **Data Acquisition**"
      ],
      "metadata": {
        "id": "YskaY7jR5jxd"
      }
    },
    {
      "cell_type": "markdown",
      "source": [
        "## **Metadata**"
      ],
      "metadata": {
        "id": "45KoRAYLSbn3"
      }
    },
    {
      "cell_type": "markdown",
      "source": [
        "**1.- Descripción de los datos.**\n",
        "\n",
        "El set de datos es acerca de pedidos de la empresa EPSILON S.A., los cuales hacen referencia a los detalles para la entrega de los mismos a nuestros clientes.\n",
        "\n",
        "**2.- Detalles generales del dataset**\n",
        "* Cantidad de Registros: 190152\n",
        "* Volumen de Crecimiento Estimado Diario: 5000\n",
        "* Datos del año 2024\n",
        "\n",
        "**3.- Diccionario de datos.**\n",
        "\n",
        "| Columna | Tipo de Dato |\n",
        "|---------|--------------|\n",
        "| Entrega |  int64 |\n",
        "| Fecha Pedido | datetime64 |\n",
        "| Distribuidor | category |\n",
        "| Distribuidor Sigla | category |\n",
        "| Tipo de Distribución Comercial | category |\n",
        "| Codigo Postal | int64 |\n",
        "| Id Provincia | int64 |\n",
        "| Provincia | category |\n",
        "| Localidad | category |\n",
        "| Departamento |category |\n",
        "| Aglomerado |category |\n",
        "| Id Zona Logistica | int64 |\n",
        "| Zona Logistica |category |\n",
        "| Zona E-Commerce |category |\n",
        "| Periodo |category |\n",
        "| Año | int64 |\n",
        "| Mes Sigla |category |\n",
        "| Mes Nombre |category |\n",
        "| Mes Numero | int64 |\n",
        "| Trimestre Sigla |category |\n",
        "| Trimestre Nombre |category |\n",
        "| Trimestre Numero | int64 |\n",
        "| Semestre | int64 |\n",
        "| Año Semana |category |\n",
        "| Dia Semana Sigla |category |\n",
        "| Dia Semana Numero | int64 |\n",
        "| Dia Semana Nombre |category |\n",
        "| Hora Pedido | int64 |\n",
        "| Visita 1 Fecha | datetime64[ns] |\n",
        "| Visita 1 Hora | object |\n",
        "| ID Visita 1 Motivo |category |\n",
        "| Visita 1 Motivo |category |\n",
        "| Dias Primer Visita | int64 |\n",
        "| Flag Visita 1 Puntual |category |\n",
        "| Estado Visita |category |\n",
        "| Estado Distribución |category |\n",
        "| Calidad de la Direccion |category |\n",
        "| Cantidad de Pedidos | int64 |\n",
        "| Visita 1 Puntual | int64 |\n",
        "| Cant. Primera Visita | int64 |\n",
        "| Cant. Vis. y Ent. 1ra Visita | int64 |\n",
        "| Cantidad Celulares | int64 |\n",
        "| Cantidad Accesorios | int64 |\n",
        "| Peso Bruto | float64 |\n",
        "| Valor Total en Pesos | float64 |\n",
        "| Valor Total en Dolares | float64 |\n",
        "| Provincia Sigla | object |\n",
        "| Hora Visita | int64 |"
      ],
      "metadata": {
        "id": "DhBTgO0upzBS"
      }
    },
    {
      "cell_type": "markdown",
      "source": [
        "## **Importacion de Dataset**"
      ],
      "metadata": {
        "id": "cA4gBiRtbt_r"
      }
    },
    {
      "cell_type": "code",
      "execution_count": null,
      "metadata": {
        "id": "pDjHAyfpRktO",
        "collapsed": true
      },
      "outputs": [],
      "source": [
        "# Instalación de Librerías\n",
        "!pip install dataprep\n",
        "!pip install chart_studio\n",
        "!pip install mglearn\n",
        "!pip install gapminder\n",
        "#! pip install https://github.com/pandas-profiling/pandas-profiling/archive/master.zip\n",
        "\n",
        "# Importación de Librerías\n",
        "import numpy as np\n",
        "import pandas as pd\n",
        "import matplotlib as mpl\n",
        "import matplotlib.pyplot as plt\n",
        "import matplotlib.style as style\n",
        "import matplotlib.animation as animation\n",
        "import seaborn as sns\n",
        "import plotly.express as px\n",
        "import chart_studio.plotly as py\n",
        "import random\n",
        "import plotly.graph_objects as go\n",
        "from plotly.subplots import make_subplots\n",
        "\n",
        "import missingno as msno\n",
        "import scipy\n",
        "# La Librería Scipy es exclusiva de datos estadísticos\n",
        "\n",
        "import requests\n",
        "# La librería requests en Python es una herramienta poderosa y popular que se utiliza para realizar solicitudes HTTP de manera sencilla\n",
        "# y eficiente. Permite interactuar con páginas web, APIs RESTful, y otros servicios basados en HTTP\n",
        "import json\n",
        "\n",
        "import warnings\n",
        "warnings.filterwarnings(\"ignore\", category=FutureWarning, module=\"seaborn\")\n",
        "# La librería warnings en Python se utiliza para gestionar y controlar mensajes de advertencia (warnings) durante la ejecución de un programa.\n",
        "# A diferencia de los errores, que detienen la ejecución del programa, los warnings son mensajes informativos que indican situaciones potencialmente\n",
        "# problemáticas, pero permiten que el programa continúe ejecutándose\n",
        "\n",
        "import mglearn\n",
        "# La librería mglearn (abreviatura de mglearn) es una herramienta complementaria que facilita el aprendizaje y la enseñanza de Machine Learning en Python.\n",
        "# Está diseñada principalmente para ilustrar conceptos básicos de aprendizaje automático de manera visual e intuitiva\n",
        "\n",
        "import graphviz\n",
        "# La librería graphviz en Python se utiliza para trabajar con Graphviz, una herramienta de visualización gráfica que permite crear y\n",
        "# representar grafos dirigidos y no dirigidos. Es especialmente útil para crear diagramas jerárquicos, flujos de trabajo, árboles de decisión,\n",
        "# redes de dependencias y otras estructuras gráficas\n",
        "\n",
        "import folium  #needed for interactive map\n",
        "from folium.plugins import HeatMap\n",
        "# La librería folium en Python se utiliza para crear mapas interactivos de manera sencilla y visualmente atractiva. Es una herramienta ideal para trabajar\n",
        "# con datos geoespaciales y visualizar información geográfica superpuesta en mapas\n",
        "\n",
        "#from ydata_profiling import ProfileReport\n",
        "from IPython.display import display\n",
        "from IPython.display import HTML\n",
        "# La librería IPython.display de Python es un módulo utilizado principalmente en entornos interactivos como Jupyter Notebooks. Su función es proporcionar\n",
        "# herramientas para mostrar salidas de una manera más rica y flexible, como imágenes, gráficos, HTML, audio y más. Esto mejora la experiencia de visualización\n",
        "# y presentación de resultados\n",
        "# La librería display en Python es parte del paquete IPython.display, que proporciona funciones para mostrar objetos de manera interactiva y enriquecida\n",
        "# dentro de entornos como Jupyter Notebook o Google Colab.\n",
        "# Permite mostrar no solo texto, sino también imágenes, gráficos, HTML, Markdown, audio, video y otros tipos de datos de forma estructurada\n",
        "# y visualmente atractiva\n",
        "# La función HTML se usa para mostrar contenido HTML directamente en el cuaderno de Jupyter. Esto es especialmente útil para integrar código HTML en tus\n",
        "# celdas y ver cómo se presenta sin tener que crear archivos externos.\n",
        "\n",
        "from bokeh.io import show, output_file\n",
        "# La librería bokeh.io es parte del ecosistema de Bokeh en Python, una herramienta para crear visualizaciones interactivas de alta calidad que se pueden\n",
        "# integrar fácilmente en aplicaciones web o presentaciones.\n",
        "# Bokeh es especialmente útil cuando se quiere trabajar con gráficos dinámicos y visualizaciones interactivas para la web, como gráficos de líneas, barras,\n",
        "# dispersión, mapas, y más, todo en tiempo real.\n",
        "# Las funciones show y output_file provienen de la librería Bokeh, que se utiliza para crear visualizaciones interactivas en Python. Estas funciones son\n",
        "# clave para mostrar los gráficos creados con Bokeh, ya sea en un navegador web o como parte de un archivo HTML\n",
        "\n",
        "from bokeh.plotting import figure\n",
        "# La librería bokeh.plotting de Bokeh en Python se utiliza para crear visualizaciones interactivas y dinámicas en el navegador web. Permite generar gráficos\n",
        "# y visualizaciones atractivas que los usuarios pueden explorar de manera interactiva, como hacer zoom, mover, o seleccionar puntos en los gráficos.\n",
        "# Bokeh es especialmente útil para proyectos que requieren visualización web o dashboard interactivo.\n",
        "# La función figure de la librería Bokeh en Python es el núcleo para crear gráficos interactivos y personalizados. Bokeh es una biblioteca poderosa para\n",
        "# la visualización de datos, y la función figure actúa como un lienzo donde puedes agregar elementos visuales, como gráficos de líneas, barras, puntos, etc.\n",
        "\n",
        "from bokeh.models import DatetimeTickFormatter\n",
        "# bokeh.models contiene modelos que proporcionan herramientas, widgets y componentes que puedes utilizar para personalizar y mejorar las visualizaciones\n",
        "# en Bokeh.\n",
        "# Estos modelos permiten añadir interactividad, controlar las propiedades visuales de los elementos gráficos, y configurar la forma en que los gráficos\n",
        "# responden a las acciones del usuario.\n",
        "\n",
        "from mlxtend.plotting import plot_decision_regions\n",
        "# La librería mlxtend.plotting es parte de mlxtend (machine learning extensions), una biblioteca de Python que proporciona herramientas adicionales para el\n",
        "# análisis y visualización de datos, especialmente orientadas a machine learning y análisis exploratorio. La sublibrería mlxtend.plotting está diseñada para\n",
        "# facilitar la visualización de resultados y modelos de aprendizaje automático, creando gráficos que son útiles tanto para la interpretación de modelos como\n",
        "# para la presentación de resultados\n",
        "\n",
        "from dataprep.eda import create_report\n",
        "# La librería dataprep.eda es parte de la biblioteca dataprep en Python y está diseñada para facilitar el proceso de exploración y análisis de datos. Es una\n",
        "# herramienta muy útil para realizar un análisis exploratorio de datos (EDA) de manera rápida y eficiente, sin necesidad de escribir mucho código.\n",
        "# dataprep.eda automatiza muchas tareas comunes en la exploración de datos y te permite obtener información valiosa sobre tu conjunto de datos con poco esfuerzo\n",
        "\n",
        "from gapminder import gapminder\n",
        "# Gapminder es una biblioteca utilizada para trabajar con el conjunto de datos Gapminder, que contiene información socioeconómica y de salud\n",
        "# de varios países a lo largo del tiempo. Este conjunto de datos es muy popular en análisis de datos, visualización y aprendizaje de estadísticas.\n",
        "\n",
        "from sklearn.linear_model import LogisticRegression\n",
        "from sklearn.preprocessing import LabelEncoder\n",
        "from sklearn.preprocessing import OneHotEncoder\n",
        "from sklearn.preprocessing import PolynomialFeatures\n",
        "from sklearn.preprocessing import MinMaxScaler\n",
        "label_encoder = LabelEncoder()\n",
        "from sklearn.decomposition import PCA\n",
        "from sklearn.model_selection import train_test_split\n",
        "from sklearn.metrics import confusion_matrix, ConfusionMatrixDisplay, classification_report\n",
        "from sklearn.datasets import make_blobs"
      ]
    },
    {
      "cell_type": "code",
      "source": [
        "# Configuración de Enlaces de los Datasets del Proyecto en Github\n",
        "URL1 = 'https://github.com/Leonardo-rodcas/Proyecto-DS-61190-E-Commerce/raw/refs/heads/main/2024_1_Pedidos_61190.xlsx'\n",
        "URL2 = 'https://github.com/Leonardo-rodcas/Proyecto-DS-61190-E-Commerce/raw/refs/heads/main/2024_2_Pedidos_61190.xlsx'\n",
        "URL3 = 'https://github.com/Leonardo-rodcas/Proyecto-DS-61190-E-Commerce/raw/refs/heads/main/2024_3_Pedidos_61190.xlsx'"
      ],
      "metadata": {
        "id": "VHPOcro3R9zm"
      },
      "execution_count": null,
      "outputs": []
    },
    {
      "cell_type": "code",
      "source": [
        "# Cremos Dataframes con los enlaces anteriores\n",
        "# A todos los campos los importo como String, para luego convertir particularmente los que no lo sean\n",
        "df_2024_Sem_1 = pd.read_excel(URL1, dtype='str')\n",
        "df_2024_Sem_2 = pd.read_excel(URL2, dtype='str')\n",
        "df_2024_Sem_3 = pd.read_excel(URL3, dtype='str')"
      ],
      "metadata": {
        "id": "Hs2xAAvLQPeF"
      },
      "execution_count": null,
      "outputs": []
    },
    {
      "cell_type": "code",
      "source": [
        "# Validamos que todas las columnas del primer dataframe sea String\n",
        "df_2024_Sem_1.info()"
      ],
      "metadata": {
        "collapsed": true,
        "id": "acFtVQ__QS9F"
      },
      "execution_count": null,
      "outputs": []
    },
    {
      "cell_type": "code",
      "source": [
        "# Validamos que todas las columnas del segundo dataframe sea String\n",
        "df_2024_Sem_2.info()"
      ],
      "metadata": {
        "collapsed": true,
        "id": "O1hqBkhxQW_l"
      },
      "execution_count": null,
      "outputs": []
    },
    {
      "cell_type": "code",
      "source": [
        "# Validamos que todas las columnas del tercer dataframe sea String\n",
        "df_2024_Sem_3.info()"
      ],
      "metadata": {
        "collapsed": true,
        "id": "OFnA4-bfQZUV"
      },
      "execution_count": null,
      "outputs": []
    },
    {
      "cell_type": "code",
      "source": [
        "# Creamos Dataframe Auxiliar con datos de Provicias\n",
        "URL3 = 'https://infra.datos.gob.ar/georef/provincias.json'\n",
        "response = requests.get(URL3)\n",
        "datos_json = json.loads(response.text)\n",
        "df_prov = pd.DataFrame.from_dict(datos_json['provincias'])\n",
        "\n",
        "# Renombramos la columna \"Id\" a \"Id Provincia\"\n",
        "df_prov = df_prov.rename(columns={'id': 'Id Provincia'})\n",
        "\n",
        "# Agregamos la columna \"Sigla Provincia\" y le aportamos un valor a cada una\n",
        "df_prov['Provincia Sigla']=\"\"\n",
        "df_prov.loc[df_prov['Id Provincia'] == '02', 'Provincia Sigla'] = 'CABA'\n",
        "df_prov.loc[df_prov['Id Provincia'] == '06', 'Provincia Sigla'] = 'BSAS'\n",
        "df_prov.loc[df_prov['Id Provincia'] == '10', 'Provincia Sigla'] = 'CATA'\n",
        "df_prov.loc[df_prov['Id Provincia'] == '14', 'Provincia Sigla'] = 'CORD'\n",
        "df_prov.loc[df_prov['Id Provincia'] == '18', 'Provincia Sigla'] = 'CTES'\n",
        "df_prov.loc[df_prov['Id Provincia'] == '22', 'Provincia Sigla'] = 'CHAC'\n",
        "df_prov.loc[df_prov['Id Provincia'] == '26', 'Provincia Sigla'] = 'CHUB'\n",
        "df_prov.loc[df_prov['Id Provincia'] == '30', 'Provincia Sigla'] = 'ERIO'\n",
        "df_prov.loc[df_prov['Id Provincia'] == '34', 'Provincia Sigla'] = 'FORM'\n",
        "df_prov.loc[df_prov['Id Provincia'] == '38', 'Provincia Sigla'] = 'JUJU'\n",
        "df_prov.loc[df_prov['Id Provincia'] == '42', 'Provincia Sigla'] = 'PAMP'\n",
        "df_prov.loc[df_prov['Id Provincia'] == '46', 'Provincia Sigla'] = 'RIOJ'\n",
        "df_prov.loc[df_prov['Id Provincia'] == '50', 'Provincia Sigla'] = 'MEND'\n",
        "df_prov.loc[df_prov['Id Provincia'] == '54', 'Provincia Sigla'] = 'MISI'\n",
        "df_prov.loc[df_prov['Id Provincia'] == '58', 'Provincia Sigla'] = 'NEUQ'\n",
        "df_prov.loc[df_prov['Id Provincia'] == '62', 'Provincia Sigla'] = 'RNEG'\n",
        "df_prov.loc[df_prov['Id Provincia'] == '66', 'Provincia Sigla'] = 'SALT'\n",
        "df_prov.loc[df_prov['Id Provincia'] == '70', 'Provincia Sigla'] = 'SJUA'\n",
        "df_prov.loc[df_prov['Id Provincia'] == '74', 'Provincia Sigla'] = 'SLUI'\n",
        "df_prov.loc[df_prov['Id Provincia'] == '78', 'Provincia Sigla'] = 'SCRU'\n",
        "df_prov.loc[df_prov['Id Provincia'] == '82', 'Provincia Sigla'] = 'SAFE'\n",
        "df_prov.loc[df_prov['Id Provincia'] == '86', 'Provincia Sigla'] = 'SEST'\n",
        "df_prov.loc[df_prov['Id Provincia'] == '90', 'Provincia Sigla'] = 'TUCU'\n",
        "df_prov.loc[df_prov['Id Provincia'] == '94', 'Provincia Sigla'] = 'TFUE'\n",
        "\n",
        "# Mostramos resultado\n",
        "df_prov.head(5)"
      ],
      "metadata": {
        "collapsed": true,
        "id": "2T1fADC8QfuF"
      },
      "execution_count": null,
      "outputs": []
    },
    {
      "cell_type": "markdown",
      "source": [
        "# **Data Wrangling**"
      ],
      "metadata": {
        "id": "zxvqlJ2iZ8Bd"
      }
    },
    {
      "cell_type": "markdown",
      "source": [
        "## **Concatenado de Dataframes**"
      ],
      "metadata": {
        "id": "2FLyOvICbW5R"
      }
    },
    {
      "cell_type": "code",
      "source": [
        "# Concatenamos los 3 Dataframes del año 2024\n",
        "frames = [df_2024_Sem_1, df_2024_Sem_2, df_2024_Sem_3]\n",
        "df_concat = pd.concat(frames)"
      ],
      "metadata": {
        "id": "SGLViFzsQe2H"
      },
      "execution_count": null,
      "outputs": []
    },
    {
      "cell_type": "markdown",
      "source": [
        "## **Merge de Dataframes**"
      ],
      "metadata": {
        "id": "GNedlHmabmXp"
      }
    },
    {
      "cell_type": "code",
      "source": [
        "# Hacemos Merge entre el Dataframe principal y el de provicias para agregar la columna Sigla de la provincia\n",
        "df = pd.merge(df_concat, df_prov, left_on = \"Id Provincia\", right_on = \"Id Provincia\", how = 'left')\n",
        "df.shape"
      ],
      "metadata": {
        "collapsed": true,
        "id": "3u7t2Ny5QksV"
      },
      "execution_count": null,
      "outputs": []
    },
    {
      "cell_type": "markdown",
      "source": [
        "## **Registros en NaN**"
      ],
      "metadata": {
        "id": "LCjWcduLbtO5"
      }
    },
    {
      "cell_type": "code",
      "source": [
        "# Buscamos registros NaN en los campos geográficos para que quede constancia de los mismos\n",
        "df_geo = df[['Entrega','Codigo Postal','Provincia','Provincia Sigla']]\n",
        "df_geo.loc[df_geo['Provincia Sigla'].isna()]"
      ],
      "metadata": {
        "collapsed": true,
        "id": "I46VaJYkQqpV"
      },
      "execution_count": null,
      "outputs": []
    },
    {
      "cell_type": "code",
      "source": [
        "# Borramos registros NaN en todo lo referente a los datos geográficos del Dataframe principal\n",
        "df = df.dropna(subset=['Provincia Sigla'])\n",
        "df.shape"
      ],
      "metadata": {
        "collapsed": true,
        "id": "4hK-DQi-QuSm"
      },
      "execution_count": null,
      "outputs": []
    },
    {
      "cell_type": "markdown",
      "source": [
        "## **Cambio del tipo de datos de las columnas**"
      ],
      "metadata": {
        "id": "C5wvXc-fb2z5"
      }
    },
    {
      "cell_type": "code",
      "source": [
        "# Cambiamos el tipo de datos de las columnas que corresponda\n",
        "df = df.astype({\n",
        "    'Entrega': 'int64',\n",
        "    'Distribuidor': 'category',\n",
        "    'Distribuidor Sigla': 'category',\n",
        "    'Centro': 'category',\n",
        "    'Centro Sigla': 'category',\n",
        "    'Centro Tipo': 'category',\n",
        "    'Tipo de Distribución Comercial': 'category',\n",
        "    'Codigo Postal': 'int64',\n",
        "    'Id Provincia': 'int64',\n",
        "    'Provincia': 'category',\n",
        "    'Localidad': 'category',\n",
        "    'Departamento': 'category',\n",
        "    'Aglomerado': 'category',\n",
        "    'Id Zona Logistica': 'int64',\n",
        "    'Zona Logistica': 'category',\n",
        "    'Zona E-Commerce': 'category',\n",
        "    'Periodo': 'category',\n",
        "    'Año': 'int64',\n",
        "    'Mes Sigla': 'category',\n",
        "    'Mes Nombre': 'category',\n",
        "    'Mes Numero': 'int64',\n",
        "    'Trimestre Sigla': 'category',\n",
        "    'Trimestre Nombre': 'category',\n",
        "    'Trimestre Numero': 'int64',\n",
        "    'Semestre': 'int64',\n",
        "    'Año Semana': 'category',\n",
        "    'Dia Semana Sigla': 'category',\n",
        "    'Dia Semana Nombre': 'category',\n",
        "    'Dia Semana Numero': 'int64',\n",
        "    'Hora': 'int64',\n",
        "    'ID Visita 1 Motivo': 'category',\n",
        "    'Visita 1 Motivo': 'category',\n",
        "    'Dias Primer Visita': 'int64',\n",
        "    'Flag Visita 1 Puntual': 'category',\n",
        "    'Estado Visita': 'category',\n",
        "    'Estado Distribución': 'category',\n",
        "    'Calidad de la Direccion': 'category',\n",
        "    'Cantidad de Pedidos': 'int64',\n",
        "    'Visita 1 Puntual': 'int64',\n",
        "    'Cant. Primera Visita': 'int64',\n",
        "    'Cant. Vis. y Ent. 1ra Visita': 'int64',\n",
        "    'Cantidad Celulares': 'int64',\n",
        "    'Cantidad Tarjetas SIMs': 'int64',\n",
        "    'Cantidad Accesorios': 'int64',\n",
        "    'Cantidad Accesorios IOT': 'int64',\n",
        "    'Peso Bruto': 'float64',\n",
        "    'Costo Total de Materiales': 'float64',\n",
        "    'Valor Total USD': 'float64',\n",
        "})\n",
        "\n",
        "df['Fecha Pedido'] = pd.to_datetime(df['Fecha Pedido'])\n",
        "df['Visita 1 Fecha'] = pd.to_datetime(df['Visita 1 Fecha'])"
      ],
      "metadata": {
        "id": "61ld0MqYQzwl"
      },
      "execution_count": null,
      "outputs": []
    },
    {
      "cell_type": "markdown",
      "source": [
        "## **Renombramos las columnas**"
      ],
      "metadata": {
        "id": "BRYw6RTlb-9Y"
      }
    },
    {
      "cell_type": "code",
      "source": [
        "# Cambiamos nombres de las columnas que necesiten ser más claras en lo descriptivo\n",
        "df = df.rename(columns={'Hora': 'Hora Pedido'})\n",
        "df = df.rename(columns={'Costo Total de Materiales': 'Valor Total en Pesos'})\n",
        "df = df.rename(columns={'Valor Total USD': 'Valor Total en Dolares'})"
      ],
      "metadata": {
        "id": "0WDFaPB4Q3pF"
      },
      "execution_count": null,
      "outputs": []
    },
    {
      "cell_type": "markdown",
      "source": [
        "## **Creación de nuevos campos**"
      ],
      "metadata": {
        "id": "zQ2a3vcdcG3x"
      }
    },
    {
      "cell_type": "code",
      "source": [
        "# reamos el campo \"Hora Visita\" en formato de 2 dígitos (los 2 de la izquierda del campo \"Visita 1 Hora\")\n",
        "df['Hora Visita'] = df['Visita 1 Hora'].str.slice(0, 2)\n",
        "\n",
        "# Cambiamos a Nan los valores Numeral (\"#\") del campo \"Hora Visita\"\n",
        "df.loc[df['Hora Visita'] == '#', 'Hora Visita'] = np.nan\n",
        "\n",
        "# Cambiamos el tipo de datos de esta nueva columna a \"Int64\"\n",
        "df['Hora Visita'] = df['Hora Visita'].astype('Int64')\n",
        "\n",
        "# Validamos que haya quedado correcto el cambio\n",
        "df[['Entrega','Hora Visita']]"
      ],
      "metadata": {
        "collapsed": true,
        "id": "J7G6Ra02Q7Ts"
      },
      "execution_count": null,
      "outputs": []
    },
    {
      "cell_type": "markdown",
      "source": [
        "## **Borrado de Campos innecesarios**"
      ],
      "metadata": {
        "id": "CD22LepYcMTQ"
      }
    },
    {
      "cell_type": "code",
      "source": [
        "# Borramos las columnas que no aportan valor al Dataframe\n",
        "df = df.drop(['Canal', 'Subcanal', 'Centro', 'Centro Sigla', 'Centro Tipo', 'Puesto de Expedicion', 'Visita 1 Trackeo', 'Visita 1 Transporte', 'Días contrato primera visita'], axis=1)\n",
        "df = df.drop(['Cantidad Tarjetas SIMs', 'Cantidad Accesorios IOT', 'nombre', 'nombre_completo', 'fuente', 'iso_id', 'iso_nombre'], axis=1)\n",
        "df = df.drop(['Latitud Provincia', 'Longitud Provincia', 'Latitud Departamento', 'Longitud Departamento', 'Latitud Localidad', 'Longitud Localidad'], axis=1)\n",
        "df = df.drop(['centroide', 'categoria', 'Año', 'Cantidad de Pedidos'], axis=1)"
      ],
      "metadata": {
        "id": "GwAc8v9aQ-n8"
      },
      "execution_count": null,
      "outputs": []
    },
    {
      "cell_type": "markdown",
      "source": [
        "## Definición del Índice"
      ],
      "metadata": {
        "id": "Io7TwgLlZaov"
      }
    },
    {
      "cell_type": "code",
      "source": [
        "# Indice del Dataframe Principal\n",
        "df = df.set_index('Entrega')"
      ],
      "metadata": {
        "id": "Q-oAzG3kZjxw"
      },
      "execution_count": 62,
      "outputs": []
    },
    {
      "cell_type": "code",
      "source": [
        "df"
      ],
      "metadata": {
        "id": "9lF-T6A7dzSW",
        "outputId": "2e134078-e31b-4f00-984b-e751f53948fe",
        "colab": {
          "base_uri": "https://localhost:8080/",
          "height": 874
        }
      },
      "execution_count": 63,
      "outputs": [
        {
          "output_type": "execute_result",
          "data": {
            "text/plain": [
              "           Fecha Pedido      Distribuidor Distribuidor Sigla  \\\n",
              "Entrega                                                        \n",
              "5906893018   2024-01-01   Correo Andreani                AND   \n",
              "5906893019   2024-01-01   Correo Andreani                AND   \n",
              "5906893020   2024-01-01  Correo Argentino                COA   \n",
              "5906893021   2024-01-01   Correo Andreani                AND   \n",
              "5906893022   2024-01-01  Correo Argentino                COA   \n",
              "...                 ...               ...                ...   \n",
              "5908276613   2024-11-30   Correo Andreani                AND   \n",
              "5908276614   2024-11-30  Correo Argentino                COA   \n",
              "5908276615   2024-11-30   Correo Andreani                AND   \n",
              "5908276616   2024-11-30   Correo Andreani                AND   \n",
              "5908276617   2024-11-30   Correo Andreani                AND   \n",
              "\n",
              "           Tipo de Distribución Comercial  Codigo Postal  Id Provincia  \\\n",
              "Entrega                                                                  \n",
              "5906893018                  Pedido Simple           1826             6   \n",
              "5906893019               Pedido Combinado           1744             6   \n",
              "5906893020                  Pedido Simple           4101            90   \n",
              "5906893021                  Pedido Simple           4600            38   \n",
              "5906893022                  Pedido Simple           8300            58   \n",
              "...                                   ...            ...           ...   \n",
              "5908276613                  Pedido Simple           1757             6   \n",
              "5908276614                  Pedido Simple           9100            26   \n",
              "5908276615                  Pedido Simple           5152            14   \n",
              "5908276616               Pedido Combinado           9120            26   \n",
              "5908276617               Pedido Combinado           1897             6   \n",
              "\n",
              "               Provincia              Localidad         Departamento  \\\n",
              "Entrega                                                                \n",
              "5906893018  BUENOS AIRES   REMEDIOS DE ESCALADA      TRES DE FEBRERO   \n",
              "5906893019  BUENOS AIRES                 MORENO               MORENO   \n",
              "5906893020       TUCUMAN            LAS TALITAS               SIMOCA   \n",
              "5906893021         JUJUY  SAN SALVADOR DE JUJUY  DR. MANUEL BELGRANO   \n",
              "5906893022       NEUQUEN                NEUQUEN          CONFLUENCIA   \n",
              "...                  ...                    ...                  ...   \n",
              "5908276613  BUENOS AIRES  GREGORIO DE LAFERRERE           LA MATANZA   \n",
              "5908276614        CHUBUT                 TRELEW               RAWSON   \n",
              "5908276615       CORDOBA       VILLA CARLOS PAZ              PUNILLA   \n",
              "5908276616        CHUBUT          PUERTO MADRYN               BIEDMA   \n",
              "5908276617  BUENOS AIRES        MANUEL B GONNET             LA PLATA   \n",
              "\n",
              "                                                   Aglomerado  ...  \\\n",
              "Entrega                                                        ...   \n",
              "5906893018                                  GRAN BUENOS AIRES  ...   \n",
              "5906893019                                  GRAN BUENOS AIRES  ...   \n",
              "5906893020                                                  #  ...   \n",
              "5906893021                         GRAN SAN SALVADOR DE JUJUY  ...   \n",
              "5906893022                    NEUQUEN - PLOTTIER - CIPOLLETTI  ...   \n",
              "...                                                       ...  ...   \n",
              "5908276613                                  GRAN BUENOS AIRES  ...   \n",
              "5908276614                                             TRELEW  ...   \n",
              "5908276615  VILLA CARLOS PAZ - SAN ANTONIO DE ARREDONDO - ...  ...   \n",
              "5908276616                                      PUERTO MADRYN  ...   \n",
              "5908276617                                      GRAN LA PLATA  ...   \n",
              "\n",
              "            Visita 1 Puntual Cant. Primera Visita  \\\n",
              "Entrega                                             \n",
              "5906893018                 0                    1   \n",
              "5906893019                 1                    1   \n",
              "5906893020                 1                    1   \n",
              "5906893021                 0                    1   \n",
              "5906893022                 1                    1   \n",
              "...                      ...                  ...   \n",
              "5908276613                 1                    1   \n",
              "5908276614                 1                    1   \n",
              "5908276615                 1                    1   \n",
              "5908276616                 0                    1   \n",
              "5908276617                 1                    1   \n",
              "\n",
              "           Cant. Vis. y Ent. 1ra Visita Cantidad Celulares  \\\n",
              "Entrega                                                      \n",
              "5906893018                            1                  1   \n",
              "5906893019                            1                  1   \n",
              "5906893020                            1                  1   \n",
              "5906893021                            1                  1   \n",
              "5906893022                            1                  1   \n",
              "...                                 ...                ...   \n",
              "5908276613                            1                  1   \n",
              "5908276614                            0                  1   \n",
              "5908276615                            1                  0   \n",
              "5908276616                            1                  1   \n",
              "5908276617                            1                  1   \n",
              "\n",
              "           Cantidad Accesorios Peso Bruto  Valor Total en Pesos  \\\n",
              "Entrega                                                           \n",
              "5906893018                   0      0.375              70727.08   \n",
              "5906893019                   1      0.390              61848.71   \n",
              "5906893020                   0      0.310              39441.45   \n",
              "5906893021                   0      0.375              70727.08   \n",
              "5906893022                   0      0.305              61699.50   \n",
              "...                        ...        ...                   ...   \n",
              "5908276613                   0      0.270             150765.29   \n",
              "5908276614                   0      0.260             302685.57   \n",
              "5908276615                   1      0.010              12645.58   \n",
              "5908276616                   1      0.412             188992.72   \n",
              "5908276617                   1      0.387             231183.29   \n",
              "\n",
              "           Valor Total en Dolares Provincia Sigla  Hora Visita  \n",
              "Entrega                                                         \n",
              "5906893018                 87.539            BSAS           12  \n",
              "5906893019                 76.550            BSAS           12  \n",
              "5906893020                 48.817            TUCU            9  \n",
              "5906893021                 87.539            JUJU           13  \n",
              "5906893022                 76.365            NEUQ           11  \n",
              "...                           ...             ...          ...  \n",
              "5908276613                149.421            BSAS           16  \n",
              "5908276614                299.986            CHUB           13  \n",
              "5908276615                 12.533            CORD           13  \n",
              "5908276616                187.307            CHUB           12  \n",
              "5908276617                229.121            BSAS           12  \n",
              "\n",
              "[190152 rows x 45 columns]"
            ],
            "text/html": [
              "\n",
              "  <div id=\"df-e22dca52-be2b-4e93-baf3-fcaa9daa96ce\" class=\"colab-df-container\">\n",
              "    <div>\n",
              "<style scoped>\n",
              "    .dataframe tbody tr th:only-of-type {\n",
              "        vertical-align: middle;\n",
              "    }\n",
              "\n",
              "    .dataframe tbody tr th {\n",
              "        vertical-align: top;\n",
              "    }\n",
              "\n",
              "    .dataframe thead th {\n",
              "        text-align: right;\n",
              "    }\n",
              "</style>\n",
              "<table border=\"1\" class=\"dataframe\">\n",
              "  <thead>\n",
              "    <tr style=\"text-align: right;\">\n",
              "      <th></th>\n",
              "      <th>Fecha Pedido</th>\n",
              "      <th>Distribuidor</th>\n",
              "      <th>Distribuidor Sigla</th>\n",
              "      <th>Tipo de Distribución Comercial</th>\n",
              "      <th>Codigo Postal</th>\n",
              "      <th>Id Provincia</th>\n",
              "      <th>Provincia</th>\n",
              "      <th>Localidad</th>\n",
              "      <th>Departamento</th>\n",
              "      <th>Aglomerado</th>\n",
              "      <th>...</th>\n",
              "      <th>Visita 1 Puntual</th>\n",
              "      <th>Cant. Primera Visita</th>\n",
              "      <th>Cant. Vis. y Ent. 1ra Visita</th>\n",
              "      <th>Cantidad Celulares</th>\n",
              "      <th>Cantidad Accesorios</th>\n",
              "      <th>Peso Bruto</th>\n",
              "      <th>Valor Total en Pesos</th>\n",
              "      <th>Valor Total en Dolares</th>\n",
              "      <th>Provincia Sigla</th>\n",
              "      <th>Hora Visita</th>\n",
              "    </tr>\n",
              "    <tr>\n",
              "      <th>Entrega</th>\n",
              "      <th></th>\n",
              "      <th></th>\n",
              "      <th></th>\n",
              "      <th></th>\n",
              "      <th></th>\n",
              "      <th></th>\n",
              "      <th></th>\n",
              "      <th></th>\n",
              "      <th></th>\n",
              "      <th></th>\n",
              "      <th></th>\n",
              "      <th></th>\n",
              "      <th></th>\n",
              "      <th></th>\n",
              "      <th></th>\n",
              "      <th></th>\n",
              "      <th></th>\n",
              "      <th></th>\n",
              "      <th></th>\n",
              "      <th></th>\n",
              "      <th></th>\n",
              "    </tr>\n",
              "  </thead>\n",
              "  <tbody>\n",
              "    <tr>\n",
              "      <th>5906893018</th>\n",
              "      <td>2024-01-01</td>\n",
              "      <td>Correo Andreani</td>\n",
              "      <td>AND</td>\n",
              "      <td>Pedido Simple</td>\n",
              "      <td>1826</td>\n",
              "      <td>6</td>\n",
              "      <td>BUENOS AIRES</td>\n",
              "      <td>REMEDIOS DE ESCALADA</td>\n",
              "      <td>TRES DE FEBRERO</td>\n",
              "      <td>GRAN BUENOS AIRES</td>\n",
              "      <td>...</td>\n",
              "      <td>0</td>\n",
              "      <td>1</td>\n",
              "      <td>1</td>\n",
              "      <td>1</td>\n",
              "      <td>0</td>\n",
              "      <td>0.375</td>\n",
              "      <td>70727.08</td>\n",
              "      <td>87.539</td>\n",
              "      <td>BSAS</td>\n",
              "      <td>12</td>\n",
              "    </tr>\n",
              "    <tr>\n",
              "      <th>5906893019</th>\n",
              "      <td>2024-01-01</td>\n",
              "      <td>Correo Andreani</td>\n",
              "      <td>AND</td>\n",
              "      <td>Pedido Combinado</td>\n",
              "      <td>1744</td>\n",
              "      <td>6</td>\n",
              "      <td>BUENOS AIRES</td>\n",
              "      <td>MORENO</td>\n",
              "      <td>MORENO</td>\n",
              "      <td>GRAN BUENOS AIRES</td>\n",
              "      <td>...</td>\n",
              "      <td>1</td>\n",
              "      <td>1</td>\n",
              "      <td>1</td>\n",
              "      <td>1</td>\n",
              "      <td>1</td>\n",
              "      <td>0.390</td>\n",
              "      <td>61848.71</td>\n",
              "      <td>76.550</td>\n",
              "      <td>BSAS</td>\n",
              "      <td>12</td>\n",
              "    </tr>\n",
              "    <tr>\n",
              "      <th>5906893020</th>\n",
              "      <td>2024-01-01</td>\n",
              "      <td>Correo Argentino</td>\n",
              "      <td>COA</td>\n",
              "      <td>Pedido Simple</td>\n",
              "      <td>4101</td>\n",
              "      <td>90</td>\n",
              "      <td>TUCUMAN</td>\n",
              "      <td>LAS TALITAS</td>\n",
              "      <td>SIMOCA</td>\n",
              "      <td>#</td>\n",
              "      <td>...</td>\n",
              "      <td>1</td>\n",
              "      <td>1</td>\n",
              "      <td>1</td>\n",
              "      <td>1</td>\n",
              "      <td>0</td>\n",
              "      <td>0.310</td>\n",
              "      <td>39441.45</td>\n",
              "      <td>48.817</td>\n",
              "      <td>TUCU</td>\n",
              "      <td>9</td>\n",
              "    </tr>\n",
              "    <tr>\n",
              "      <th>5906893021</th>\n",
              "      <td>2024-01-01</td>\n",
              "      <td>Correo Andreani</td>\n",
              "      <td>AND</td>\n",
              "      <td>Pedido Simple</td>\n",
              "      <td>4600</td>\n",
              "      <td>38</td>\n",
              "      <td>JUJUY</td>\n",
              "      <td>SAN SALVADOR DE JUJUY</td>\n",
              "      <td>DR. MANUEL BELGRANO</td>\n",
              "      <td>GRAN SAN SALVADOR DE JUJUY</td>\n",
              "      <td>...</td>\n",
              "      <td>0</td>\n",
              "      <td>1</td>\n",
              "      <td>1</td>\n",
              "      <td>1</td>\n",
              "      <td>0</td>\n",
              "      <td>0.375</td>\n",
              "      <td>70727.08</td>\n",
              "      <td>87.539</td>\n",
              "      <td>JUJU</td>\n",
              "      <td>13</td>\n",
              "    </tr>\n",
              "    <tr>\n",
              "      <th>5906893022</th>\n",
              "      <td>2024-01-01</td>\n",
              "      <td>Correo Argentino</td>\n",
              "      <td>COA</td>\n",
              "      <td>Pedido Simple</td>\n",
              "      <td>8300</td>\n",
              "      <td>58</td>\n",
              "      <td>NEUQUEN</td>\n",
              "      <td>NEUQUEN</td>\n",
              "      <td>CONFLUENCIA</td>\n",
              "      <td>NEUQUEN - PLOTTIER - CIPOLLETTI</td>\n",
              "      <td>...</td>\n",
              "      <td>1</td>\n",
              "      <td>1</td>\n",
              "      <td>1</td>\n",
              "      <td>1</td>\n",
              "      <td>0</td>\n",
              "      <td>0.305</td>\n",
              "      <td>61699.50</td>\n",
              "      <td>76.365</td>\n",
              "      <td>NEUQ</td>\n",
              "      <td>11</td>\n",
              "    </tr>\n",
              "    <tr>\n",
              "      <th>...</th>\n",
              "      <td>...</td>\n",
              "      <td>...</td>\n",
              "      <td>...</td>\n",
              "      <td>...</td>\n",
              "      <td>...</td>\n",
              "      <td>...</td>\n",
              "      <td>...</td>\n",
              "      <td>...</td>\n",
              "      <td>...</td>\n",
              "      <td>...</td>\n",
              "      <td>...</td>\n",
              "      <td>...</td>\n",
              "      <td>...</td>\n",
              "      <td>...</td>\n",
              "      <td>...</td>\n",
              "      <td>...</td>\n",
              "      <td>...</td>\n",
              "      <td>...</td>\n",
              "      <td>...</td>\n",
              "      <td>...</td>\n",
              "      <td>...</td>\n",
              "    </tr>\n",
              "    <tr>\n",
              "      <th>5908276613</th>\n",
              "      <td>2024-11-30</td>\n",
              "      <td>Correo Andreani</td>\n",
              "      <td>AND</td>\n",
              "      <td>Pedido Simple</td>\n",
              "      <td>1757</td>\n",
              "      <td>6</td>\n",
              "      <td>BUENOS AIRES</td>\n",
              "      <td>GREGORIO DE LAFERRERE</td>\n",
              "      <td>LA MATANZA</td>\n",
              "      <td>GRAN BUENOS AIRES</td>\n",
              "      <td>...</td>\n",
              "      <td>1</td>\n",
              "      <td>1</td>\n",
              "      <td>1</td>\n",
              "      <td>1</td>\n",
              "      <td>0</td>\n",
              "      <td>0.270</td>\n",
              "      <td>150765.29</td>\n",
              "      <td>149.421</td>\n",
              "      <td>BSAS</td>\n",
              "      <td>16</td>\n",
              "    </tr>\n",
              "    <tr>\n",
              "      <th>5908276614</th>\n",
              "      <td>2024-11-30</td>\n",
              "      <td>Correo Argentino</td>\n",
              "      <td>COA</td>\n",
              "      <td>Pedido Simple</td>\n",
              "      <td>9100</td>\n",
              "      <td>26</td>\n",
              "      <td>CHUBUT</td>\n",
              "      <td>TRELEW</td>\n",
              "      <td>RAWSON</td>\n",
              "      <td>TRELEW</td>\n",
              "      <td>...</td>\n",
              "      <td>1</td>\n",
              "      <td>1</td>\n",
              "      <td>0</td>\n",
              "      <td>1</td>\n",
              "      <td>0</td>\n",
              "      <td>0.260</td>\n",
              "      <td>302685.57</td>\n",
              "      <td>299.986</td>\n",
              "      <td>CHUB</td>\n",
              "      <td>13</td>\n",
              "    </tr>\n",
              "    <tr>\n",
              "      <th>5908276615</th>\n",
              "      <td>2024-11-30</td>\n",
              "      <td>Correo Andreani</td>\n",
              "      <td>AND</td>\n",
              "      <td>Pedido Simple</td>\n",
              "      <td>5152</td>\n",
              "      <td>14</td>\n",
              "      <td>CORDOBA</td>\n",
              "      <td>VILLA CARLOS PAZ</td>\n",
              "      <td>PUNILLA</td>\n",
              "      <td>VILLA CARLOS PAZ - SAN ANTONIO DE ARREDONDO - ...</td>\n",
              "      <td>...</td>\n",
              "      <td>1</td>\n",
              "      <td>1</td>\n",
              "      <td>1</td>\n",
              "      <td>0</td>\n",
              "      <td>1</td>\n",
              "      <td>0.010</td>\n",
              "      <td>12645.58</td>\n",
              "      <td>12.533</td>\n",
              "      <td>CORD</td>\n",
              "      <td>13</td>\n",
              "    </tr>\n",
              "    <tr>\n",
              "      <th>5908276616</th>\n",
              "      <td>2024-11-30</td>\n",
              "      <td>Correo Andreani</td>\n",
              "      <td>AND</td>\n",
              "      <td>Pedido Combinado</td>\n",
              "      <td>9120</td>\n",
              "      <td>26</td>\n",
              "      <td>CHUBUT</td>\n",
              "      <td>PUERTO MADRYN</td>\n",
              "      <td>BIEDMA</td>\n",
              "      <td>PUERTO MADRYN</td>\n",
              "      <td>...</td>\n",
              "      <td>0</td>\n",
              "      <td>1</td>\n",
              "      <td>1</td>\n",
              "      <td>1</td>\n",
              "      <td>1</td>\n",
              "      <td>0.412</td>\n",
              "      <td>188992.72</td>\n",
              "      <td>187.307</td>\n",
              "      <td>CHUB</td>\n",
              "      <td>12</td>\n",
              "    </tr>\n",
              "    <tr>\n",
              "      <th>5908276617</th>\n",
              "      <td>2024-11-30</td>\n",
              "      <td>Correo Andreani</td>\n",
              "      <td>AND</td>\n",
              "      <td>Pedido Combinado</td>\n",
              "      <td>1897</td>\n",
              "      <td>6</td>\n",
              "      <td>BUENOS AIRES</td>\n",
              "      <td>MANUEL B GONNET</td>\n",
              "      <td>LA PLATA</td>\n",
              "      <td>GRAN LA PLATA</td>\n",
              "      <td>...</td>\n",
              "      <td>1</td>\n",
              "      <td>1</td>\n",
              "      <td>1</td>\n",
              "      <td>1</td>\n",
              "      <td>1</td>\n",
              "      <td>0.387</td>\n",
              "      <td>231183.29</td>\n",
              "      <td>229.121</td>\n",
              "      <td>BSAS</td>\n",
              "      <td>12</td>\n",
              "    </tr>\n",
              "  </tbody>\n",
              "</table>\n",
              "<p>190152 rows × 45 columns</p>\n",
              "</div>\n",
              "    <div class=\"colab-df-buttons\">\n",
              "\n",
              "  <div class=\"colab-df-container\">\n",
              "    <button class=\"colab-df-convert\" onclick=\"convertToInteractive('df-e22dca52-be2b-4e93-baf3-fcaa9daa96ce')\"\n",
              "            title=\"Convert this dataframe to an interactive table.\"\n",
              "            style=\"display:none;\">\n",
              "\n",
              "  <svg xmlns=\"http://www.w3.org/2000/svg\" height=\"24px\" viewBox=\"0 -960 960 960\">\n",
              "    <path d=\"M120-120v-720h720v720H120Zm60-500h600v-160H180v160Zm220 220h160v-160H400v160Zm0 220h160v-160H400v160ZM180-400h160v-160H180v160Zm440 0h160v-160H620v160ZM180-180h160v-160H180v160Zm440 0h160v-160H620v160Z\"/>\n",
              "  </svg>\n",
              "    </button>\n",
              "\n",
              "  <style>\n",
              "    .colab-df-container {\n",
              "      display:flex;\n",
              "      gap: 12px;\n",
              "    }\n",
              "\n",
              "    .colab-df-convert {\n",
              "      background-color: #E8F0FE;\n",
              "      border: none;\n",
              "      border-radius: 50%;\n",
              "      cursor: pointer;\n",
              "      display: none;\n",
              "      fill: #1967D2;\n",
              "      height: 32px;\n",
              "      padding: 0 0 0 0;\n",
              "      width: 32px;\n",
              "    }\n",
              "\n",
              "    .colab-df-convert:hover {\n",
              "      background-color: #E2EBFA;\n",
              "      box-shadow: 0px 1px 2px rgba(60, 64, 67, 0.3), 0px 1px 3px 1px rgba(60, 64, 67, 0.15);\n",
              "      fill: #174EA6;\n",
              "    }\n",
              "\n",
              "    .colab-df-buttons div {\n",
              "      margin-bottom: 4px;\n",
              "    }\n",
              "\n",
              "    [theme=dark] .colab-df-convert {\n",
              "      background-color: #3B4455;\n",
              "      fill: #D2E3FC;\n",
              "    }\n",
              "\n",
              "    [theme=dark] .colab-df-convert:hover {\n",
              "      background-color: #434B5C;\n",
              "      box-shadow: 0px 1px 3px 1px rgba(0, 0, 0, 0.15);\n",
              "      filter: drop-shadow(0px 1px 2px rgba(0, 0, 0, 0.3));\n",
              "      fill: #FFFFFF;\n",
              "    }\n",
              "  </style>\n",
              "\n",
              "    <script>\n",
              "      const buttonEl =\n",
              "        document.querySelector('#df-e22dca52-be2b-4e93-baf3-fcaa9daa96ce button.colab-df-convert');\n",
              "      buttonEl.style.display =\n",
              "        google.colab.kernel.accessAllowed ? 'block' : 'none';\n",
              "\n",
              "      async function convertToInteractive(key) {\n",
              "        const element = document.querySelector('#df-e22dca52-be2b-4e93-baf3-fcaa9daa96ce');\n",
              "        const dataTable =\n",
              "          await google.colab.kernel.invokeFunction('convertToInteractive',\n",
              "                                                    [key], {});\n",
              "        if (!dataTable) return;\n",
              "\n",
              "        const docLinkHtml = 'Like what you see? Visit the ' +\n",
              "          '<a target=\"_blank\" href=https://colab.research.google.com/notebooks/data_table.ipynb>data table notebook</a>'\n",
              "          + ' to learn more about interactive tables.';\n",
              "        element.innerHTML = '';\n",
              "        dataTable['output_type'] = 'display_data';\n",
              "        await google.colab.output.renderOutput(dataTable, element);\n",
              "        const docLink = document.createElement('div');\n",
              "        docLink.innerHTML = docLinkHtml;\n",
              "        element.appendChild(docLink);\n",
              "      }\n",
              "    </script>\n",
              "  </div>\n",
              "\n",
              "\n",
              "<div id=\"df-35aaf308-2ce0-4985-be0a-1b4258d75f2f\">\n",
              "  <button class=\"colab-df-quickchart\" onclick=\"quickchart('df-35aaf308-2ce0-4985-be0a-1b4258d75f2f')\"\n",
              "            title=\"Suggest charts\"\n",
              "            style=\"display:none;\">\n",
              "\n",
              "<svg xmlns=\"http://www.w3.org/2000/svg\" height=\"24px\"viewBox=\"0 0 24 24\"\n",
              "     width=\"24px\">\n",
              "    <g>\n",
              "        <path d=\"M19 3H5c-1.1 0-2 .9-2 2v14c0 1.1.9 2 2 2h14c1.1 0 2-.9 2-2V5c0-1.1-.9-2-2-2zM9 17H7v-7h2v7zm4 0h-2V7h2v10zm4 0h-2v-4h2v4z\"/>\n",
              "    </g>\n",
              "</svg>\n",
              "  </button>\n",
              "\n",
              "<style>\n",
              "  .colab-df-quickchart {\n",
              "      --bg-color: #E8F0FE;\n",
              "      --fill-color: #1967D2;\n",
              "      --hover-bg-color: #E2EBFA;\n",
              "      --hover-fill-color: #174EA6;\n",
              "      --disabled-fill-color: #AAA;\n",
              "      --disabled-bg-color: #DDD;\n",
              "  }\n",
              "\n",
              "  [theme=dark] .colab-df-quickchart {\n",
              "      --bg-color: #3B4455;\n",
              "      --fill-color: #D2E3FC;\n",
              "      --hover-bg-color: #434B5C;\n",
              "      --hover-fill-color: #FFFFFF;\n",
              "      --disabled-bg-color: #3B4455;\n",
              "      --disabled-fill-color: #666;\n",
              "  }\n",
              "\n",
              "  .colab-df-quickchart {\n",
              "    background-color: var(--bg-color);\n",
              "    border: none;\n",
              "    border-radius: 50%;\n",
              "    cursor: pointer;\n",
              "    display: none;\n",
              "    fill: var(--fill-color);\n",
              "    height: 32px;\n",
              "    padding: 0;\n",
              "    width: 32px;\n",
              "  }\n",
              "\n",
              "  .colab-df-quickchart:hover {\n",
              "    background-color: var(--hover-bg-color);\n",
              "    box-shadow: 0 1px 2px rgba(60, 64, 67, 0.3), 0 1px 3px 1px rgba(60, 64, 67, 0.15);\n",
              "    fill: var(--button-hover-fill-color);\n",
              "  }\n",
              "\n",
              "  .colab-df-quickchart-complete:disabled,\n",
              "  .colab-df-quickchart-complete:disabled:hover {\n",
              "    background-color: var(--disabled-bg-color);\n",
              "    fill: var(--disabled-fill-color);\n",
              "    box-shadow: none;\n",
              "  }\n",
              "\n",
              "  .colab-df-spinner {\n",
              "    border: 2px solid var(--fill-color);\n",
              "    border-color: transparent;\n",
              "    border-bottom-color: var(--fill-color);\n",
              "    animation:\n",
              "      spin 1s steps(1) infinite;\n",
              "  }\n",
              "\n",
              "  @keyframes spin {\n",
              "    0% {\n",
              "      border-color: transparent;\n",
              "      border-bottom-color: var(--fill-color);\n",
              "      border-left-color: var(--fill-color);\n",
              "    }\n",
              "    20% {\n",
              "      border-color: transparent;\n",
              "      border-left-color: var(--fill-color);\n",
              "      border-top-color: var(--fill-color);\n",
              "    }\n",
              "    30% {\n",
              "      border-color: transparent;\n",
              "      border-left-color: var(--fill-color);\n",
              "      border-top-color: var(--fill-color);\n",
              "      border-right-color: var(--fill-color);\n",
              "    }\n",
              "    40% {\n",
              "      border-color: transparent;\n",
              "      border-right-color: var(--fill-color);\n",
              "      border-top-color: var(--fill-color);\n",
              "    }\n",
              "    60% {\n",
              "      border-color: transparent;\n",
              "      border-right-color: var(--fill-color);\n",
              "    }\n",
              "    80% {\n",
              "      border-color: transparent;\n",
              "      border-right-color: var(--fill-color);\n",
              "      border-bottom-color: var(--fill-color);\n",
              "    }\n",
              "    90% {\n",
              "      border-color: transparent;\n",
              "      border-bottom-color: var(--fill-color);\n",
              "    }\n",
              "  }\n",
              "</style>\n",
              "\n",
              "  <script>\n",
              "    async function quickchart(key) {\n",
              "      const quickchartButtonEl =\n",
              "        document.querySelector('#' + key + ' button');\n",
              "      quickchartButtonEl.disabled = true;  // To prevent multiple clicks.\n",
              "      quickchartButtonEl.classList.add('colab-df-spinner');\n",
              "      try {\n",
              "        const charts = await google.colab.kernel.invokeFunction(\n",
              "            'suggestCharts', [key], {});\n",
              "      } catch (error) {\n",
              "        console.error('Error during call to suggestCharts:', error);\n",
              "      }\n",
              "      quickchartButtonEl.classList.remove('colab-df-spinner');\n",
              "      quickchartButtonEl.classList.add('colab-df-quickchart-complete');\n",
              "    }\n",
              "    (() => {\n",
              "      let quickchartButtonEl =\n",
              "        document.querySelector('#df-35aaf308-2ce0-4985-be0a-1b4258d75f2f button');\n",
              "      quickchartButtonEl.style.display =\n",
              "        google.colab.kernel.accessAllowed ? 'block' : 'none';\n",
              "    })();\n",
              "  </script>\n",
              "</div>\n",
              "\n",
              "  <div id=\"id_b23533f4-e977-4605-81a8-07bfd9756372\">\n",
              "    <style>\n",
              "      .colab-df-generate {\n",
              "        background-color: #E8F0FE;\n",
              "        border: none;\n",
              "        border-radius: 50%;\n",
              "        cursor: pointer;\n",
              "        display: none;\n",
              "        fill: #1967D2;\n",
              "        height: 32px;\n",
              "        padding: 0 0 0 0;\n",
              "        width: 32px;\n",
              "      }\n",
              "\n",
              "      .colab-df-generate:hover {\n",
              "        background-color: #E2EBFA;\n",
              "        box-shadow: 0px 1px 2px rgba(60, 64, 67, 0.3), 0px 1px 3px 1px rgba(60, 64, 67, 0.15);\n",
              "        fill: #174EA6;\n",
              "      }\n",
              "\n",
              "      [theme=dark] .colab-df-generate {\n",
              "        background-color: #3B4455;\n",
              "        fill: #D2E3FC;\n",
              "      }\n",
              "\n",
              "      [theme=dark] .colab-df-generate:hover {\n",
              "        background-color: #434B5C;\n",
              "        box-shadow: 0px 1px 3px 1px rgba(0, 0, 0, 0.15);\n",
              "        filter: drop-shadow(0px 1px 2px rgba(0, 0, 0, 0.3));\n",
              "        fill: #FFFFFF;\n",
              "      }\n",
              "    </style>\n",
              "    <button class=\"colab-df-generate\" onclick=\"generateWithVariable('df')\"\n",
              "            title=\"Generate code using this dataframe.\"\n",
              "            style=\"display:none;\">\n",
              "\n",
              "  <svg xmlns=\"http://www.w3.org/2000/svg\" height=\"24px\"viewBox=\"0 0 24 24\"\n",
              "       width=\"24px\">\n",
              "    <path d=\"M7,19H8.4L18.45,9,17,7.55,7,17.6ZM5,21V16.75L18.45,3.32a2,2,0,0,1,2.83,0l1.4,1.43a1.91,1.91,0,0,1,.58,1.4,1.91,1.91,0,0,1-.58,1.4L9.25,21ZM18.45,9,17,7.55Zm-12,3A5.31,5.31,0,0,0,4.9,8.1,5.31,5.31,0,0,0,1,6.5,5.31,5.31,0,0,0,4.9,4.9,5.31,5.31,0,0,0,6.5,1,5.31,5.31,0,0,0,8.1,4.9,5.31,5.31,0,0,0,12,6.5,5.46,5.46,0,0,0,6.5,12Z\"/>\n",
              "  </svg>\n",
              "    </button>\n",
              "    <script>\n",
              "      (() => {\n",
              "      const buttonEl =\n",
              "        document.querySelector('#id_b23533f4-e977-4605-81a8-07bfd9756372 button.colab-df-generate');\n",
              "      buttonEl.style.display =\n",
              "        google.colab.kernel.accessAllowed ? 'block' : 'none';\n",
              "\n",
              "      buttonEl.onclick = () => {\n",
              "        google.colab.notebook.generateWithVariable('df');\n",
              "      }\n",
              "      })();\n",
              "    </script>\n",
              "  </div>\n",
              "\n",
              "    </div>\n",
              "  </div>\n"
            ],
            "application/vnd.google.colaboratory.intrinsic+json": {
              "type": "dataframe",
              "variable_name": "df"
            }
          },
          "metadata": {},
          "execution_count": 63
        }
      ]
    },
    {
      "cell_type": "code",
      "source": [
        "# Obtenemos algunas estadísticas del Dataset\n",
        "df.describe().round().T"
      ],
      "metadata": {
        "id": "9wtv4kj7U8S8",
        "collapsed": true
      },
      "execution_count": null,
      "outputs": []
    },
    {
      "cell_type": "markdown",
      "source": [
        "## **Método describe()**\n",
        "En línea general se observan datos acordes sobre todo en los indicadores. Pero debemos revisar lo siguiente:\n",
        "* Peso Bruto tiene un mínimo en 0 (cero), lo cual significa que existen algunos registros en cero\n",
        "* Peso Bruto tiene un peso máximo irreal. Debemos detectar y tratar esos registros\n",
        "* Valor Total en Pesos y Valor Total en Dolares tienen un mínimo en 0 (cero), lo cual significa que existen algunos registros en cero\n",
        "\n",
        "Esto nos permite concluir que tenemos un muy buen dataset, con una alta calidad de datos"
      ],
      "metadata": {
        "id": "wjqdyul0SJRm"
      }
    },
    {
      "cell_type": "code",
      "source": [
        "# Tratamiento de Peso Bruto Mayor a 200 KG\n",
        "limite_peso_maximo = 200\n",
        "media_peso = df.loc[df['Peso Bruto'] < limite_peso_maximo, 'Peso Bruto'].mean()\n",
        "df.loc[df['Peso Bruto'] > limite_peso_maximo, 'Peso Bruto'] = media_peso"
      ],
      "metadata": {
        "id": "EeGlSaaoHGa4"
      },
      "execution_count": null,
      "outputs": []
    },
    {
      "cell_type": "code",
      "source": [
        "# Tratamiento de Peso Bruto = 0 (cero)\n",
        "df.loc[df['Peso Bruto'] == 0, 'Peso Bruto'] = media_peso"
      ],
      "metadata": {
        "collapsed": true,
        "id": "bH-rGRUJauD6"
      },
      "execution_count": null,
      "outputs": []
    },
    {
      "cell_type": "code",
      "source": [
        "# Tratamiento de Valor Total en $ (Pesos Argentinos)\n",
        "media_pesos_ar = df.loc[df['Valor Total en Pesos'] > 0, 'Valor Total en Pesos'].mean()\n",
        "media_pesos_ar\n",
        "df.loc[df['Valor Total en Pesos'] == 0, 'Valor Total en Pesos'] = media_pesos_ar"
      ],
      "metadata": {
        "collapsed": true,
        "id": "b9mM7uhrgGMr"
      },
      "execution_count": null,
      "outputs": []
    },
    {
      "cell_type": "code",
      "source": [
        "# Tratamiento de Valor Total en u$s (Dolares)\n",
        "media_dolares = df.loc[df['Valor Total en Dolares'] > 0, 'Valor Total en Dolares'].mean()\n",
        "df.loc[df['Valor Total en Dolares'] == 0, 'Valor Total en Dolares'] = media_dolares"
      ],
      "metadata": {
        "id": "Yo776f9YiFlm"
      },
      "execution_count": null,
      "outputs": []
    },
    {
      "cell_type": "markdown",
      "source": [
        "# Análisis Exploratorio de Datos (EDA)"
      ],
      "metadata": {
        "id": "Z-pMZkLcZUgL"
      }
    },
    {
      "cell_type": "code",
      "source": [
        "# Obtenemos meta información de la estructura del DataFrame\n",
        "df.shape"
      ],
      "metadata": {
        "id": "O9_bZeF9PfM7"
      },
      "execution_count": null,
      "outputs": []
    },
    {
      "cell_type": "code",
      "source": [
        "# Mostramos el Final del Dataset Principal\n",
        "df.tail(5)"
      ],
      "metadata": {
        "id": "I5fiNzVqPfM7",
        "collapsed": true
      },
      "execution_count": null,
      "outputs": []
    },
    {
      "cell_type": "code",
      "source": [
        "# Mostramos el Comienzo del Dataset Principal\n",
        "df.head(5)"
      ],
      "metadata": {
        "collapsed": true,
        "id": "Tspoc3RiPfM7"
      },
      "execution_count": null,
      "outputs": []
    },
    {
      "cell_type": "code",
      "source": [
        "# Validamos las columnas, la cantidad de datos nulos y el tipo de formato de cada columna\n",
        "df.info()"
      ],
      "metadata": {
        "collapsed": true,
        "id": "NAQ4Ed59PfM8"
      },
      "execution_count": null,
      "outputs": []
    },
    {
      "cell_type": "code",
      "source": [
        "# Antes de analizar los principales estadísticos, verificamos si nuestra estructura de datos es un dataframe\n",
        "type(df)"
      ],
      "metadata": {
        "id": "okHbhdsQPfM8",
        "collapsed": true
      },
      "execution_count": null,
      "outputs": []
    },
    {
      "cell_type": "code",
      "source": [
        "# Validación Estadisticas Preliminares\n",
        "df.describe().round(2).T\n",
        "\n",
        "# Se han corregido los datos tratados"
      ],
      "metadata": {
        "id": "iLVOpmlHPfM8",
        "collapsed": true
      },
      "execution_count": null,
      "outputs": []
    },
    {
      "cell_type": "code",
      "source": [
        "# Contamos la cantidad de numeros 0 (ceros) por columnas\n",
        "nun_missing = (df == 0).sum()\n",
        "print(nun_missing)"
      ],
      "metadata": {
        "id": "O0iBim1BPfM8",
        "collapsed": true
      },
      "execution_count": null,
      "outputs": []
    },
    {
      "cell_type": "code",
      "source": [
        "# Contamos la cantidad de Numerales (#) por columnas, ya que este caracter es el que utiliza el sistema de origen para representar los vaores en NULO\n",
        "nun_missing = (df == \"#\").sum()\n",
        "print(nun_missing)"
      ],
      "metadata": {
        "id": "oKm79hT7VzAY",
        "collapsed": true
      },
      "execution_count": null,
      "outputs": []
    },
    {
      "cell_type": "code",
      "source": [
        "# Mostramos resumen de Vaores Nulos\n",
        "df.isnull().sum()"
      ],
      "metadata": {
        "id": "zYLaR92-J1KL",
        "collapsed": true
      },
      "execution_count": null,
      "outputs": []
    },
    {
      "cell_type": "markdown",
      "source": [
        "## **Análisis Preliminar**\n",
        "* No existen valores duplicados ya que el origen de datos nos asegura que por su propia restricción de clave, que esa situación no va a ocurrir. Cabe aclarar que para este Dataset, en el sistema de origen, la clave/Id es el número de Entrega\n",
        "* El Numeral (#), en el sistema de origen de los datos, representa aquellos valores nulos. Por lo visto en este análisis preliminar, los únicos campos con datos nulos son \"Visita 1 Fecha\" y \"Hora Visita\". Es perfecto que eso así sea ya que son pedidos que aún no han sido visitados\n",
        "* Los valores de 0 (cero) en los campos del Dataset, son coherentes al 100% con el valor que representan\n",
        "* El siguiente Gráfico demuestra la gran calidad del dataset"
      ],
      "metadata": {
        "id": "th9lInoiXbW2"
      }
    },
    {
      "cell_type": "code",
      "source": [
        "# Graficamos los nulos por columna\n",
        "msno.matrix(df, figsize = (20,5))"
      ],
      "metadata": {
        "id": "U51fRN3hqVp0"
      },
      "execution_count": null,
      "outputs": []
    },
    {
      "cell_type": "markdown",
      "source": [
        "## **Análisis con gráficas**"
      ],
      "metadata": {
        "id": "UkL7Ml7AYwEm"
      }
    },
    {
      "cell_type": "code",
      "source": [
        "# Barras de Cantidad de Pedidos por Zona E-Commerce\n",
        "df_zona_agrup = df.groupby('Zona E-Commerce', as_index=False)['Entrega'].count()\n",
        "\n",
        "fig = px.bar(\n",
        "    df_zona_agrup,\n",
        "    x='Zona E-Commerce',\n",
        "    y='Entrega',\n",
        "    title='Cantidad de Pedidos x Zona',\n",
        "    labels={'Zona E-Commerce': 'Zona', 'Cantidad de Pedidos': 'Cantidad de Pedidos'},\n",
        "    color='Zona E-Commerce',  # Colorear las barras en función del salario\n",
        "    width = 800,\n",
        "    height = 400,\n",
        "    color_discrete_map = {\n",
        "        'AMBA': '#7FD4C1',\n",
        "        'BALA': '#30BFDD',\n",
        "        'CUYO': '#8690FF',\n",
        "        'GBA': '#ACD0F4',\n",
        "        'LINO': '#F7C0BB',\n",
        "        'LISU': '#F8D0BB',\n",
        "        'MEDI': '#F9A0BB',\n",
        "        'NOA': '#D750BA',\n",
        "        'PATAGONIA': '#A2C0BB'\n",
        "\n",
        "        }\n",
        ")\n",
        "\n",
        "\n",
        "fig.update_traces(\n",
        "    textposition='inside',  # Posición de los valores (texto) en las barras\n",
        "    marker_line_color= None,  # Color del borde de las barras\n",
        "    marker_line_width=1.5       # Grosor del borde de las barras\n",
        ")\n",
        "\n",
        "fig.update_layout(\n",
        "    #xaxis_title='Categorías',\n",
        "    #yaxis_title='Ventas Totales',\n",
        "    #template='presentation',  # Tema del gráfico\n",
        "    bargap=0.0,  # Espacio entre las barras (0 a 1)\n",
        "    bargroupgap=0.1,  # Espacio entre grupos de barras\n",
        "    xaxis_title=\"Zonas\",\n",
        "    yaxis_title=\"Cantidad\"\n",
        ")\n",
        "\n",
        "fig.show()"
      ],
      "metadata": {
        "id": "98l9okOsZDKm"
      },
      "execution_count": null,
      "outputs": []
    },
    {
      "cell_type": "code",
      "source": [
        "# Porcentaje de Pedidos por Proveedor Logístico\n",
        "df_proveedor_agrup = df.groupby('Distribuidor Sigla', as_index=False)['Entrega'].count()\n",
        "\n",
        "fig = px.pie(\n",
        "    df,\n",
        "    names ='Distribuidor Sigla',\n",
        "    values ='Entrega',\n",
        "    title='Cantidad de Pedidos x Proveedor',\n",
        "    labels={'Distribuidor Sigla': 'Dist', 'Cantidad de Pedidos': 'Cant'},\n",
        "    color='Distribuidor Sigla',  # Colorear las barras en función del salario\n",
        "    #text='Entrega',\n",
        "    width = 600,\n",
        "    height = 400,\n",
        "    color_discrete_map = {\n",
        "        'AND': '#7FD4C1',\n",
        "        'COA': '#30BFDD',\n",
        "        #'C': '#8690FF',\n",
        "        #'D': '#ACD0F4',\n",
        "        #'E': '#F7C0BB'\n",
        "        }\n",
        ")\n",
        "\n",
        "\n",
        "fig.update_traces(\n",
        "    textposition='inside',  # Posición de los valores (texto) en las barras\n",
        "    marker_line_color= None,  # Color del borde de las barras\n",
        "    marker_line_width=1.5       # Grosor del borde de las barras\n",
        ")\n",
        "\n",
        "fig.update_layout(\n",
        "    #xaxis_title='Categorías',\n",
        "    #yaxis_title='Ventas Totales',\n",
        "    #template='presentation',  # Tema del gráfico\n",
        "    bargap=0.0,  # Espacio entre las barras (0 a 1)\n",
        "    bargroupgap=0.1  # Espacio entre grupos de barras\n",
        ")\n",
        "\n",
        "fig.show()"
      ],
      "metadata": {
        "id": "vh_n9Svnd1T8"
      },
      "execution_count": null,
      "outputs": []
    },
    {
      "cell_type": "code",
      "source": [
        "# Efectividad de la Primer Visita por Proveedor y Periodo\n",
        "df_efect_prov_periodo_agrup = df.groupby(['Distribuidor Sigla','Periodo']).agg(\n",
        "    Cantidad_Pedidos = ('Entrega', 'count'),\n",
        "    Cantidad_Pedidos_Efectivos = ('Cant. Vis. y Ent. 1ra Visita', \"sum\")\n",
        ").reset_index()\n",
        "\n",
        "df_efect_prov_periodo_agrup['Efectividad'] = df_efect_prov_periodo_agrup['Cantidad_Pedidos_Efectivos']/df_efect_prov_periodo_agrup['Cantidad_Pedidos']\n",
        "\n",
        "fig = px.line(\n",
        "    df_efect_prov_periodo_agrup,\n",
        "    x = \"Periodo\",\n",
        "    y = \"Efectividad\",\n",
        "    width = 800,\n",
        "    height = 400,\n",
        "    text = df_efect_prov_periodo_agrup[\"Efectividad\"].apply(lambda x: f\"{x:.1%}\"),\n",
        "    color='Distribuidor Sigla',\n",
        "    labels={'Efectividad': \"% Efectividad\", \"Periodo\": \"Mes\"}\n",
        "    )\n",
        "\n",
        "fig.update_traces(\n",
        "    mode=\"lines+markers+text\",\n",
        "    textposition=\"top center\"\n",
        "    )\n",
        "\n",
        "fig.show()\n",
        "\n",
        "# Efectividad de la Primer Visita por Proveedor y Zona\n",
        "df_efect_prov_zona_agrup = df.groupby(['Distribuidor Sigla','Zona E-Commerce']).agg(\n",
        "    Cantidad_Pedidos_2 = ('Entrega', 'count'),\n",
        "    Cantidad_Pedidos_Efectivos_2 = ('Cant. Vis. y Ent. 1ra Visita', \"sum\")\n",
        ").reset_index()\n",
        "\n",
        "df_efect_prov_zona_agrup['Efectividad'] = df_efect_prov_zona_agrup['Cantidad_Pedidos_Efectivos_2']/df_efect_prov_zona_agrup['Cantidad_Pedidos_2']\n",
        "\n",
        "fig2 = px.line(\n",
        "    df_efect_prov_zona_agrup,\n",
        "    x = \"Zona E-Commerce\",\n",
        "    y = \"Efectividad\",\n",
        "    width = 800,\n",
        "    height = 400,\n",
        "    text = df_efect_prov_zona_agrup[\"Efectividad\"].apply(lambda x: f\"{x:.1%}\"),\n",
        "    color='Distribuidor Sigla',\n",
        "    labels={'Efectividad': \"% Efectividad\", \"Periodo\": \"Mes\"}\n",
        "    )\n",
        "\n",
        "fig2.update_traces(\n",
        "    mode=\"lines+markers+text\",\n",
        "    textposition=\"top center\"\n",
        "    )\n",
        "\n",
        "fig2.show()"
      ],
      "metadata": {
        "id": "JP73ILJvnljg"
      },
      "execution_count": null,
      "outputs": []
    },
    {
      "cell_type": "markdown",
      "source": [
        "## **Conclusiones EDA**\n",
        "Se comprueban ambas hipótesis planteadas al principio:\n",
        "* *Hipótesis 1:* La Zona Geográfica afecta a los indicadores de la Primer Visita. Por ejemplo:\n",
        "  * Se puede observar claramente la baja performance en AMBA de ambos proveedores\n",
        "  * También se observa como los dos proveedores mejoran sus números distribuyendo en la zona BALA (Buenos Aires - La Pampa)\n",
        "  * Llama también la atención que el proveedor de peor desempeño, tiene el mejor indicador de todos en la Zona GBA (Gran Buenos Aires)\n",
        "\n",
        "* *Hipótesis 2:* Los proveedores claramente tienen un desempeño distinto según las zonas\n",
        "  * Andreani tiene un comportamiento más estable/predecible a nivel nacional, incluso con el atenuante de tener un mayor volumen para distribuir\n",
        "  * Correo Argentino tiene números muchos más bajos, pero a favor de ellos se observa un crecimiento bastante sostenido a lo largo del año"
      ],
      "metadata": {
        "id": "xOhy39uh_b01"
      }
    },
    {
      "cell_type": "markdown",
      "source": [
        "# Análisis Estadístico de datos"
      ],
      "metadata": {
        "id": "tz0Q3mrnZqhK"
      }
    },
    {
      "cell_type": "code",
      "source": [
        "pedidos_mensuales =df.groupby(df['Fecha Pedido'].dt.to_period('M')).size()\n",
        "pedidos_mensuales.plot.line()"
      ],
      "metadata": {
        "id": "HWL8V3rzUKLU"
      },
      "execution_count": null,
      "outputs": []
    },
    {
      "cell_type": "markdown",
      "source": [
        "## Análisis con scipy.stats\n",
        "Es un módulo de SciPy que proporciona herramientas estadísticas muy completas para análisis de datos. Estas funciones abarcan estadística descriptiva, distribución de probabilidad, pruebas de hipótesis, estadísticas no paramétricas, y mucho más"
      ],
      "metadata": {
        "id": "tKHqTOXq55TK"
      }
    },
    {
      "cell_type": "code",
      "source": [
        "# Describe es un resumen estadístico (número de elementos, media, desviación estándar, etc.).\n",
        "scipy.stats.describe(pedidos_mensuales)"
      ],
      "metadata": {
        "id": "MzTNJW2fOQLt"
      },
      "execution_count": null,
      "outputs": []
    },
    {
      "cell_type": "code",
      "source": [
        "# Desvío Estandar: El desvío estándar es una medida estadística que indica cuánto se desvían, en promedio, los valores de\n",
        "# un conjunto de datos respecto a su media. En otras palabras, muestra la dispersión o variabilidad de los datos. Es una de\n",
        "# las métricas más comunes para evaluar la dispersión de un conjunto de datos y se expresa en las mismas unidades que los\n",
        "# datos originales\n",
        "scipy.stats.tstd(pedidos_mensuales)"
      ],
      "metadata": {
        "id": "s-g6tXc4DHTV"
      },
      "execution_count": null,
      "outputs": []
    },
    {
      "cell_type": "code",
      "source": [
        "# Media Geométrica: Calcula la media geométrica, útil cuando los datos representan tasas de cambio o proporciones\n",
        "scipy.stats.gmean(pedidos_mensuales)"
      ],
      "metadata": {
        "id": "Tpj1Zwi5PeqE"
      },
      "execution_count": null,
      "outputs": []
    },
    {
      "cell_type": "code",
      "source": [
        "# Media Armónica: Calcula la media armónica, ideal para datos en los que las tasas o razones son relevantes.\n",
        "scipy.stats.hmean(pedidos_mensuales)"
      ],
      "metadata": {
        "id": "ebnuNIV_PjeD"
      },
      "execution_count": null,
      "outputs": []
    },
    {
      "cell_type": "code",
      "source": [
        "# Media recortada: sirve para calcular la media truncada (o media recortada) de un conjunto de datos. Es una medida\n",
        "# estadística que calcula la media de los datos después de eliminar un porcentaje determinado de valores extremos (tanto\n",
        "# los más bajos como los más altos) del conjunto. Esto es útil para reducir el efecto de valores atípicos o extremos sobre\n",
        "# el promedio\n",
        "scipy.stats.trim_mean(pedidos_mensuales,0.1)"
      ],
      "metadata": {
        "id": "HB46A1Z_P41n"
      },
      "execution_count": null,
      "outputs": []
    },
    {
      "cell_type": "code",
      "source": [
        "# Moda de los datos: Encuentra el valor o valores que más se repiten en los datos\n",
        "scipy.stats.mode(pedidos_mensuales)"
      ],
      "metadata": {
        "id": "t1u32K9nP6Hk"
      },
      "execution_count": null,
      "outputs": []
    },
    {
      "cell_type": "code",
      "source": [
        "# Coeficiente de variacion: El coeficiente de variación (CV) es una medida de dispersión relativa que expresa la\n",
        "# desviación estándar como un porcentaje de la media. Se utiliza para comparar la variabilidad entre diferentes conjuntos\n",
        "# de datos, incluso si las magnitudes de las medias son muy diferentes.\n",
        "scipy.stats.variation(pedidos_mensuales)"
      ],
      "metadata": {
        "id": "YELeNp1hOVMV"
      },
      "execution_count": null,
      "outputs": []
    },
    {
      "cell_type": "code",
      "source": [
        "# Rango intercuartílico: Calcula la diferencia entre el tercer cuartil (Q3) y el primer cuartil (Q1), mostrando la\n",
        "# amplitud de los valores centrales del 50% de los datos\n",
        "scipy.stats.iqr(pedidos_mensuales)"
      ],
      "metadata": {
        "id": "GUPNNItjOXKn"
      },
      "execution_count": null,
      "outputs": []
    },
    {
      "cell_type": "code",
      "source": [
        "# Calculo del Error estandar de la media: Este valor cuantifica cuánto puede variar la media muestral con respecto a la\n",
        "# media verdadera de la población\n",
        "scipy.stats.sem(pedidos_mensuales)"
      ],
      "metadata": {
        "id": "Xvy0_vqVZoEq"
      },
      "execution_count": null,
      "outputs": []
    },
    {
      "cell_type": "code",
      "source": [
        "# Coeficiente de asimetría: Mide la asimetría de una distribución de datos en torno a su media\n",
        "scipy.stats.skew(pedidos_mensuales)"
      ],
      "metadata": {
        "id": "aigWj9BmOcxF"
      },
      "execution_count": null,
      "outputs": []
    },
    {
      "cell_type": "code",
      "source": [
        "# Curtosis de los datos: Mide la \"apuntamiento\" de la distribución en comparación con una normal\n",
        "scipy.stats.kurtosis(pedidos_mensuales)"
      ],
      "metadata": {
        "id": "mwjQKEj_RBCz"
      },
      "execution_count": null,
      "outputs": []
    },
    {
      "cell_type": "markdown",
      "source": [
        "## Análsis Univariado"
      ],
      "metadata": {
        "id": "hteUic0rZ1a5"
      }
    },
    {
      "cell_type": "markdown",
      "source": [
        "### Análisis con Gráficas"
      ],
      "metadata": {
        "id": "pjsrarIJdeNU"
      }
    },
    {
      "cell_type": "code",
      "source": [
        "variables = [\n",
        "    'Fecha Pedido', 'Hora Pedido', 'Periodo',\n",
        "    'Mes Numero', 'Trimestre Numero', 'Dias Primer Visita',\n",
        "    'Peso Bruto', 'Valor Total en Pesos', 'Valor Total en Dolares',\n",
        "    ]\n",
        "columns = 3\n",
        "filas = len(variables)\n",
        "fig, axes = plt.subplots(len(variables) //columns, columns, figsize=(30,30))\n",
        "\n",
        "for current_idx, variable in enumerate(variables):\n",
        "    i = current_idx // columns\n",
        "    j = current_idx % columns\n",
        "    sns.histplot(df[variable], ax=axes[i][j], kde=True)\n",
        "    axes[i][j].set_title(variable)\n",
        "    axes[i][j].set_xlabel(\"\")\n",
        "\n",
        "plt.tight_layout()\n",
        "\n",
        "# Implementación en Ploty\n",
        "# Funciona pero no se ve muy claro. Revisar!!!\n",
        "\n",
        "#fig = make_subplots(rows=filas //columns, cols=columns)\n",
        "#\n",
        "#for current_idx, variable in enumerate(variables):\n",
        "#    i = current_idx // columns\n",
        "#    j = current_idx % columns\n",
        "#    fig.add_trace(\n",
        "#      go.Histogram(x=df[variables], name=variable),\n",
        "#      row=i+1, col=j+1\n",
        "#    )\n",
        "#fig.update_layout(\n",
        "#    title=\"Analisis Univariado con Histogramas\",\n",
        "#    width = 1000,\n",
        "#    height = 300 * filas\n",
        "#)\n",
        "#fig.show()"
      ],
      "metadata": {
        "id": "DTgXRyZkmigU"
      },
      "execution_count": null,
      "outputs": []
    },
    {
      "cell_type": "markdown",
      "source": [
        "Las mayoría de las distribuciones anteriores tienen variables categóricas, más alla de que sean números enteros (\"Fecha Pedido\", \"Mes Numero\", etc).\n",
        "\n",
        "Las que podemos utilizar y que sean representativas son \"Dias Primera Visita\", Peso Bruto\", \"Valor Total en Pesos\" y \"Valor Total en Dolares\""
      ],
      "metadata": {
        "id": "680wAoM4S3Zg"
      }
    },
    {
      "cell_type": "code",
      "source": [
        "categorias = df['Distribuidor'].unique()\n",
        "\n",
        "def color_aleatorio():\n",
        "    r = random.randint(0, 100)  # Bajo valor de rojo\n",
        "    g = random.randint(150, 255)  # Alto valor de verde\n",
        "    b = random.randint(0, 100)  # Bajo valor de azul\n",
        "    return f\"#{r:02x}{g:02x}{b:02x}\"  # Convertir a formato hexadecimal\n",
        "\n",
        "color_discrete_map = {categoria: color_aleatorio() for categoria in categorias}\n",
        "\n",
        "fig = px.box(\n",
        "    df,\n",
        "    x='Provincia',\n",
        "    y='Peso Bruto',\n",
        "    color = 'Provincia',\n",
        "    color_discrete_map = color_discrete_map  # Asignar colores aleatorios\n",
        "    )\n",
        "\n",
        "fig.update_layout(\n",
        "    title=\"Analisis Univariado Peso Bruto por Provincia\",\n",
        "    width = 1200,\n",
        "    height = 600\n",
        ")\n",
        "\n",
        "fig.show()"
      ],
      "metadata": {
        "id": "r3peGSn16QXk"
      },
      "execution_count": null,
      "outputs": []
    },
    {
      "cell_type": "code",
      "source": [
        "categorias = df['Distribuidor'].unique()\n",
        "\n",
        "def color_aleatorio():\n",
        "    r = random.randint(0, 100)  # Bajo valor de rojo\n",
        "    g = random.randint(150, 255)  # Alto valor de verde\n",
        "    b = random.randint(0, 100)  # Bajo valor de azul\n",
        "    return f\"#{r:02x}{g:02x}{b:02x}\"  # Convertir a formato hexadecimal\n",
        "\n",
        "color_discrete_map = {categoria: color_aleatorio() for categoria in categorias}\n",
        "\n",
        "fig = px.box(\n",
        "    df,\n",
        "    x='Provincia',\n",
        "    y='Valor Total en Pesos',\n",
        "    color = 'Provincia',\n",
        "    color_discrete_map = color_discrete_map  # Asignar colores aleatorios\n",
        "\n",
        ")\n",
        "\n",
        "fig.update_layout(\n",
        "    title=\"Analisis Univariado Valor en Pesos por Provincia\",\n",
        "    width = 1200,\n",
        "    height = 600\n",
        ")\n",
        "\n",
        "fig.show()"
      ],
      "metadata": {
        "id": "aW1rrFXpBuPj"
      },
      "execution_count": null,
      "outputs": []
    },
    {
      "cell_type": "code",
      "source": [
        "categorias = df['Distribuidor'].unique()\n",
        "\n",
        "def color_aleatorio():\n",
        "    r = random.randint(0, 100)  # Bajo valor de rojo\n",
        "    g = random.randint(150, 255)  # Alto valor de verde\n",
        "    b = random.randint(0, 100)  # Bajo valor de azul\n",
        "    return f\"#{r:02x}{g:02x}{b:02x}\"  # Convertir a formato hexadecimal\n",
        "\n",
        "color_discrete_map = {categoria: color_aleatorio() for categoria in categorias}\n",
        "\n",
        "fig = px.box(\n",
        "    df,\n",
        "    x='Provincia',\n",
        "    y='Valor Total en Dolares',\n",
        "    color = 'Provincia',\n",
        "    color_discrete_map = color_discrete_map  # Asignar colores aleatorios\n",
        ")\n",
        "\n",
        "fig.update_layout(\n",
        "    title=\"Analisis Univariado Valor en Dolares por Provincia\",\n",
        "    width = 1200,\n",
        "    height = 600\n",
        ")\n",
        "\n",
        "fig.show()"
      ],
      "metadata": {
        "id": "jYR9UvRzFrAo"
      },
      "execution_count": null,
      "outputs": []
    },
    {
      "cell_type": "code",
      "source": [
        "categorias = df['Distribuidor'].unique()\n",
        "\n",
        "def color_aleatorio():\n",
        "    r = random.randint(0, 10)  # Bajo valor de rojo\n",
        "    g = random.randint(150, 255)  # Alto valor de verde\n",
        "    b = random.randint(0, 10)  # Bajo valor de azul\n",
        "    return f\"#{r:02x}{g:02x}{b:02x}\"  # Convertir a formato hexadecimal\n",
        "\n",
        "color_discrete_map = {categoria: color_aleatorio() for categoria in categorias}\n",
        "\n",
        "fig = px.box(\n",
        "    df,\n",
        "    x='Distribuidor',\n",
        "    y='Peso Bruto',\n",
        "    color = 'Distribuidor',\n",
        "    color_discrete_map = color_discrete_map  # Asignar colores aleatorios\n",
        "    )\n",
        "\n",
        "fig.update_layout(\n",
        "    title=\"Analisis Univariado Peso Bruto por Distribuidor\",\n",
        "    width = 1200,\n",
        "    height = 600\n",
        ")\n",
        "\n",
        "fig.show()"
      ],
      "metadata": {
        "id": "9xm-8EsJH4io"
      },
      "execution_count": null,
      "outputs": []
    },
    {
      "cell_type": "code",
      "source": [
        "categorias = df['Distribuidor'].unique()\n",
        "\n",
        "def color_aleatorio():\n",
        "    r = random.randint(0, 10)  # Bajo valor de rojo\n",
        "    g = random.randint(150, 255)  # Alto valor de verde\n",
        "    b = random.randint(0, 10)  # Bajo valor de azul\n",
        "    return f\"#{r:02x}{g:02x}{b:02x}\"  # Convertir a formato hexadecimal\n",
        "\n",
        "color_discrete_map = {categoria: color_aleatorio() for categoria in categorias}\n",
        "\n",
        "fig = px.box(\n",
        "    df,\n",
        "    x='Distribuidor',\n",
        "    y='Valor Total en Pesos',\n",
        "    color = 'Distribuidor',\n",
        "    color_discrete_map = color_discrete_map  # Asignar colores aleatorios\n",
        "    )\n",
        "\n",
        "fig.update_layout(\n",
        "    title=\"Analisis Univariado Valor en Pesos por Distribuidor\",\n",
        "    width = 1200,\n",
        "    height = 600\n",
        ")\n",
        "\n",
        "fig.show()"
      ],
      "metadata": {
        "id": "aFkCgW87RKI0"
      },
      "execution_count": null,
      "outputs": []
    },
    {
      "cell_type": "code",
      "source": [
        "categorias = df['Distribuidor'].unique()\n",
        "\n",
        "def color_aleatorio():\n",
        "    r = random.randint(0, 10)  # Bajo valor de rojo\n",
        "    g = random.randint(150, 255)  # Alto valor de verde\n",
        "    b = random.randint(0, 10)  # Bajo valor de azul\n",
        "    return f\"#{r:02x}{g:02x}{b:02x}\"  # Convertir a formato hexadecimal\n",
        "\n",
        "color_discrete_map = {categoria: color_aleatorio() for categoria in categorias}\n",
        "\n",
        "fig = px.box(\n",
        "    df,\n",
        "    x='Distribuidor',\n",
        "    y='Valor Total en Dolares',\n",
        "    color = 'Distribuidor',\n",
        "    color_discrete_map = color_discrete_map  # Asignar colores aleatorios\n",
        "    )\n",
        "\n",
        "fig.update_layout(\n",
        "    title=\"Analisis Univariado Valor en Dolares por Distribuidor\",\n",
        "    width = 1200,\n",
        "    height = 600\n",
        ")\n",
        "\n",
        "fig.show()"
      ],
      "metadata": {
        "id": "1JhRbFrsRp-v"
      },
      "execution_count": null,
      "outputs": []
    },
    {
      "cell_type": "markdown",
      "source": [
        "### Conclusiones\n",
        "De los boxplots analizados, vemos muchos outliers, y la conclusión es que esa situación se da porque hay distintos tipos de materiales. Para lograr gráficas con menos Outliers, se deberían separar los **TELEFONOS** de los **ACCESORIOS**."
      ],
      "metadata": {
        "id": "D--utYKeUDYj"
      }
    },
    {
      "cell_type": "markdown",
      "source": [
        "## Análsis Bivariado"
      ],
      "metadata": {
        "id": "hGeHgKcIZ7zK"
      }
    },
    {
      "cell_type": "markdown",
      "source": [
        "### Análisis con Gráficas"
      ],
      "metadata": {
        "id": "3KMA-FRWd2tn"
      }
    },
    {
      "cell_type": "code",
      "source": [
        "px.scatter(\n",
        "    df,\n",
        "    x='Valor Total en Dolares',\n",
        "    y='Valor Total en Pesos',\n",
        "    color='Distribuidor',\n",
        "    size='Peso Bruto',\n",
        "    hover_data=['Valor Total en Pesos']\n",
        ")"
      ],
      "metadata": {
        "id": "WEvisbDgY-s7"
      },
      "execution_count": null,
      "outputs": []
    },
    {
      "cell_type": "code",
      "source": [
        "corr_spearman = df.corr(method=\"spearman\")\n",
        "corr_spearman"
      ],
      "metadata": {
        "id": "VjX6-kcDA4rW"
      },
      "execution_count": null,
      "outputs": []
    },
    {
      "cell_type": "code",
      "source": [
        "plt.figure(figsize=(10,8))\n",
        "plt.xticks(rotation = 90)\n",
        "plt.yticks(rotation = 0)\n",
        "\n",
        "sns.heatmap(\n",
        "    df.corr(method='spearman'),\n",
        "    cbar = True,\n",
        "    square = True,\n",
        "    annot=True,\n",
        "    fmt= '.2f',\n",
        "    annot_kws={'size': 6},\n",
        "    cmap= 'coolwarm'\n",
        ")\n"
      ],
      "metadata": {
        "id": "-UqgAb1qV8CF"
      },
      "execution_count": null,
      "outputs": []
    },
    {
      "cell_type": "code",
      "source": [
        "corr_pearson = df.corr(method=\"pearson\")\n",
        "corr_pearson"
      ],
      "metadata": {
        "id": "0RdI9b6OHNX8"
      },
      "execution_count": null,
      "outputs": []
    },
    {
      "cell_type": "code",
      "source": [
        "plt.figure(figsize=(10,8))\n",
        "plt.xticks(rotation = 90)\n",
        "plt.yticks(rotation = 0)\n",
        "sns.heatmap(\n",
        "    df.corr(method='pearson'),\n",
        "    cbar = True,\n",
        "    square = True,\n",
        "    annot=True,\n",
        "    fmt= '.2f',\n",
        "    annot_kws={'size': 6},\n",
        "    cmap= 'coolwarm'\n",
        ")"
      ],
      "metadata": {
        "id": "Fg_6KgpINXmX"
      },
      "execution_count": null,
      "outputs": []
    },
    {
      "cell_type": "code",
      "source": [
        "corr_kendall = df.corr(method=\"kendall\")\n",
        "corr_kendall"
      ],
      "metadata": {
        "id": "hwF31QWuHnuO"
      },
      "execution_count": null,
      "outputs": []
    },
    {
      "cell_type": "code",
      "source": [
        "plt.figure(figsize=(10,8))\n",
        "plt.xticks(rotation = 90)\n",
        "plt.yticks(rotation = 0)\n",
        "\n",
        "sns.heatmap(\n",
        "    df.corr(method='kendall'),\n",
        "    cbar = True,\n",
        "    square = True,\n",
        "    annot=True,\n",
        "    fmt= '.2f',\n",
        "    annot_kws={'size': 6},\n",
        "    cmap= 'coolwarm'\n",
        ")"
      ],
      "metadata": {
        "id": "uKprn0WEWpA3"
      },
      "execution_count": null,
      "outputs": []
    },
    {
      "cell_type": "markdown",
      "source": [
        "### Conclusiones\n",
        "* Se observa alta correlación entre el número de \"Entrega\" y las distintas clasificaciones de fecha (\"Mes Numero\", \"Trimestre Número\" y \"Semestre\"). Es algo totalmente casual (no causal). El número de \"Entrega\" es incremental. Con lo cual, como el promedio mensual de las mismas mensual es bastante promedio (90k para todos los canales, con un mínimo de 80k y máximo de 120k)\n",
        "* Del punto anterior también se desprende, el por qué de que la correlación entre ellas también sea alta\n",
        "* Se observa también una muy fuerte correlación entre el valor de cada \"Entrega\" en Pesos Argentinos y Dólares. Esto si se puede ver como algo causal, ya que a mayor cantidad de pesos, siempre vamos a poder convertir una mayor cantidad de Dólares\n",
        "* Se observa una correlación intermedia o moderada entre el \"cantidad de Celulares\" de las \"Entregas\" y el \"Peso Bruto\", \"Valor Total en Pesos\" y \"Valor Total en Dolares\" que hay en cada una de ellas\n",
        "* Las correlaciones más débiles se da entre \"Días Primera Visita\" y \"Puntualidad Primera Visita\". Eso es totalmente lógico, porque mientras más días se tarda en visitar un cliente, menos probabilidad existe de que la puntualidad se cumpla\n"
      ],
      "metadata": {
        "id": "13YUHv9gcZDo"
      }
    },
    {
      "cell_type": "markdown",
      "source": [
        "## Análisis Multivariado"
      ],
      "metadata": {
        "id": "8dvaha2faAUA"
      }
    },
    {
      "cell_type": "markdown",
      "source": [
        "### Análisis con Gráficas"
      ],
      "metadata": {
        "id": "ntmOfduRv5Er"
      }
    },
    {
      "cell_type": "code",
      "source": [
        "plt.figure(dpi=120)\n",
        "sns.pairplot(df, hue = 'Estado Visita')\n",
        "plt.show()"
      ],
      "metadata": {
        "id": "HKchv9fPv1BC",
        "outputId": "f32b10b5-036f-43b9-a60e-19010d5ef5fd",
        "colab": {
          "base_uri": "https://localhost:8080/",
          "height": 758
        }
      },
      "execution_count": 60,
      "outputs": [
        {
          "output_type": "error",
          "ename": "KeyboardInterrupt",
          "evalue": "",
          "traceback": [
            "\u001b[0;31m---------------------------------------------------------------------------\u001b[0m",
            "\u001b[0;31mKeyboardInterrupt\u001b[0m                         Traceback (most recent call last)",
            "\u001b[0;32m<ipython-input-60-05a3b5102d1b>\u001b[0m in \u001b[0;36m<cell line: 2>\u001b[0;34m()\u001b[0m\n\u001b[1;32m      1\u001b[0m \u001b[0mplt\u001b[0m\u001b[0;34m.\u001b[0m\u001b[0mfigure\u001b[0m\u001b[0;34m(\u001b[0m\u001b[0mdpi\u001b[0m\u001b[0;34m=\u001b[0m\u001b[0;36m120\u001b[0m\u001b[0;34m)\u001b[0m\u001b[0;34m\u001b[0m\u001b[0;34m\u001b[0m\u001b[0m\n\u001b[0;32m----> 2\u001b[0;31m \u001b[0msns\u001b[0m\u001b[0;34m.\u001b[0m\u001b[0mpairplot\u001b[0m\u001b[0;34m(\u001b[0m\u001b[0mdf\u001b[0m\u001b[0;34m,\u001b[0m \u001b[0mhue\u001b[0m \u001b[0;34m=\u001b[0m \u001b[0;34m'Estado Visita'\u001b[0m\u001b[0;34m)\u001b[0m\u001b[0;34m\u001b[0m\u001b[0;34m\u001b[0m\u001b[0m\n\u001b[0m\u001b[1;32m      3\u001b[0m \u001b[0mplt\u001b[0m\u001b[0;34m.\u001b[0m\u001b[0mshow\u001b[0m\u001b[0;34m(\u001b[0m\u001b[0;34m)\u001b[0m\u001b[0;34m\u001b[0m\u001b[0;34m\u001b[0m\u001b[0m\n",
            "\u001b[0;32m/usr/local/lib/python3.10/dist-packages/seaborn/axisgrid.py\u001b[0m in \u001b[0;36mpairplot\u001b[0;34m(data, hue, hue_order, palette, vars, x_vars, y_vars, kind, diag_kind, markers, height, aspect, corner, dropna, plot_kws, diag_kws, grid_kws, size)\u001b[0m\n\u001b[1;32m   2175\u001b[0m     \u001b[0;31m# Add a legend\u001b[0m\u001b[0;34m\u001b[0m\u001b[0;34m\u001b[0m\u001b[0m\n\u001b[1;32m   2176\u001b[0m     \u001b[0;32mif\u001b[0m \u001b[0mhue\u001b[0m \u001b[0;32mis\u001b[0m \u001b[0;32mnot\u001b[0m \u001b[0;32mNone\u001b[0m\u001b[0;34m:\u001b[0m\u001b[0;34m\u001b[0m\u001b[0;34m\u001b[0m\u001b[0m\n\u001b[0;32m-> 2177\u001b[0;31m         \u001b[0mgrid\u001b[0m\u001b[0;34m.\u001b[0m\u001b[0madd_legend\u001b[0m\u001b[0;34m(\u001b[0m\u001b[0;34m)\u001b[0m\u001b[0;34m\u001b[0m\u001b[0;34m\u001b[0m\u001b[0m\n\u001b[0m\u001b[1;32m   2178\u001b[0m \u001b[0;34m\u001b[0m\u001b[0m\n\u001b[1;32m   2179\u001b[0m     \u001b[0mgrid\u001b[0m\u001b[0;34m.\u001b[0m\u001b[0mtight_layout\u001b[0m\u001b[0;34m(\u001b[0m\u001b[0;34m)\u001b[0m\u001b[0;34m\u001b[0m\u001b[0;34m\u001b[0m\u001b[0m\n",
            "\u001b[0;32m/usr/local/lib/python3.10/dist-packages/seaborn/axisgrid.py\u001b[0m in \u001b[0;36madd_legend\u001b[0;34m(self, legend_data, title, label_order, adjust_subtitles, **kwargs)\u001b[0m\n\u001b[1;32m    201\u001b[0m \u001b[0;34m\u001b[0m\u001b[0m\n\u001b[1;32m    202\u001b[0m             \u001b[0;31m# Draw the plot again to get the new transformations\u001b[0m\u001b[0;34m\u001b[0m\u001b[0;34m\u001b[0m\u001b[0m\n\u001b[0;32m--> 203\u001b[0;31m             \u001b[0m_draw_figure\u001b[0m\u001b[0;34m(\u001b[0m\u001b[0mself\u001b[0m\u001b[0;34m.\u001b[0m\u001b[0m_figure\u001b[0m\u001b[0;34m)\u001b[0m\u001b[0;34m\u001b[0m\u001b[0;34m\u001b[0m\u001b[0m\n\u001b[0m\u001b[1;32m    204\u001b[0m \u001b[0;34m\u001b[0m\u001b[0m\n\u001b[1;32m    205\u001b[0m             \u001b[0;31m# Now calculate how much space we need on the right side\u001b[0m\u001b[0;34m\u001b[0m\u001b[0;34m\u001b[0m\u001b[0m\n",
            "\u001b[0;32m/usr/local/lib/python3.10/dist-packages/seaborn/utils.py\u001b[0m in \u001b[0;36m_draw_figure\u001b[0;34m(fig)\u001b[0m\n\u001b[1;32m     59\u001b[0m     \u001b[0;34m\"\"\"Force draw of a matplotlib figure, accounting for back-compat.\"\"\"\u001b[0m\u001b[0;34m\u001b[0m\u001b[0;34m\u001b[0m\u001b[0m\n\u001b[1;32m     60\u001b[0m     \u001b[0;31m# See https://github.com/matplotlib/matplotlib/issues/19197 for context\u001b[0m\u001b[0;34m\u001b[0m\u001b[0;34m\u001b[0m\u001b[0m\n\u001b[0;32m---> 61\u001b[0;31m     \u001b[0mfig\u001b[0m\u001b[0;34m.\u001b[0m\u001b[0mcanvas\u001b[0m\u001b[0;34m.\u001b[0m\u001b[0mdraw\u001b[0m\u001b[0;34m(\u001b[0m\u001b[0;34m)\u001b[0m\u001b[0;34m\u001b[0m\u001b[0;34m\u001b[0m\u001b[0m\n\u001b[0m\u001b[1;32m     62\u001b[0m     \u001b[0;32mif\u001b[0m \u001b[0mfig\u001b[0m\u001b[0;34m.\u001b[0m\u001b[0mstale\u001b[0m\u001b[0;34m:\u001b[0m\u001b[0;34m\u001b[0m\u001b[0;34m\u001b[0m\u001b[0m\n\u001b[1;32m     63\u001b[0m         \u001b[0;32mtry\u001b[0m\u001b[0;34m:\u001b[0m\u001b[0;34m\u001b[0m\u001b[0;34m\u001b[0m\u001b[0m\n",
            "\u001b[0;32m/usr/local/lib/python3.10/dist-packages/matplotlib/backends/backend_agg.py\u001b[0m in \u001b[0;36mdraw\u001b[0;34m(self)\u001b[0m\n\u001b[1;32m    386\u001b[0m         with (self.toolbar._wait_cursor_for_draw_cm() if self.toolbar\n\u001b[1;32m    387\u001b[0m               else nullcontext()):\n\u001b[0;32m--> 388\u001b[0;31m             \u001b[0mself\u001b[0m\u001b[0;34m.\u001b[0m\u001b[0mfigure\u001b[0m\u001b[0;34m.\u001b[0m\u001b[0mdraw\u001b[0m\u001b[0;34m(\u001b[0m\u001b[0mself\u001b[0m\u001b[0;34m.\u001b[0m\u001b[0mrenderer\u001b[0m\u001b[0;34m)\u001b[0m\u001b[0;34m\u001b[0m\u001b[0;34m\u001b[0m\u001b[0m\n\u001b[0m\u001b[1;32m    389\u001b[0m             \u001b[0;31m# A GUI class may be need to update a window using this draw, so\u001b[0m\u001b[0;34m\u001b[0m\u001b[0;34m\u001b[0m\u001b[0m\n\u001b[1;32m    390\u001b[0m             \u001b[0;31m# don't forget to call the superclass.\u001b[0m\u001b[0;34m\u001b[0m\u001b[0;34m\u001b[0m\u001b[0m\n",
            "\u001b[0;32m/usr/local/lib/python3.10/dist-packages/matplotlib/artist.py\u001b[0m in \u001b[0;36mdraw_wrapper\u001b[0;34m(artist, renderer, *args, **kwargs)\u001b[0m\n\u001b[1;32m     93\u001b[0m     \u001b[0;34m@\u001b[0m\u001b[0mwraps\u001b[0m\u001b[0;34m(\u001b[0m\u001b[0mdraw\u001b[0m\u001b[0;34m)\u001b[0m\u001b[0;34m\u001b[0m\u001b[0;34m\u001b[0m\u001b[0m\n\u001b[1;32m     94\u001b[0m     \u001b[0;32mdef\u001b[0m \u001b[0mdraw_wrapper\u001b[0m\u001b[0;34m(\u001b[0m\u001b[0martist\u001b[0m\u001b[0;34m,\u001b[0m \u001b[0mrenderer\u001b[0m\u001b[0;34m,\u001b[0m \u001b[0;34m*\u001b[0m\u001b[0margs\u001b[0m\u001b[0;34m,\u001b[0m \u001b[0;34m**\u001b[0m\u001b[0mkwargs\u001b[0m\u001b[0;34m)\u001b[0m\u001b[0;34m:\u001b[0m\u001b[0;34m\u001b[0m\u001b[0;34m\u001b[0m\u001b[0m\n\u001b[0;32m---> 95\u001b[0;31m         \u001b[0mresult\u001b[0m \u001b[0;34m=\u001b[0m \u001b[0mdraw\u001b[0m\u001b[0;34m(\u001b[0m\u001b[0martist\u001b[0m\u001b[0;34m,\u001b[0m \u001b[0mrenderer\u001b[0m\u001b[0;34m,\u001b[0m \u001b[0;34m*\u001b[0m\u001b[0margs\u001b[0m\u001b[0;34m,\u001b[0m \u001b[0;34m**\u001b[0m\u001b[0mkwargs\u001b[0m\u001b[0;34m)\u001b[0m\u001b[0;34m\u001b[0m\u001b[0;34m\u001b[0m\u001b[0m\n\u001b[0m\u001b[1;32m     96\u001b[0m         \u001b[0;32mif\u001b[0m \u001b[0mrenderer\u001b[0m\u001b[0;34m.\u001b[0m\u001b[0m_rasterizing\u001b[0m\u001b[0;34m:\u001b[0m\u001b[0;34m\u001b[0m\u001b[0;34m\u001b[0m\u001b[0m\n\u001b[1;32m     97\u001b[0m             \u001b[0mrenderer\u001b[0m\u001b[0;34m.\u001b[0m\u001b[0mstop_rasterizing\u001b[0m\u001b[0;34m(\u001b[0m\u001b[0;34m)\u001b[0m\u001b[0;34m\u001b[0m\u001b[0;34m\u001b[0m\u001b[0m\n",
            "\u001b[0;32m/usr/local/lib/python3.10/dist-packages/matplotlib/artist.py\u001b[0m in \u001b[0;36mdraw_wrapper\u001b[0;34m(artist, renderer)\u001b[0m\n\u001b[1;32m     70\u001b[0m                 \u001b[0mrenderer\u001b[0m\u001b[0;34m.\u001b[0m\u001b[0mstart_filter\u001b[0m\u001b[0;34m(\u001b[0m\u001b[0;34m)\u001b[0m\u001b[0;34m\u001b[0m\u001b[0;34m\u001b[0m\u001b[0m\n\u001b[1;32m     71\u001b[0m \u001b[0;34m\u001b[0m\u001b[0m\n\u001b[0;32m---> 72\u001b[0;31m             \u001b[0;32mreturn\u001b[0m \u001b[0mdraw\u001b[0m\u001b[0;34m(\u001b[0m\u001b[0martist\u001b[0m\u001b[0;34m,\u001b[0m \u001b[0mrenderer\u001b[0m\u001b[0;34m)\u001b[0m\u001b[0;34m\u001b[0m\u001b[0;34m\u001b[0m\u001b[0m\n\u001b[0m\u001b[1;32m     73\u001b[0m         \u001b[0;32mfinally\u001b[0m\u001b[0;34m:\u001b[0m\u001b[0;34m\u001b[0m\u001b[0;34m\u001b[0m\u001b[0m\n\u001b[1;32m     74\u001b[0m             \u001b[0;32mif\u001b[0m \u001b[0martist\u001b[0m\u001b[0;34m.\u001b[0m\u001b[0mget_agg_filter\u001b[0m\u001b[0;34m(\u001b[0m\u001b[0;34m)\u001b[0m \u001b[0;32mis\u001b[0m \u001b[0;32mnot\u001b[0m \u001b[0;32mNone\u001b[0m\u001b[0;34m:\u001b[0m\u001b[0;34m\u001b[0m\u001b[0;34m\u001b[0m\u001b[0m\n",
            "\u001b[0;32m/usr/local/lib/python3.10/dist-packages/matplotlib/figure.py\u001b[0m in \u001b[0;36mdraw\u001b[0;34m(self, renderer)\u001b[0m\n\u001b[1;32m   3152\u001b[0m \u001b[0;34m\u001b[0m\u001b[0m\n\u001b[1;32m   3153\u001b[0m                 \u001b[0mself\u001b[0m\u001b[0;34m.\u001b[0m\u001b[0mpatch\u001b[0m\u001b[0;34m.\u001b[0m\u001b[0mdraw\u001b[0m\u001b[0;34m(\u001b[0m\u001b[0mrenderer\u001b[0m\u001b[0;34m)\u001b[0m\u001b[0;34m\u001b[0m\u001b[0;34m\u001b[0m\u001b[0m\n\u001b[0;32m-> 3154\u001b[0;31m                 mimage._draw_list_compositing_images(\n\u001b[0m\u001b[1;32m   3155\u001b[0m                     renderer, self, artists, self.suppressComposite)\n\u001b[1;32m   3156\u001b[0m \u001b[0;34m\u001b[0m\u001b[0m\n",
            "\u001b[0;32m/usr/local/lib/python3.10/dist-packages/matplotlib/image.py\u001b[0m in \u001b[0;36m_draw_list_compositing_images\u001b[0;34m(renderer, parent, artists, suppress_composite)\u001b[0m\n\u001b[1;32m    130\u001b[0m     \u001b[0;32mif\u001b[0m \u001b[0mnot_composite\u001b[0m \u001b[0;32mor\u001b[0m \u001b[0;32mnot\u001b[0m \u001b[0mhas_images\u001b[0m\u001b[0;34m:\u001b[0m\u001b[0;34m\u001b[0m\u001b[0;34m\u001b[0m\u001b[0m\n\u001b[1;32m    131\u001b[0m         \u001b[0;32mfor\u001b[0m \u001b[0ma\u001b[0m \u001b[0;32min\u001b[0m \u001b[0martists\u001b[0m\u001b[0;34m:\u001b[0m\u001b[0;34m\u001b[0m\u001b[0;34m\u001b[0m\u001b[0m\n\u001b[0;32m--> 132\u001b[0;31m             \u001b[0ma\u001b[0m\u001b[0;34m.\u001b[0m\u001b[0mdraw\u001b[0m\u001b[0;34m(\u001b[0m\u001b[0mrenderer\u001b[0m\u001b[0;34m)\u001b[0m\u001b[0;34m\u001b[0m\u001b[0;34m\u001b[0m\u001b[0m\n\u001b[0m\u001b[1;32m    133\u001b[0m     \u001b[0;32melse\u001b[0m\u001b[0;34m:\u001b[0m\u001b[0;34m\u001b[0m\u001b[0;34m\u001b[0m\u001b[0m\n\u001b[1;32m    134\u001b[0m         \u001b[0;31m# Composite any adjacent images together\u001b[0m\u001b[0;34m\u001b[0m\u001b[0;34m\u001b[0m\u001b[0m\n",
            "\u001b[0;32m/usr/local/lib/python3.10/dist-packages/matplotlib/artist.py\u001b[0m in \u001b[0;36mdraw_wrapper\u001b[0;34m(artist, renderer)\u001b[0m\n\u001b[1;32m     70\u001b[0m                 \u001b[0mrenderer\u001b[0m\u001b[0;34m.\u001b[0m\u001b[0mstart_filter\u001b[0m\u001b[0;34m(\u001b[0m\u001b[0;34m)\u001b[0m\u001b[0;34m\u001b[0m\u001b[0;34m\u001b[0m\u001b[0m\n\u001b[1;32m     71\u001b[0m \u001b[0;34m\u001b[0m\u001b[0m\n\u001b[0;32m---> 72\u001b[0;31m             \u001b[0;32mreturn\u001b[0m \u001b[0mdraw\u001b[0m\u001b[0;34m(\u001b[0m\u001b[0martist\u001b[0m\u001b[0;34m,\u001b[0m \u001b[0mrenderer\u001b[0m\u001b[0;34m)\u001b[0m\u001b[0;34m\u001b[0m\u001b[0;34m\u001b[0m\u001b[0m\n\u001b[0m\u001b[1;32m     73\u001b[0m         \u001b[0;32mfinally\u001b[0m\u001b[0;34m:\u001b[0m\u001b[0;34m\u001b[0m\u001b[0;34m\u001b[0m\u001b[0m\n\u001b[1;32m     74\u001b[0m             \u001b[0;32mif\u001b[0m \u001b[0martist\u001b[0m\u001b[0;34m.\u001b[0m\u001b[0mget_agg_filter\u001b[0m\u001b[0;34m(\u001b[0m\u001b[0;34m)\u001b[0m \u001b[0;32mis\u001b[0m \u001b[0;32mnot\u001b[0m \u001b[0;32mNone\u001b[0m\u001b[0;34m:\u001b[0m\u001b[0;34m\u001b[0m\u001b[0;34m\u001b[0m\u001b[0m\n",
            "\u001b[0;32m/usr/local/lib/python3.10/dist-packages/matplotlib/axes/_base.py\u001b[0m in \u001b[0;36mdraw\u001b[0;34m(self, renderer)\u001b[0m\n\u001b[1;32m   3068\u001b[0m             \u001b[0m_draw_rasterized\u001b[0m\u001b[0;34m(\u001b[0m\u001b[0mself\u001b[0m\u001b[0;34m.\u001b[0m\u001b[0mfigure\u001b[0m\u001b[0;34m,\u001b[0m \u001b[0martists_rasterized\u001b[0m\u001b[0;34m,\u001b[0m \u001b[0mrenderer\u001b[0m\u001b[0;34m)\u001b[0m\u001b[0;34m\u001b[0m\u001b[0;34m\u001b[0m\u001b[0m\n\u001b[1;32m   3069\u001b[0m \u001b[0;34m\u001b[0m\u001b[0m\n\u001b[0;32m-> 3070\u001b[0;31m         mimage._draw_list_compositing_images(\n\u001b[0m\u001b[1;32m   3071\u001b[0m             renderer, self, artists, self.figure.suppressComposite)\n\u001b[1;32m   3072\u001b[0m \u001b[0;34m\u001b[0m\u001b[0m\n",
            "\u001b[0;32m/usr/local/lib/python3.10/dist-packages/matplotlib/image.py\u001b[0m in \u001b[0;36m_draw_list_compositing_images\u001b[0;34m(renderer, parent, artists, suppress_composite)\u001b[0m\n\u001b[1;32m    130\u001b[0m     \u001b[0;32mif\u001b[0m \u001b[0mnot_composite\u001b[0m \u001b[0;32mor\u001b[0m \u001b[0;32mnot\u001b[0m \u001b[0mhas_images\u001b[0m\u001b[0;34m:\u001b[0m\u001b[0;34m\u001b[0m\u001b[0;34m\u001b[0m\u001b[0m\n\u001b[1;32m    131\u001b[0m         \u001b[0;32mfor\u001b[0m \u001b[0ma\u001b[0m \u001b[0;32min\u001b[0m \u001b[0martists\u001b[0m\u001b[0;34m:\u001b[0m\u001b[0;34m\u001b[0m\u001b[0;34m\u001b[0m\u001b[0m\n\u001b[0;32m--> 132\u001b[0;31m             \u001b[0ma\u001b[0m\u001b[0;34m.\u001b[0m\u001b[0mdraw\u001b[0m\u001b[0;34m(\u001b[0m\u001b[0mrenderer\u001b[0m\u001b[0;34m)\u001b[0m\u001b[0;34m\u001b[0m\u001b[0;34m\u001b[0m\u001b[0m\n\u001b[0m\u001b[1;32m    133\u001b[0m     \u001b[0;32melse\u001b[0m\u001b[0;34m:\u001b[0m\u001b[0;34m\u001b[0m\u001b[0;34m\u001b[0m\u001b[0m\n\u001b[1;32m    134\u001b[0m         \u001b[0;31m# Composite any adjacent images together\u001b[0m\u001b[0;34m\u001b[0m\u001b[0;34m\u001b[0m\u001b[0m\n",
            "\u001b[0;32m/usr/local/lib/python3.10/dist-packages/matplotlib/artist.py\u001b[0m in \u001b[0;36mdraw_wrapper\u001b[0;34m(artist, renderer)\u001b[0m\n\u001b[1;32m     70\u001b[0m                 \u001b[0mrenderer\u001b[0m\u001b[0;34m.\u001b[0m\u001b[0mstart_filter\u001b[0m\u001b[0;34m(\u001b[0m\u001b[0;34m)\u001b[0m\u001b[0;34m\u001b[0m\u001b[0;34m\u001b[0m\u001b[0m\n\u001b[1;32m     71\u001b[0m \u001b[0;34m\u001b[0m\u001b[0m\n\u001b[0;32m---> 72\u001b[0;31m             \u001b[0;32mreturn\u001b[0m \u001b[0mdraw\u001b[0m\u001b[0;34m(\u001b[0m\u001b[0martist\u001b[0m\u001b[0;34m,\u001b[0m \u001b[0mrenderer\u001b[0m\u001b[0;34m)\u001b[0m\u001b[0;34m\u001b[0m\u001b[0;34m\u001b[0m\u001b[0m\n\u001b[0m\u001b[1;32m     73\u001b[0m         \u001b[0;32mfinally\u001b[0m\u001b[0;34m:\u001b[0m\u001b[0;34m\u001b[0m\u001b[0;34m\u001b[0m\u001b[0m\n\u001b[1;32m     74\u001b[0m             \u001b[0;32mif\u001b[0m \u001b[0martist\u001b[0m\u001b[0;34m.\u001b[0m\u001b[0mget_agg_filter\u001b[0m\u001b[0;34m(\u001b[0m\u001b[0;34m)\u001b[0m \u001b[0;32mis\u001b[0m \u001b[0;32mnot\u001b[0m \u001b[0;32mNone\u001b[0m\u001b[0;34m:\u001b[0m\u001b[0;34m\u001b[0m\u001b[0;34m\u001b[0m\u001b[0m\n",
            "\u001b[0;32m/usr/local/lib/python3.10/dist-packages/matplotlib/collections.py\u001b[0m in \u001b[0;36mdraw\u001b[0;34m(self, renderer)\u001b[0m\n\u001b[1;32m   1003\u001b[0m     \u001b[0;32mdef\u001b[0m \u001b[0mdraw\u001b[0m\u001b[0;34m(\u001b[0m\u001b[0mself\u001b[0m\u001b[0;34m,\u001b[0m \u001b[0mrenderer\u001b[0m\u001b[0;34m)\u001b[0m\u001b[0;34m:\u001b[0m\u001b[0;34m\u001b[0m\u001b[0;34m\u001b[0m\u001b[0m\n\u001b[1;32m   1004\u001b[0m         \u001b[0mself\u001b[0m\u001b[0;34m.\u001b[0m\u001b[0mset_sizes\u001b[0m\u001b[0;34m(\u001b[0m\u001b[0mself\u001b[0m\u001b[0;34m.\u001b[0m\u001b[0m_sizes\u001b[0m\u001b[0;34m,\u001b[0m \u001b[0mself\u001b[0m\u001b[0;34m.\u001b[0m\u001b[0mfigure\u001b[0m\u001b[0;34m.\u001b[0m\u001b[0mdpi\u001b[0m\u001b[0;34m)\u001b[0m\u001b[0;34m\u001b[0m\u001b[0;34m\u001b[0m\u001b[0m\n\u001b[0;32m-> 1005\u001b[0;31m         \u001b[0msuper\u001b[0m\u001b[0;34m(\u001b[0m\u001b[0;34m)\u001b[0m\u001b[0;34m.\u001b[0m\u001b[0mdraw\u001b[0m\u001b[0;34m(\u001b[0m\u001b[0mrenderer\u001b[0m\u001b[0;34m)\u001b[0m\u001b[0;34m\u001b[0m\u001b[0;34m\u001b[0m\u001b[0m\n\u001b[0m\u001b[1;32m   1006\u001b[0m \u001b[0;34m\u001b[0m\u001b[0m\n\u001b[1;32m   1007\u001b[0m \u001b[0;34m\u001b[0m\u001b[0m\n",
            "\u001b[0;32m/usr/local/lib/python3.10/dist-packages/matplotlib/artist.py\u001b[0m in \u001b[0;36mdraw_wrapper\u001b[0;34m(artist, renderer)\u001b[0m\n\u001b[1;32m     70\u001b[0m                 \u001b[0mrenderer\u001b[0m\u001b[0;34m.\u001b[0m\u001b[0mstart_filter\u001b[0m\u001b[0;34m(\u001b[0m\u001b[0;34m)\u001b[0m\u001b[0;34m\u001b[0m\u001b[0;34m\u001b[0m\u001b[0m\n\u001b[1;32m     71\u001b[0m \u001b[0;34m\u001b[0m\u001b[0m\n\u001b[0;32m---> 72\u001b[0;31m             \u001b[0;32mreturn\u001b[0m \u001b[0mdraw\u001b[0m\u001b[0;34m(\u001b[0m\u001b[0martist\u001b[0m\u001b[0;34m,\u001b[0m \u001b[0mrenderer\u001b[0m\u001b[0;34m)\u001b[0m\u001b[0;34m\u001b[0m\u001b[0;34m\u001b[0m\u001b[0m\n\u001b[0m\u001b[1;32m     73\u001b[0m         \u001b[0;32mfinally\u001b[0m\u001b[0;34m:\u001b[0m\u001b[0;34m\u001b[0m\u001b[0;34m\u001b[0m\u001b[0m\n\u001b[1;32m     74\u001b[0m             \u001b[0;32mif\u001b[0m \u001b[0martist\u001b[0m\u001b[0;34m.\u001b[0m\u001b[0mget_agg_filter\u001b[0m\u001b[0;34m(\u001b[0m\u001b[0;34m)\u001b[0m \u001b[0;32mis\u001b[0m \u001b[0;32mnot\u001b[0m \u001b[0;32mNone\u001b[0m\u001b[0;34m:\u001b[0m\u001b[0;34m\u001b[0m\u001b[0;34m\u001b[0m\u001b[0m\n",
            "\u001b[0;32m/usr/local/lib/python3.10/dist-packages/matplotlib/collections.py\u001b[0m in \u001b[0;36mdraw\u001b[0;34m(self, renderer)\u001b[0m\n\u001b[1;32m    421\u001b[0m                     \"screen\")\n\u001b[1;32m    422\u001b[0m \u001b[0;34m\u001b[0m\u001b[0m\n\u001b[0;32m--> 423\u001b[0;31m             renderer.draw_path_collection(\n\u001b[0m\u001b[1;32m    424\u001b[0m                 \u001b[0mgc\u001b[0m\u001b[0;34m,\u001b[0m \u001b[0mtransform\u001b[0m\u001b[0;34m.\u001b[0m\u001b[0mfrozen\u001b[0m\u001b[0;34m(\u001b[0m\u001b[0;34m)\u001b[0m\u001b[0;34m,\u001b[0m \u001b[0mpaths\u001b[0m\u001b[0;34m,\u001b[0m\u001b[0;34m\u001b[0m\u001b[0;34m\u001b[0m\u001b[0m\n\u001b[1;32m    425\u001b[0m                 \u001b[0mself\u001b[0m\u001b[0;34m.\u001b[0m\u001b[0mget_transforms\u001b[0m\u001b[0;34m(\u001b[0m\u001b[0;34m)\u001b[0m\u001b[0;34m,\u001b[0m \u001b[0moffsets\u001b[0m\u001b[0;34m,\u001b[0m \u001b[0moffset_trf\u001b[0m\u001b[0;34m,\u001b[0m\u001b[0;34m\u001b[0m\u001b[0;34m\u001b[0m\u001b[0m\n",
            "\u001b[0;32m/usr/local/lib/python3.10/dist-packages/matplotlib/path.py\u001b[0m in \u001b[0;36mvertices\u001b[0;34m(self)\u001b[0m\n\u001b[1;32m    209\u001b[0m         )\n\u001b[1;32m    210\u001b[0m \u001b[0;34m\u001b[0m\u001b[0m\n\u001b[0;32m--> 211\u001b[0;31m     \u001b[0;34m@\u001b[0m\u001b[0mproperty\u001b[0m\u001b[0;34m\u001b[0m\u001b[0;34m\u001b[0m\u001b[0m\n\u001b[0m\u001b[1;32m    212\u001b[0m     \u001b[0;32mdef\u001b[0m \u001b[0mvertices\u001b[0m\u001b[0;34m(\u001b[0m\u001b[0mself\u001b[0m\u001b[0;34m)\u001b[0m\u001b[0;34m:\u001b[0m\u001b[0;34m\u001b[0m\u001b[0;34m\u001b[0m\u001b[0m\n\u001b[1;32m    213\u001b[0m         \u001b[0;34m\"\"\"The vertices of the `Path` as an (N, 2) array.\"\"\"\u001b[0m\u001b[0;34m\u001b[0m\u001b[0;34m\u001b[0m\u001b[0m\n",
            "\u001b[0;31mKeyboardInterrupt\u001b[0m: "
          ]
        },
        {
          "output_type": "display_data",
          "data": {
            "text/plain": [
              "<Figure size 768x576 with 0 Axes>"
            ]
          },
          "metadata": {}
        },
        {
          "output_type": "stream",
          "name": "stdout",
          "text": [
            "Error in callback <function flush_figures at 0x7fd44aa111b0> (for post_execute):\n"
          ]
        },
        {
          "output_type": "error",
          "ename": "KeyboardInterrupt",
          "evalue": "",
          "traceback": [
            "\u001b[0;31m---------------------------------------------------------------------------\u001b[0m",
            "\u001b[0;31mKeyboardInterrupt\u001b[0m                         Traceback (most recent call last)",
            "\u001b[0;32m/usr/local/lib/python3.10/dist-packages/matplotlib_inline/backend_inline.py\u001b[0m in \u001b[0;36mflush_figures\u001b[0;34m()\u001b[0m\n\u001b[1;32m    124\u001b[0m             \u001b[0;31m# ignore the tracking, just draw and close all figures\u001b[0m\u001b[0;34m\u001b[0m\u001b[0;34m\u001b[0m\u001b[0m\n\u001b[1;32m    125\u001b[0m             \u001b[0;32mtry\u001b[0m\u001b[0;34m:\u001b[0m\u001b[0;34m\u001b[0m\u001b[0;34m\u001b[0m\u001b[0m\n\u001b[0;32m--> 126\u001b[0;31m                 \u001b[0;32mreturn\u001b[0m \u001b[0mshow\u001b[0m\u001b[0;34m(\u001b[0m\u001b[0;32mTrue\u001b[0m\u001b[0;34m)\u001b[0m\u001b[0;34m\u001b[0m\u001b[0;34m\u001b[0m\u001b[0m\n\u001b[0m\u001b[1;32m    127\u001b[0m             \u001b[0;32mexcept\u001b[0m \u001b[0mException\u001b[0m \u001b[0;32mas\u001b[0m \u001b[0me\u001b[0m\u001b[0;34m:\u001b[0m\u001b[0;34m\u001b[0m\u001b[0;34m\u001b[0m\u001b[0m\n\u001b[1;32m    128\u001b[0m                 \u001b[0;31m# safely show traceback if in IPython, else raise\u001b[0m\u001b[0;34m\u001b[0m\u001b[0;34m\u001b[0m\u001b[0m\n",
            "\u001b[0;32m/usr/local/lib/python3.10/dist-packages/matplotlib_inline/backend_inline.py\u001b[0m in \u001b[0;36mshow\u001b[0;34m(close, block)\u001b[0m\n\u001b[1;32m     88\u001b[0m     \u001b[0;32mtry\u001b[0m\u001b[0;34m:\u001b[0m\u001b[0;34m\u001b[0m\u001b[0;34m\u001b[0m\u001b[0m\n\u001b[1;32m     89\u001b[0m         \u001b[0;32mfor\u001b[0m \u001b[0mfigure_manager\u001b[0m \u001b[0;32min\u001b[0m \u001b[0mGcf\u001b[0m\u001b[0;34m.\u001b[0m\u001b[0mget_all_fig_managers\u001b[0m\u001b[0;34m(\u001b[0m\u001b[0;34m)\u001b[0m\u001b[0;34m:\u001b[0m\u001b[0;34m\u001b[0m\u001b[0;34m\u001b[0m\u001b[0m\n\u001b[0;32m---> 90\u001b[0;31m             display(\n\u001b[0m\u001b[1;32m     91\u001b[0m                 \u001b[0mfigure_manager\u001b[0m\u001b[0;34m.\u001b[0m\u001b[0mcanvas\u001b[0m\u001b[0;34m.\u001b[0m\u001b[0mfigure\u001b[0m\u001b[0;34m,\u001b[0m\u001b[0;34m\u001b[0m\u001b[0;34m\u001b[0m\u001b[0m\n\u001b[1;32m     92\u001b[0m                 \u001b[0mmetadata\u001b[0m\u001b[0;34m=\u001b[0m\u001b[0m_fetch_figure_metadata\u001b[0m\u001b[0;34m(\u001b[0m\u001b[0mfigure_manager\u001b[0m\u001b[0;34m.\u001b[0m\u001b[0mcanvas\u001b[0m\u001b[0;34m.\u001b[0m\u001b[0mfigure\u001b[0m\u001b[0;34m)\u001b[0m\u001b[0;34m\u001b[0m\u001b[0;34m\u001b[0m\u001b[0m\n",
            "\u001b[0;32m/usr/local/lib/python3.10/dist-packages/IPython/core/display.py\u001b[0m in \u001b[0;36mdisplay\u001b[0;34m(include, exclude, metadata, transient, display_id, *objs, **kwargs)\u001b[0m\n\u001b[1;32m    318\u001b[0m             \u001b[0mpublish_display_data\u001b[0m\u001b[0;34m(\u001b[0m\u001b[0mdata\u001b[0m\u001b[0;34m=\u001b[0m\u001b[0mobj\u001b[0m\u001b[0;34m,\u001b[0m \u001b[0mmetadata\u001b[0m\u001b[0;34m=\u001b[0m\u001b[0mmetadata\u001b[0m\u001b[0;34m,\u001b[0m \u001b[0;34m**\u001b[0m\u001b[0mkwargs\u001b[0m\u001b[0;34m)\u001b[0m\u001b[0;34m\u001b[0m\u001b[0;34m\u001b[0m\u001b[0m\n\u001b[1;32m    319\u001b[0m         \u001b[0;32melse\u001b[0m\u001b[0;34m:\u001b[0m\u001b[0;34m\u001b[0m\u001b[0;34m\u001b[0m\u001b[0m\n\u001b[0;32m--> 320\u001b[0;31m             \u001b[0mformat_dict\u001b[0m\u001b[0;34m,\u001b[0m \u001b[0mmd_dict\u001b[0m \u001b[0;34m=\u001b[0m \u001b[0mformat\u001b[0m\u001b[0;34m(\u001b[0m\u001b[0mobj\u001b[0m\u001b[0;34m,\u001b[0m \u001b[0minclude\u001b[0m\u001b[0;34m=\u001b[0m\u001b[0minclude\u001b[0m\u001b[0;34m,\u001b[0m \u001b[0mexclude\u001b[0m\u001b[0;34m=\u001b[0m\u001b[0mexclude\u001b[0m\u001b[0;34m)\u001b[0m\u001b[0;34m\u001b[0m\u001b[0;34m\u001b[0m\u001b[0m\n\u001b[0m\u001b[1;32m    321\u001b[0m             \u001b[0;32mif\u001b[0m \u001b[0;32mnot\u001b[0m \u001b[0mformat_dict\u001b[0m\u001b[0;34m:\u001b[0m\u001b[0;34m\u001b[0m\u001b[0;34m\u001b[0m\u001b[0m\n\u001b[1;32m    322\u001b[0m                 \u001b[0;31m# nothing to display (e.g. _ipython_display_ took over)\u001b[0m\u001b[0;34m\u001b[0m\u001b[0;34m\u001b[0m\u001b[0m\n",
            "\u001b[0;32m/usr/local/lib/python3.10/dist-packages/IPython/core/formatters.py\u001b[0m in \u001b[0;36mformat\u001b[0;34m(self, obj, include, exclude)\u001b[0m\n\u001b[1;32m    178\u001b[0m             \u001b[0mmd\u001b[0m \u001b[0;34m=\u001b[0m \u001b[0;32mNone\u001b[0m\u001b[0;34m\u001b[0m\u001b[0;34m\u001b[0m\u001b[0m\n\u001b[1;32m    179\u001b[0m             \u001b[0;32mtry\u001b[0m\u001b[0;34m:\u001b[0m\u001b[0;34m\u001b[0m\u001b[0;34m\u001b[0m\u001b[0m\n\u001b[0;32m--> 180\u001b[0;31m                 \u001b[0mdata\u001b[0m \u001b[0;34m=\u001b[0m \u001b[0mformatter\u001b[0m\u001b[0;34m(\u001b[0m\u001b[0mobj\u001b[0m\u001b[0;34m)\u001b[0m\u001b[0;34m\u001b[0m\u001b[0;34m\u001b[0m\u001b[0m\n\u001b[0m\u001b[1;32m    181\u001b[0m             \u001b[0;32mexcept\u001b[0m\u001b[0;34m:\u001b[0m\u001b[0;34m\u001b[0m\u001b[0;34m\u001b[0m\u001b[0m\n\u001b[1;32m    182\u001b[0m                 \u001b[0;31m# FIXME: log the exception\u001b[0m\u001b[0;34m\u001b[0m\u001b[0;34m\u001b[0m\u001b[0m\n",
            "\u001b[0;32m<decorator-gen-2>\u001b[0m in \u001b[0;36m__call__\u001b[0;34m(self, obj)\u001b[0m\n",
            "\u001b[0;32m/usr/local/lib/python3.10/dist-packages/IPython/core/formatters.py\u001b[0m in \u001b[0;36mcatch_format_error\u001b[0;34m(method, self, *args, **kwargs)\u001b[0m\n\u001b[1;32m    222\u001b[0m     \u001b[0;34m\"\"\"show traceback on failed format call\"\"\"\u001b[0m\u001b[0;34m\u001b[0m\u001b[0;34m\u001b[0m\u001b[0m\n\u001b[1;32m    223\u001b[0m     \u001b[0;32mtry\u001b[0m\u001b[0;34m:\u001b[0m\u001b[0;34m\u001b[0m\u001b[0;34m\u001b[0m\u001b[0m\n\u001b[0;32m--> 224\u001b[0;31m         \u001b[0mr\u001b[0m \u001b[0;34m=\u001b[0m \u001b[0mmethod\u001b[0m\u001b[0;34m(\u001b[0m\u001b[0mself\u001b[0m\u001b[0;34m,\u001b[0m \u001b[0;34m*\u001b[0m\u001b[0margs\u001b[0m\u001b[0;34m,\u001b[0m \u001b[0;34m**\u001b[0m\u001b[0mkwargs\u001b[0m\u001b[0;34m)\u001b[0m\u001b[0;34m\u001b[0m\u001b[0;34m\u001b[0m\u001b[0m\n\u001b[0m\u001b[1;32m    225\u001b[0m     \u001b[0;32mexcept\u001b[0m \u001b[0mNotImplementedError\u001b[0m\u001b[0;34m:\u001b[0m\u001b[0;34m\u001b[0m\u001b[0;34m\u001b[0m\u001b[0m\n\u001b[1;32m    226\u001b[0m         \u001b[0;31m# don't warn on NotImplementedErrors\u001b[0m\u001b[0;34m\u001b[0m\u001b[0;34m\u001b[0m\u001b[0m\n",
            "\u001b[0;32m/usr/local/lib/python3.10/dist-packages/IPython/core/formatters.py\u001b[0m in \u001b[0;36m__call__\u001b[0;34m(self, obj)\u001b[0m\n\u001b[1;32m    339\u001b[0m                 \u001b[0;32mpass\u001b[0m\u001b[0;34m\u001b[0m\u001b[0;34m\u001b[0m\u001b[0m\n\u001b[1;32m    340\u001b[0m             \u001b[0;32melse\u001b[0m\u001b[0;34m:\u001b[0m\u001b[0;34m\u001b[0m\u001b[0;34m\u001b[0m\u001b[0m\n\u001b[0;32m--> 341\u001b[0;31m                 \u001b[0;32mreturn\u001b[0m \u001b[0mprinter\u001b[0m\u001b[0;34m(\u001b[0m\u001b[0mobj\u001b[0m\u001b[0;34m)\u001b[0m\u001b[0;34m\u001b[0m\u001b[0;34m\u001b[0m\u001b[0m\n\u001b[0m\u001b[1;32m    342\u001b[0m             \u001b[0;31m# Finally look for special method names\u001b[0m\u001b[0;34m\u001b[0m\u001b[0;34m\u001b[0m\u001b[0m\n\u001b[1;32m    343\u001b[0m             \u001b[0mmethod\u001b[0m \u001b[0;34m=\u001b[0m \u001b[0mget_real_method\u001b[0m\u001b[0;34m(\u001b[0m\u001b[0mobj\u001b[0m\u001b[0;34m,\u001b[0m \u001b[0mself\u001b[0m\u001b[0;34m.\u001b[0m\u001b[0mprint_method\u001b[0m\u001b[0;34m)\u001b[0m\u001b[0;34m\u001b[0m\u001b[0;34m\u001b[0m\u001b[0m\n",
            "\u001b[0;32m/usr/local/lib/python3.10/dist-packages/IPython/core/pylabtools.py\u001b[0m in \u001b[0;36mprint_figure\u001b[0;34m(fig, fmt, bbox_inches, base64, **kwargs)\u001b[0m\n\u001b[1;32m    149\u001b[0m         \u001b[0mFigureCanvasBase\u001b[0m\u001b[0;34m(\u001b[0m\u001b[0mfig\u001b[0m\u001b[0;34m)\u001b[0m\u001b[0;34m\u001b[0m\u001b[0;34m\u001b[0m\u001b[0m\n\u001b[1;32m    150\u001b[0m \u001b[0;34m\u001b[0m\u001b[0m\n\u001b[0;32m--> 151\u001b[0;31m     \u001b[0mfig\u001b[0m\u001b[0;34m.\u001b[0m\u001b[0mcanvas\u001b[0m\u001b[0;34m.\u001b[0m\u001b[0mprint_figure\u001b[0m\u001b[0;34m(\u001b[0m\u001b[0mbytes_io\u001b[0m\u001b[0;34m,\u001b[0m \u001b[0;34m**\u001b[0m\u001b[0mkw\u001b[0m\u001b[0;34m)\u001b[0m\u001b[0;34m\u001b[0m\u001b[0;34m\u001b[0m\u001b[0m\n\u001b[0m\u001b[1;32m    152\u001b[0m     \u001b[0mdata\u001b[0m \u001b[0;34m=\u001b[0m \u001b[0mbytes_io\u001b[0m\u001b[0;34m.\u001b[0m\u001b[0mgetvalue\u001b[0m\u001b[0;34m(\u001b[0m\u001b[0;34m)\u001b[0m\u001b[0;34m\u001b[0m\u001b[0;34m\u001b[0m\u001b[0m\n\u001b[1;32m    153\u001b[0m     \u001b[0;32mif\u001b[0m \u001b[0mfmt\u001b[0m \u001b[0;34m==\u001b[0m \u001b[0;34m'svg'\u001b[0m\u001b[0;34m:\u001b[0m\u001b[0;34m\u001b[0m\u001b[0;34m\u001b[0m\u001b[0m\n",
            "\u001b[0;32m/usr/local/lib/python3.10/dist-packages/matplotlib/backend_bases.py\u001b[0m in \u001b[0;36mprint_figure\u001b[0;34m(self, filename, dpi, facecolor, edgecolor, orientation, format, bbox_inches, pad_inches, bbox_extra_artists, backend, **kwargs)\u001b[0m\n\u001b[1;32m   2159\u001b[0m             \u001b[0;32mif\u001b[0m \u001b[0mbbox_inches\u001b[0m\u001b[0;34m:\u001b[0m\u001b[0;34m\u001b[0m\u001b[0;34m\u001b[0m\u001b[0m\n\u001b[1;32m   2160\u001b[0m                 \u001b[0;32mif\u001b[0m \u001b[0mbbox_inches\u001b[0m \u001b[0;34m==\u001b[0m \u001b[0;34m\"tight\"\u001b[0m\u001b[0;34m:\u001b[0m\u001b[0;34m\u001b[0m\u001b[0;34m\u001b[0m\u001b[0m\n\u001b[0;32m-> 2161\u001b[0;31m                     bbox_inches = self.figure.get_tightbbox(\n\u001b[0m\u001b[1;32m   2162\u001b[0m                         renderer, bbox_extra_artists=bbox_extra_artists)\n\u001b[1;32m   2163\u001b[0m                     if (isinstance(layout_engine, ConstrainedLayoutEngine) and\n",
            "\u001b[0;32m/usr/local/lib/python3.10/dist-packages/matplotlib/_api/deprecation.py\u001b[0m in \u001b[0;36mwrapper\u001b[0;34m(*args, **kwargs)\u001b[0m\n\u001b[1;32m    452\u001b[0m                 \u001b[0;34m\"parameter will become keyword-only %(removal)s.\"\u001b[0m\u001b[0;34m,\u001b[0m\u001b[0;34m\u001b[0m\u001b[0;34m\u001b[0m\u001b[0m\n\u001b[1;32m    453\u001b[0m                 name=name, obj_type=f\"parameter of {func.__name__}()\")\n\u001b[0;32m--> 454\u001b[0;31m         \u001b[0;32mreturn\u001b[0m \u001b[0mfunc\u001b[0m\u001b[0;34m(\u001b[0m\u001b[0;34m*\u001b[0m\u001b[0margs\u001b[0m\u001b[0;34m,\u001b[0m \u001b[0;34m**\u001b[0m\u001b[0mkwargs\u001b[0m\u001b[0;34m)\u001b[0m\u001b[0;34m\u001b[0m\u001b[0;34m\u001b[0m\u001b[0m\n\u001b[0m\u001b[1;32m    455\u001b[0m \u001b[0;34m\u001b[0m\u001b[0m\n\u001b[1;32m    456\u001b[0m     \u001b[0;31m# Don't modify *func*'s signature, as boilerplate.py needs it.\u001b[0m\u001b[0;34m\u001b[0m\u001b[0;34m\u001b[0m\u001b[0m\n",
            "\u001b[0;32m/usr/local/lib/python3.10/dist-packages/matplotlib/figure.py\u001b[0m in \u001b[0;36mget_tightbbox\u001b[0;34m(self, renderer, bbox_extra_artists)\u001b[0m\n\u001b[1;32m   1781\u001b[0m                 \u001b[0;31m# need this conditional....\u001b[0m\u001b[0;34m\u001b[0m\u001b[0;34m\u001b[0m\u001b[0m\n\u001b[1;32m   1782\u001b[0m                 \u001b[0;32mtry\u001b[0m\u001b[0;34m:\u001b[0m\u001b[0;34m\u001b[0m\u001b[0;34m\u001b[0m\u001b[0m\n\u001b[0;32m-> 1783\u001b[0;31m                     bbox = ax.get_tightbbox(\n\u001b[0m\u001b[1;32m   1784\u001b[0m                         renderer, bbox_extra_artists=bbox_extra_artists)\n\u001b[1;32m   1785\u001b[0m                 \u001b[0;32mexcept\u001b[0m \u001b[0mTypeError\u001b[0m\u001b[0;34m:\u001b[0m\u001b[0;34m\u001b[0m\u001b[0;34m\u001b[0m\u001b[0m\n",
            "\u001b[0;32m/usr/local/lib/python3.10/dist-packages/matplotlib/_api/deprecation.py\u001b[0m in \u001b[0;36mwrapper\u001b[0;34m(*args, **kwargs)\u001b[0m\n\u001b[1;32m    452\u001b[0m                 \u001b[0;34m\"parameter will become keyword-only %(removal)s.\"\u001b[0m\u001b[0;34m,\u001b[0m\u001b[0;34m\u001b[0m\u001b[0;34m\u001b[0m\u001b[0m\n\u001b[1;32m    453\u001b[0m                 name=name, obj_type=f\"parameter of {func.__name__}()\")\n\u001b[0;32m--> 454\u001b[0;31m         \u001b[0;32mreturn\u001b[0m \u001b[0mfunc\u001b[0m\u001b[0;34m(\u001b[0m\u001b[0;34m*\u001b[0m\u001b[0margs\u001b[0m\u001b[0;34m,\u001b[0m \u001b[0;34m**\u001b[0m\u001b[0mkwargs\u001b[0m\u001b[0;34m)\u001b[0m\u001b[0;34m\u001b[0m\u001b[0;34m\u001b[0m\u001b[0m\n\u001b[0m\u001b[1;32m    455\u001b[0m \u001b[0;34m\u001b[0m\u001b[0m\n\u001b[1;32m    456\u001b[0m     \u001b[0;31m# Don't modify *func*'s signature, as boilerplate.py needs it.\u001b[0m\u001b[0;34m\u001b[0m\u001b[0;34m\u001b[0m\u001b[0m\n",
            "\u001b[0;32m/usr/local/lib/python3.10/dist-packages/matplotlib/axes/_base.py\u001b[0m in \u001b[0;36mget_tightbbox\u001b[0;34m(self, renderer, call_axes_locator, bbox_extra_artists, for_layout_only)\u001b[0m\n\u001b[1;32m   4396\u001b[0m                 \u001b[0;32mif\u001b[0m \u001b[0mba\u001b[0m\u001b[0;34m:\u001b[0m\u001b[0;34m\u001b[0m\u001b[0;34m\u001b[0m\u001b[0m\n\u001b[1;32m   4397\u001b[0m                     \u001b[0mbb\u001b[0m\u001b[0;34m.\u001b[0m\u001b[0mappend\u001b[0m\u001b[0;34m(\u001b[0m\u001b[0mba\u001b[0m\u001b[0;34m)\u001b[0m\u001b[0;34m\u001b[0m\u001b[0;34m\u001b[0m\u001b[0m\n\u001b[0;32m-> 4398\u001b[0;31m         \u001b[0mself\u001b[0m\u001b[0;34m.\u001b[0m\u001b[0m_update_title_position\u001b[0m\u001b[0;34m(\u001b[0m\u001b[0mrenderer\u001b[0m\u001b[0;34m)\u001b[0m\u001b[0;34m\u001b[0m\u001b[0;34m\u001b[0m\u001b[0m\n\u001b[0m\u001b[1;32m   4399\u001b[0m         \u001b[0maxbbox\u001b[0m \u001b[0;34m=\u001b[0m \u001b[0mself\u001b[0m\u001b[0;34m.\u001b[0m\u001b[0mget_window_extent\u001b[0m\u001b[0;34m(\u001b[0m\u001b[0mrenderer\u001b[0m\u001b[0;34m)\u001b[0m\u001b[0;34m\u001b[0m\u001b[0;34m\u001b[0m\u001b[0m\n\u001b[1;32m   4400\u001b[0m         \u001b[0mbb\u001b[0m\u001b[0;34m.\u001b[0m\u001b[0mappend\u001b[0m\u001b[0;34m(\u001b[0m\u001b[0maxbbox\u001b[0m\u001b[0;34m)\u001b[0m\u001b[0;34m\u001b[0m\u001b[0;34m\u001b[0m\u001b[0m\n",
            "\u001b[0;32m/usr/local/lib/python3.10/dist-packages/matplotlib/axes/_base.py\u001b[0m in \u001b[0;36m_update_title_position\u001b[0;34m(self, renderer)\u001b[0m\n\u001b[1;32m   2967\u001b[0m                 if (ax.xaxis.get_ticks_position() in ['top', 'unknown']\n\u001b[1;32m   2968\u001b[0m                         or ax.xaxis.get_label_position() == 'top'):\n\u001b[0;32m-> 2969\u001b[0;31m                     \u001b[0mbb\u001b[0m \u001b[0;34m=\u001b[0m \u001b[0max\u001b[0m\u001b[0;34m.\u001b[0m\u001b[0mxaxis\u001b[0m\u001b[0;34m.\u001b[0m\u001b[0mget_tightbbox\u001b[0m\u001b[0;34m(\u001b[0m\u001b[0mrenderer\u001b[0m\u001b[0;34m)\u001b[0m\u001b[0;34m\u001b[0m\u001b[0;34m\u001b[0m\u001b[0m\n\u001b[0m\u001b[1;32m   2970\u001b[0m                 \u001b[0;32mif\u001b[0m \u001b[0mbb\u001b[0m \u001b[0;32mis\u001b[0m \u001b[0;32mNone\u001b[0m\u001b[0;34m:\u001b[0m\u001b[0;34m\u001b[0m\u001b[0;34m\u001b[0m\u001b[0m\n\u001b[1;32m   2971\u001b[0m                     \u001b[0;32mif\u001b[0m \u001b[0;34m'outline'\u001b[0m \u001b[0;32min\u001b[0m \u001b[0max\u001b[0m\u001b[0;34m.\u001b[0m\u001b[0mspines\u001b[0m\u001b[0;34m:\u001b[0m\u001b[0;34m\u001b[0m\u001b[0;34m\u001b[0m\u001b[0m\n",
            "\u001b[0;32m/usr/local/lib/python3.10/dist-packages/matplotlib/axis.py\u001b[0m in \u001b[0;36mget_tightbbox\u001b[0;34m(self, renderer, for_layout_only)\u001b[0m\n\u001b[1;32m   1332\u001b[0m         \u001b[0;32mif\u001b[0m \u001b[0mrenderer\u001b[0m \u001b[0;32mis\u001b[0m \u001b[0;32mNone\u001b[0m\u001b[0;34m:\u001b[0m\u001b[0;34m\u001b[0m\u001b[0;34m\u001b[0m\u001b[0m\n\u001b[1;32m   1333\u001b[0m             \u001b[0mrenderer\u001b[0m \u001b[0;34m=\u001b[0m \u001b[0mself\u001b[0m\u001b[0;34m.\u001b[0m\u001b[0mfigure\u001b[0m\u001b[0;34m.\u001b[0m\u001b[0m_get_renderer\u001b[0m\u001b[0;34m(\u001b[0m\u001b[0;34m)\u001b[0m\u001b[0;34m\u001b[0m\u001b[0;34m\u001b[0m\u001b[0m\n\u001b[0;32m-> 1334\u001b[0;31m         \u001b[0mticks_to_draw\u001b[0m \u001b[0;34m=\u001b[0m \u001b[0mself\u001b[0m\u001b[0;34m.\u001b[0m\u001b[0m_update_ticks\u001b[0m\u001b[0;34m(\u001b[0m\u001b[0;34m)\u001b[0m\u001b[0;34m\u001b[0m\u001b[0;34m\u001b[0m\u001b[0m\n\u001b[0m\u001b[1;32m   1335\u001b[0m \u001b[0;34m\u001b[0m\u001b[0m\n\u001b[1;32m   1336\u001b[0m         \u001b[0mself\u001b[0m\u001b[0;34m.\u001b[0m\u001b[0m_update_label_position\u001b[0m\u001b[0;34m(\u001b[0m\u001b[0mrenderer\u001b[0m\u001b[0;34m)\u001b[0m\u001b[0;34m\u001b[0m\u001b[0;34m\u001b[0m\u001b[0m\n",
            "\u001b[0;32m/usr/local/lib/python3.10/dist-packages/matplotlib/axis.py\u001b[0m in \u001b[0;36m_update_ticks\u001b[0;34m(self)\u001b[0m\n\u001b[1;32m   1273\u001b[0m         \u001b[0mthe\u001b[0m \u001b[0maxes\u001b[0m\u001b[0;34m.\u001b[0m  \u001b[0mReturn\u001b[0m \u001b[0mthe\u001b[0m \u001b[0mlist\u001b[0m \u001b[0mof\u001b[0m \u001b[0mticks\u001b[0m \u001b[0mthat\u001b[0m \u001b[0mwill\u001b[0m \u001b[0mbe\u001b[0m \u001b[0mdrawn\u001b[0m\u001b[0;34m.\u001b[0m\u001b[0;34m\u001b[0m\u001b[0;34m\u001b[0m\u001b[0m\n\u001b[1;32m   1274\u001b[0m         \"\"\"\n\u001b[0;32m-> 1275\u001b[0;31m         \u001b[0mmajor_locs\u001b[0m \u001b[0;34m=\u001b[0m \u001b[0mself\u001b[0m\u001b[0;34m.\u001b[0m\u001b[0mget_majorticklocs\u001b[0m\u001b[0;34m(\u001b[0m\u001b[0;34m)\u001b[0m\u001b[0;34m\u001b[0m\u001b[0;34m\u001b[0m\u001b[0m\n\u001b[0m\u001b[1;32m   1276\u001b[0m         \u001b[0mmajor_labels\u001b[0m \u001b[0;34m=\u001b[0m \u001b[0mself\u001b[0m\u001b[0;34m.\u001b[0m\u001b[0mmajor\u001b[0m\u001b[0;34m.\u001b[0m\u001b[0mformatter\u001b[0m\u001b[0;34m.\u001b[0m\u001b[0mformat_ticks\u001b[0m\u001b[0;34m(\u001b[0m\u001b[0mmajor_locs\u001b[0m\u001b[0;34m)\u001b[0m\u001b[0;34m\u001b[0m\u001b[0;34m\u001b[0m\u001b[0m\n\u001b[1;32m   1277\u001b[0m         \u001b[0mmajor_ticks\u001b[0m \u001b[0;34m=\u001b[0m \u001b[0mself\u001b[0m\u001b[0;34m.\u001b[0m\u001b[0mget_major_ticks\u001b[0m\u001b[0;34m(\u001b[0m\u001b[0mlen\u001b[0m\u001b[0;34m(\u001b[0m\u001b[0mmajor_locs\u001b[0m\u001b[0;34m)\u001b[0m\u001b[0;34m)\u001b[0m\u001b[0;34m\u001b[0m\u001b[0;34m\u001b[0m\u001b[0m\n",
            "\u001b[0;32m/usr/local/lib/python3.10/dist-packages/matplotlib/axis.py\u001b[0m in \u001b[0;36mget_majorticklocs\u001b[0;34m(self)\u001b[0m\n\u001b[1;32m   1493\u001b[0m     \u001b[0;32mdef\u001b[0m \u001b[0mget_majorticklocs\u001b[0m\u001b[0;34m(\u001b[0m\u001b[0mself\u001b[0m\u001b[0;34m)\u001b[0m\u001b[0;34m:\u001b[0m\u001b[0;34m\u001b[0m\u001b[0;34m\u001b[0m\u001b[0m\n\u001b[1;32m   1494\u001b[0m         \u001b[0;34m\"\"\"Return this Axis' major tick locations in data coordinates.\"\"\"\u001b[0m\u001b[0;34m\u001b[0m\u001b[0;34m\u001b[0m\u001b[0m\n\u001b[0;32m-> 1495\u001b[0;31m         \u001b[0;32mreturn\u001b[0m \u001b[0mself\u001b[0m\u001b[0;34m.\u001b[0m\u001b[0mmajor\u001b[0m\u001b[0;34m.\u001b[0m\u001b[0mlocator\u001b[0m\u001b[0;34m(\u001b[0m\u001b[0;34m)\u001b[0m\u001b[0;34m\u001b[0m\u001b[0;34m\u001b[0m\u001b[0m\n\u001b[0m\u001b[1;32m   1496\u001b[0m \u001b[0;34m\u001b[0m\u001b[0m\n\u001b[1;32m   1497\u001b[0m     \u001b[0;32mdef\u001b[0m \u001b[0mget_minorticklocs\u001b[0m\u001b[0;34m(\u001b[0m\u001b[0mself\u001b[0m\u001b[0;34m)\u001b[0m\u001b[0;34m:\u001b[0m\u001b[0;34m\u001b[0m\u001b[0;34m\u001b[0m\u001b[0m\n",
            "\u001b[0;32m/usr/local/lib/python3.10/dist-packages/matplotlib/ticker.py\u001b[0m in \u001b[0;36m__call__\u001b[0;34m(self)\u001b[0m\n\u001b[1;32m   2140\u001b[0m     \u001b[0;32mdef\u001b[0m \u001b[0m__call__\u001b[0m\u001b[0;34m(\u001b[0m\u001b[0mself\u001b[0m\u001b[0;34m)\u001b[0m\u001b[0;34m:\u001b[0m\u001b[0;34m\u001b[0m\u001b[0;34m\u001b[0m\u001b[0m\n\u001b[1;32m   2141\u001b[0m         \u001b[0mvmin\u001b[0m\u001b[0;34m,\u001b[0m \u001b[0mvmax\u001b[0m \u001b[0;34m=\u001b[0m \u001b[0mself\u001b[0m\u001b[0;34m.\u001b[0m\u001b[0maxis\u001b[0m\u001b[0;34m.\u001b[0m\u001b[0mget_view_interval\u001b[0m\u001b[0;34m(\u001b[0m\u001b[0;34m)\u001b[0m\u001b[0;34m\u001b[0m\u001b[0;34m\u001b[0m\u001b[0m\n\u001b[0;32m-> 2142\u001b[0;31m         \u001b[0;32mreturn\u001b[0m \u001b[0mself\u001b[0m\u001b[0;34m.\u001b[0m\u001b[0mtick_values\u001b[0m\u001b[0;34m(\u001b[0m\u001b[0mvmin\u001b[0m\u001b[0;34m,\u001b[0m \u001b[0mvmax\u001b[0m\u001b[0;34m)\u001b[0m\u001b[0;34m\u001b[0m\u001b[0;34m\u001b[0m\u001b[0m\n\u001b[0m\u001b[1;32m   2143\u001b[0m \u001b[0;34m\u001b[0m\u001b[0m\n\u001b[1;32m   2144\u001b[0m     \u001b[0;32mdef\u001b[0m \u001b[0mtick_values\u001b[0m\u001b[0;34m(\u001b[0m\u001b[0mself\u001b[0m\u001b[0;34m,\u001b[0m \u001b[0mvmin\u001b[0m\u001b[0;34m,\u001b[0m \u001b[0mvmax\u001b[0m\u001b[0;34m)\u001b[0m\u001b[0;34m:\u001b[0m\u001b[0;34m\u001b[0m\u001b[0;34m\u001b[0m\u001b[0m\n",
            "\u001b[0;32m/usr/local/lib/python3.10/dist-packages/matplotlib/ticker.py\u001b[0m in \u001b[0;36mtick_values\u001b[0;34m(self, vmin, vmax)\u001b[0m\n\u001b[1;32m   2148\u001b[0m         vmin, vmax = mtransforms.nonsingular(\n\u001b[1;32m   2149\u001b[0m             vmin, vmax, expander=1e-13, tiny=1e-14)\n\u001b[0;32m-> 2150\u001b[0;31m         \u001b[0mlocs\u001b[0m \u001b[0;34m=\u001b[0m \u001b[0mself\u001b[0m\u001b[0;34m.\u001b[0m\u001b[0m_raw_ticks\u001b[0m\u001b[0;34m(\u001b[0m\u001b[0mvmin\u001b[0m\u001b[0;34m,\u001b[0m \u001b[0mvmax\u001b[0m\u001b[0;34m)\u001b[0m\u001b[0;34m\u001b[0m\u001b[0;34m\u001b[0m\u001b[0m\n\u001b[0m\u001b[1;32m   2151\u001b[0m \u001b[0;34m\u001b[0m\u001b[0m\n\u001b[1;32m   2152\u001b[0m         \u001b[0mprune\u001b[0m \u001b[0;34m=\u001b[0m \u001b[0mself\u001b[0m\u001b[0;34m.\u001b[0m\u001b[0m_prune\u001b[0m\u001b[0;34m\u001b[0m\u001b[0;34m\u001b[0m\u001b[0m\n",
            "\u001b[0;32m/usr/local/lib/python3.10/dist-packages/matplotlib/ticker.py\u001b[0m in \u001b[0;36m_raw_ticks\u001b[0;34m(self, vmin, vmax)\u001b[0m\n\u001b[1;32m   2086\u001b[0m         \u001b[0;32mif\u001b[0m \u001b[0mself\u001b[0m\u001b[0;34m.\u001b[0m\u001b[0m_nbins\u001b[0m \u001b[0;34m==\u001b[0m \u001b[0;34m'auto'\u001b[0m\u001b[0;34m:\u001b[0m\u001b[0;34m\u001b[0m\u001b[0;34m\u001b[0m\u001b[0m\n\u001b[1;32m   2087\u001b[0m             \u001b[0;32mif\u001b[0m \u001b[0mself\u001b[0m\u001b[0;34m.\u001b[0m\u001b[0maxis\u001b[0m \u001b[0;32mis\u001b[0m \u001b[0;32mnot\u001b[0m \u001b[0;32mNone\u001b[0m\u001b[0;34m:\u001b[0m\u001b[0;34m\u001b[0m\u001b[0;34m\u001b[0m\u001b[0m\n\u001b[0;32m-> 2088\u001b[0;31m                 nbins = np.clip(self.axis.get_tick_space(),\n\u001b[0m\u001b[1;32m   2089\u001b[0m                                 max(1, self._min_n_ticks - 1), 9)\n\u001b[1;32m   2090\u001b[0m             \u001b[0;32melse\u001b[0m\u001b[0;34m:\u001b[0m\u001b[0;34m\u001b[0m\u001b[0;34m\u001b[0m\u001b[0m\n",
            "\u001b[0;32m/usr/local/lib/python3.10/dist-packages/matplotlib/axis.py\u001b[0m in \u001b[0;36mget_tick_space\u001b[0;34m(self)\u001b[0m\n\u001b[1;32m   2513\u001b[0m \u001b[0;34m\u001b[0m\u001b[0m\n\u001b[1;32m   2514\u001b[0m     \u001b[0;32mdef\u001b[0m \u001b[0mget_tick_space\u001b[0m\u001b[0;34m(\u001b[0m\u001b[0mself\u001b[0m\u001b[0;34m)\u001b[0m\u001b[0;34m:\u001b[0m\u001b[0;34m\u001b[0m\u001b[0;34m\u001b[0m\u001b[0m\n\u001b[0;32m-> 2515\u001b[0;31m         ends = mtransforms.Bbox.unit().transformed(\n\u001b[0m\u001b[1;32m   2516\u001b[0m             self.axes.transAxes - self.figure.dpi_scale_trans)\n\u001b[1;32m   2517\u001b[0m         \u001b[0mlength\u001b[0m \u001b[0;34m=\u001b[0m \u001b[0mends\u001b[0m\u001b[0;34m.\u001b[0m\u001b[0mwidth\u001b[0m \u001b[0;34m*\u001b[0m \u001b[0;36m72\u001b[0m\u001b[0;34m\u001b[0m\u001b[0;34m\u001b[0m\u001b[0m\n",
            "\u001b[0;32m/usr/local/lib/python3.10/dist-packages/matplotlib/transforms.py\u001b[0m in \u001b[0;36mtransformed\u001b[0;34m(self, transform)\u001b[0m\n\u001b[1;32m    466\u001b[0m         \"\"\"\n\u001b[1;32m    467\u001b[0m         \u001b[0mpts\u001b[0m \u001b[0;34m=\u001b[0m \u001b[0mself\u001b[0m\u001b[0;34m.\u001b[0m\u001b[0mget_points\u001b[0m\u001b[0;34m(\u001b[0m\u001b[0;34m)\u001b[0m\u001b[0;34m\u001b[0m\u001b[0;34m\u001b[0m\u001b[0m\n\u001b[0;32m--> 468\u001b[0;31m         ll, ul, lr = transform.transform(np.array(\n\u001b[0m\u001b[1;32m    469\u001b[0m             [pts[0], [pts[0, 0], pts[1, 1]], [pts[1, 0], pts[0, 1]]]))\n\u001b[1;32m    470\u001b[0m         \u001b[0;32mreturn\u001b[0m \u001b[0mBbox\u001b[0m\u001b[0;34m(\u001b[0m\u001b[0;34m[\u001b[0m\u001b[0mll\u001b[0m\u001b[0;34m,\u001b[0m \u001b[0;34m[\u001b[0m\u001b[0mlr\u001b[0m\u001b[0;34m[\u001b[0m\u001b[0;36m0\u001b[0m\u001b[0;34m]\u001b[0m\u001b[0;34m,\u001b[0m \u001b[0mul\u001b[0m\u001b[0;34m[\u001b[0m\u001b[0;36m1\u001b[0m\u001b[0;34m]\u001b[0m\u001b[0;34m]\u001b[0m\u001b[0;34m]\u001b[0m\u001b[0;34m)\u001b[0m\u001b[0;34m\u001b[0m\u001b[0;34m\u001b[0m\u001b[0m\n",
            "\u001b[0;32m/usr/local/lib/python3.10/dist-packages/matplotlib/transforms.py\u001b[0m in \u001b[0;36mtransform\u001b[0;34m(self, values)\u001b[0m\n\u001b[1;32m   1493\u001b[0m \u001b[0;34m\u001b[0m\u001b[0m\n\u001b[1;32m   1494\u001b[0m         \u001b[0;31m# Transform the values\u001b[0m\u001b[0;34m\u001b[0m\u001b[0;34m\u001b[0m\u001b[0m\n\u001b[0;32m-> 1495\u001b[0;31m         \u001b[0mres\u001b[0m \u001b[0;34m=\u001b[0m \u001b[0mself\u001b[0m\u001b[0;34m.\u001b[0m\u001b[0mtransform_affine\u001b[0m\u001b[0;34m(\u001b[0m\u001b[0mself\u001b[0m\u001b[0;34m.\u001b[0m\u001b[0mtransform_non_affine\u001b[0m\u001b[0;34m(\u001b[0m\u001b[0mvalues\u001b[0m\u001b[0;34m)\u001b[0m\u001b[0;34m)\u001b[0m\u001b[0;34m\u001b[0m\u001b[0;34m\u001b[0m\u001b[0m\n\u001b[0m\u001b[1;32m   1496\u001b[0m \u001b[0;34m\u001b[0m\u001b[0m\n\u001b[1;32m   1497\u001b[0m         \u001b[0;31m# Convert the result back to the shape of the input values.\u001b[0m\u001b[0;34m\u001b[0m\u001b[0;34m\u001b[0m\u001b[0m\n",
            "\u001b[0;32m/usr/local/lib/python3.10/dist-packages/matplotlib/_api/deprecation.py\u001b[0m in \u001b[0;36mwrapper\u001b[0;34m(*args, **kwargs)\u001b[0m\n\u001b[1;32m    295\u001b[0m                 f\"for the old name will be dropped %(removal)s.\")\n\u001b[1;32m    296\u001b[0m             \u001b[0mkwargs\u001b[0m\u001b[0;34m[\u001b[0m\u001b[0mnew\u001b[0m\u001b[0;34m]\u001b[0m \u001b[0;34m=\u001b[0m \u001b[0mkwargs\u001b[0m\u001b[0;34m.\u001b[0m\u001b[0mpop\u001b[0m\u001b[0;34m(\u001b[0m\u001b[0mold\u001b[0m\u001b[0;34m)\u001b[0m\u001b[0;34m\u001b[0m\u001b[0;34m\u001b[0m\u001b[0m\n\u001b[0;32m--> 297\u001b[0;31m         \u001b[0;32mreturn\u001b[0m \u001b[0mfunc\u001b[0m\u001b[0;34m(\u001b[0m\u001b[0;34m*\u001b[0m\u001b[0margs\u001b[0m\u001b[0;34m,\u001b[0m \u001b[0;34m**\u001b[0m\u001b[0mkwargs\u001b[0m\u001b[0;34m)\u001b[0m\u001b[0;34m\u001b[0m\u001b[0;34m\u001b[0m\u001b[0m\n\u001b[0m\u001b[1;32m    298\u001b[0m \u001b[0;34m\u001b[0m\u001b[0m\n\u001b[1;32m    299\u001b[0m     \u001b[0;31m# wrapper() must keep the same documented signature as func(): if we\u001b[0m\u001b[0;34m\u001b[0m\u001b[0;34m\u001b[0m\u001b[0m\n",
            "\u001b[0;32m/usr/local/lib/python3.10/dist-packages/matplotlib/transforms.py\u001b[0m in \u001b[0;36mtransform_affine\u001b[0;34m(self, values)\u001b[0m\n\u001b[1;32m   2407\u001b[0m     \u001b[0;32mdef\u001b[0m \u001b[0mtransform_affine\u001b[0m\u001b[0;34m(\u001b[0m\u001b[0mself\u001b[0m\u001b[0;34m,\u001b[0m \u001b[0mvalues\u001b[0m\u001b[0;34m)\u001b[0m\u001b[0;34m:\u001b[0m\u001b[0;34m\u001b[0m\u001b[0;34m\u001b[0m\u001b[0m\n\u001b[1;32m   2408\u001b[0m         \u001b[0;31m# docstring inherited\u001b[0m\u001b[0;34m\u001b[0m\u001b[0;34m\u001b[0m\u001b[0m\n\u001b[0;32m-> 2409\u001b[0;31m         \u001b[0;32mreturn\u001b[0m \u001b[0mself\u001b[0m\u001b[0;34m.\u001b[0m\u001b[0mget_affine\u001b[0m\u001b[0;34m(\u001b[0m\u001b[0;34m)\u001b[0m\u001b[0;34m.\u001b[0m\u001b[0mtransform\u001b[0m\u001b[0;34m(\u001b[0m\u001b[0mvalues\u001b[0m\u001b[0;34m)\u001b[0m\u001b[0;34m\u001b[0m\u001b[0;34m\u001b[0m\u001b[0m\n\u001b[0m\u001b[1;32m   2410\u001b[0m \u001b[0;34m\u001b[0m\u001b[0m\n\u001b[1;32m   2411\u001b[0m     \u001b[0;34m@\u001b[0m\u001b[0m_api\u001b[0m\u001b[0;34m.\u001b[0m\u001b[0mrename_parameter\u001b[0m\u001b[0;34m(\u001b[0m\u001b[0;34m\"3.8\"\u001b[0m\u001b[0;34m,\u001b[0m \u001b[0;34m\"points\"\u001b[0m\u001b[0;34m,\u001b[0m \u001b[0;34m\"values\"\u001b[0m\u001b[0;34m)\u001b[0m\u001b[0;34m\u001b[0m\u001b[0;34m\u001b[0m\u001b[0m\n",
            "\u001b[0;32m/usr/local/lib/python3.10/dist-packages/matplotlib/transforms.py\u001b[0m in \u001b[0;36mget_affine\u001b[0;34m(self)\u001b[0m\n\u001b[1;32m   2434\u001b[0m             \u001b[0;32mreturn\u001b[0m \u001b[0mself\u001b[0m\u001b[0;34m.\u001b[0m\u001b[0m_b\u001b[0m\u001b[0;34m.\u001b[0m\u001b[0mget_affine\u001b[0m\u001b[0;34m(\u001b[0m\u001b[0;34m)\u001b[0m\u001b[0;34m\u001b[0m\u001b[0;34m\u001b[0m\u001b[0m\n\u001b[1;32m   2435\u001b[0m         \u001b[0;32melse\u001b[0m\u001b[0;34m:\u001b[0m\u001b[0;34m\u001b[0m\u001b[0;34m\u001b[0m\u001b[0m\n\u001b[0;32m-> 2436\u001b[0;31m             return Affine2D(np.dot(self._b.get_affine().get_matrix(),\n\u001b[0m\u001b[1;32m   2437\u001b[0m                                    self._a.get_affine().get_matrix()))\n\u001b[1;32m   2438\u001b[0m \u001b[0;34m\u001b[0m\u001b[0m\n",
            "\u001b[0;32m/usr/local/lib/python3.10/dist-packages/matplotlib/transforms.py\u001b[0m in \u001b[0;36mget_matrix\u001b[0;34m(self)\u001b[0m\n\u001b[1;32m   1927\u001b[0m             np.array([a, c, e, b, d, f, 0.0, 0.0, 1.0], float).reshape((3, 3)))\n\u001b[1;32m   1928\u001b[0m \u001b[0;34m\u001b[0m\u001b[0m\n\u001b[0;32m-> 1929\u001b[0;31m     \u001b[0;32mdef\u001b[0m \u001b[0mget_matrix\u001b[0m\u001b[0;34m(\u001b[0m\u001b[0mself\u001b[0m\u001b[0;34m)\u001b[0m\u001b[0;34m:\u001b[0m\u001b[0;34m\u001b[0m\u001b[0;34m\u001b[0m\u001b[0m\n\u001b[0m\u001b[1;32m   1930\u001b[0m         \"\"\"\n\u001b[1;32m   1931\u001b[0m         \u001b[0mGet\u001b[0m \u001b[0mthe\u001b[0m \u001b[0munderlying\u001b[0m \u001b[0mtransformation\u001b[0m \u001b[0mmatrix\u001b[0m \u001b[0;32mas\u001b[0m \u001b[0ma\u001b[0m \u001b[0;36m3\u001b[0m\u001b[0mx3\u001b[0m \u001b[0marray\u001b[0m\u001b[0;34m:\u001b[0m\u001b[0;34m:\u001b[0m\u001b[0;34m\u001b[0m\u001b[0;34m\u001b[0m\u001b[0m\n",
            "\u001b[0;31mKeyboardInterrupt\u001b[0m: "
          ]
        }
      ]
    },
    {
      "cell_type": "code",
      "source": [
        "plt.figure(dpi = 120)\n",
        "sns.pairplot(df,hue = 'Cant. Vis. y Ent. 1ra Visita',palette = 'plasma')\n",
        "#plt.legend(['Cant. Vis. y Ent. 1ra Visita'])\n",
        "plt.show()"
      ],
      "metadata": {
        "id": "OA9GK2AyK4ce"
      },
      "execution_count": null,
      "outputs": []
    },
    {
      "cell_type": "markdown",
      "source": [
        "# Ingeniería de atributos"
      ],
      "metadata": {
        "id": "oah9GldXaaiq"
      }
    },
    {
      "cell_type": "markdown",
      "source": [
        "# Entrenamiento y Testeo"
      ],
      "metadata": {
        "id": "NYewbqv_anWT"
      }
    },
    {
      "cell_type": "markdown",
      "source": [
        "# Validación del Modelo"
      ],
      "metadata": {
        "id": "zSoeO4nDawAL"
      }
    },
    {
      "cell_type": "markdown",
      "source": [
        "# Optimización del Modelo"
      ],
      "metadata": {
        "id": "VbM0mBO2bDSa"
      }
    },
    {
      "cell_type": "markdown",
      "source": [
        "# Ensamble"
      ],
      "metadata": {
        "id": "oJbx8rFda5M6"
      }
    }
  ]
}